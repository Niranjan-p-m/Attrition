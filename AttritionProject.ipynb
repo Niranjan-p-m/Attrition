{
 "cells": [
  {
   "cell_type": "markdown",
   "metadata": {},
   "source": [
    "# <center><u>Prediction of Employee Attrition</u></center>\n",
    "\n",
    "\n",
    "## <u>Introduction</u>\n",
    "\n",
    "Employee Attrition is one of the important aspect for any company since employees are the valuable resources for all the companies. If it is possible for companies to predict the nature of employees from which it can be identified that whether the particular employee is going to quit the company or not and also the reasons behind employee attrition. \n",
    "\n",
    "## <u>Contents</u>\n",
    "\n",
    "- [Section 2 (Overview)](#2) Outlines our methodology. \n",
    "- [Section 3 (Data Preparation)](#3) Summarizes the data preparation process and our model evaluation strategy. \n",
    "- [Section 4 (Exploration)](#4) Exploration of the Dataset. \n",
    "- [Section 5 (Feature Selection and Ranking)](#5) Extracting important features for prediction of target \n",
    "- [Section 6 (Model Fitting & Hyperparameter Tuning)](#6) Describes the hyperparameter tuning process for each classification algorithm. \n",
    "- [Section 7 (Performance Comparison)](#7) Model performance comparison results.\n",
    "- [Section 8 (Assumptions, Limitations and Strengths)](#8) Discusses limitations, assumptions and Strengths of our approach and possible solutions. \n",
    "- [Section 9 (Summary & Conclusion)](#9) Provides a brief summary and conclusion of our work in this project."
   ]
  },
  {
   "cell_type": "markdown",
   "metadata": {},
   "source": [
    "## <u>Overview</u> <a class=\"anchor\" id=\"2\"></a> \n",
    "\n",
    "\n",
    "### Data Source\n",
    "\n",
    "* Dataset used for this project is taken from Kaggle.com https://www.kaggle.com/pavansubhasht/ibm-hr-analytics-attrition-dataset\n",
    "* This Data repository provides the Employee Attrition data which has 35 Columns and 1470 observations.\n",
    "\n",
    "### Data Description\n",
    "\n",
    "The variable descriptions below are from `Attrition.csv` file:\n",
    "\n",
    "* `Age:` continuous\n",
    "* `Attrition:` categorical: Yes,No\n",
    "* `BusinessTravel:` categorical: Travel_Rarely,Travel_Frequently,Non-Travel\n",
    "* `DailyRate:` continuous   \n",
    "* `Department:` categorical: Sales,Research & Development,Human Resources\n",
    "* `DistanceFromHome:` continuous\n",
    "* `Education:` categorical: 1 (Below College),2 (College),3 (Bachelor),4 (Master),5 (Doctor)\n",
    "* `EducationField:` categorical: Life Sciences,Other,Medical,Marketing,Technical Degree,Human Resources\n",
    "* `EmployeeCount:` continuous\n",
    "* `EmployeeNumber:` continuous\n",
    "* `EnvironmentSatisfaction:` categorical: 1 'Low',2 'Medium',3 'High',4 'Very High'\n",
    "* `Gender:`categorical: Male,Female\n",
    "* `HourlyRate:` continuous\n",
    "* `JobInvolvement:` categorical: 1 'Low',2 'Medium',3 'High',4 'Very High'\n",
    "* `JobLevel:` continuous\n",
    "* `JobRole:` categorical: Sales Executive,Research Scientist,Laboratory Technician,Manufacturing Director,Healthcare Representative,                      Manager,Sales Representative,Research Director,Human Resources\n",
    "* `JobSatisfaction:` categorical: 1 'Low',2 'Medium',3 'High',4 'Very High'\n",
    "* `MaritalStatus:` categorical: Single,Married,Divorced\n",
    "* `MonthlyIncome:` continuous\n",
    "* `MonthlyRate:` continuous\n",
    "* `NumCompaniesWorked:` continuous\n",
    "* `Over18:` Y\n",
    "* `OverTime:` Yes, No\n",
    "* `PercentSalaryHike:` continuous\n",
    "* `PerformanceRating:` categorical: 1 'Low',2 'Good',3 'Excellent',4 'Outstanding'\n",
    "* `RelationshipSatisfaction:` categorical: 1 'Low',2 'Medium',3 'High',4 'Very High'\n",
    "* `StandardHours:` continuous\n",
    "* `StockOptionLevel:` continuous\n",
    "* `TotalWorkingYears:` continuous\n",
    "* `TrainingTimesLastYear:` continuous\n",
    "* `WorkLifeBalance:` categorical: 1 'Bad',2 'Good',3 'Better,'4 'Best'\n",
    "* `YearsAtCompany:` continuous\n",
    "* `YearsInCurrentRole:` continuous\n",
    "* `YearsSinceLastPromotion:` continuous\n",
    "* `YearsWithCurrManager:` continuous\n",
    "\n",
    "\n",
    "### Project Objective\n",
    "\n",
    "* Our goal is to predict the factors that leads to Employee Attrition in a company.\n",
    "* The objective of this case study is to fit and compare five different classifiers to predict the factors that lead to Employee Attrition.\n",
    "\n",
    "### Target Feature\n",
    "\n",
    "* In this project target feature is `Attrition` which is a binary feature with values `Yes` and `No`. Since target feature is binary and the goal is to classify employee attrition so this is binary classification problem. \n",
    "\n",
    "### Methodology\n",
    " \n",
    "For this Binary classification problem following five classifiers are considered to predict the target feature.\n",
    "\n",
    "* K-Nearest Neighbors (KNN)\n",
    "* Decision trees (DT)\n",
    "* Naive Bayes (NB)\n",
    "* Random Forest (RF)\n",
    "* Support Vector Machines (SVM)\n",
    "\n",
    "#### Data Preparation:\n",
    "\n",
    "Dataset is usually in raw format so first we are processing dataset to remove any inconsistencies in the data. Data types of all the features will be checked for the correctness of data. Next we are checking for the missing values and outliers in dataset. Unique values of categorical features will be checked for any typos, extra whitespaces. Range of numerical features will be checked to perform sanity check and identify any inconsistencies in data.\n",
    "\n",
    "#### Data Exploration:\n",
    "\n",
    "Once data is prcossed then in data exploration part will try to get some meaningful insights from the data. In this part one variable, two variable and three variable plot are plotted to understand the data and how descriptive features are related to target feature. For plotting categorical features bar charts are used, for categorical and numerical pair boxplot is used to obatain relationship between features.\n",
    "\n",
    "#### Data Modelling:\n",
    "\n",
    "In this part first the data is transformed using encoding and scaling techniques. For encoding nominal features one hot encoding is used, for ordinal features integer encoding is used, target feature is encoded in such a way that positive class is encoded as 1 since this is binary classification problem. To make sure that all the features are in same range they are normalized using Min Max Scaler.\n",
    "\n",
    "To compare different model performances hold out sampling method is used in which we split the dataset into training and test sets with a 70:30 ratio. Since the ratio of target feature is not balanced, stratification is used to distribute the data proportionally within train and test datasets.\n",
    "\n",
    "- The 70% i.e. 1029 rows of data are used during the hyperparameter tuning phase which is called the **training data**.\n",
    "- The 30% i.e. 441 rows of data are used during the performance comparison phase which is called the **test data**.\n",
    "\n",
    "#### Feature Selection and Ranking:\n",
    "\n",
    "In this part we will obtain ten most important features with respect to target feature. Ten most important features will be obtained using F-Score method which is one of the filter based method. \n",
    "\n",
    "#### Hyperparameter Tuning & Model Fitting:\n",
    "\n",
    "Before selecting any particular algorithm it is necessary to tune the hyperparameters from which the optimal values for hyperparameters will be obtained. All three feature selection techniques Mutual Information,F-Score and Random Forest Importance with 10, 20, 30 and full set of features are used in one pipeline along with hyperparameters of each of the algorithms. To remove any bias from the dataset we are using 5-fold stratified cross-validation technique with two repetations to tune the hyperparameters. Because of class imbalance, area under curve (AUC) performance metric is used to compare the performance to different algorithms. GridSearchCV will be used to check for all the possible combinations of hyperparameters to obtain the maximum efficiency.\n",
    "\n",
    "#### Performance Comparison:\n",
    "\n",
    "After tuning classifiers for the optimal hyperparameter values, we fit them on the test data utilizing 10-folds stratified cross-validation with two repetitions. Paired t-test will be performed to check for the statistical significance of scores. In this problem our goal is to predict the Attrition so will also take into consideration of other performance metrics such as recall."
   ]
  },
  {
   "cell_type": "markdown",
   "metadata": {},
   "source": [
    "## <u>Data Preparation</u> <a class=\"anchor\" id=\"3\"></a> \n",
    "\n",
    "### Loading Dataset & Packages "
   ]
  },
  {
   "cell_type": "markdown",
   "metadata": {},
   "source": [
    "* In this step data and basic required packages are loaded.\n",
    "* Checking shape, column names and data type of all the variables to see if the data is loaded in correct format."
   ]
  },
  {
   "cell_type": "code",
   "execution_count": 1,
   "metadata": {},
   "outputs": [
    {
     "data": {
      "text/html": [
       "<div>\n",
       "<style scoped>\n",
       "    .dataframe tbody tr th:only-of-type {\n",
       "        vertical-align: middle;\n",
       "    }\n",
       "\n",
       "    .dataframe tbody tr th {\n",
       "        vertical-align: top;\n",
       "    }\n",
       "\n",
       "    .dataframe thead th {\n",
       "        text-align: right;\n",
       "    }\n",
       "</style>\n",
       "<table border=\"1\" class=\"dataframe\">\n",
       "  <thead>\n",
       "    <tr style=\"text-align: right;\">\n",
       "      <th></th>\n",
       "      <th>Age</th>\n",
       "      <th>Attrition</th>\n",
       "      <th>BusinessTravel</th>\n",
       "      <th>DailyRate</th>\n",
       "      <th>Department</th>\n",
       "      <th>DistanceFromHome</th>\n",
       "      <th>Education</th>\n",
       "      <th>EducationField</th>\n",
       "      <th>EmployeeCount</th>\n",
       "      <th>EmployeeNumber</th>\n",
       "      <th>EnvironmentSatisfaction</th>\n",
       "      <th>Gender</th>\n",
       "      <th>HourlyRate</th>\n",
       "      <th>JobInvolvement</th>\n",
       "      <th>JobLevel</th>\n",
       "      <th>JobRole</th>\n",
       "      <th>JobSatisfaction</th>\n",
       "      <th>MaritalStatus</th>\n",
       "      <th>MonthlyIncome</th>\n",
       "      <th>MonthlyRate</th>\n",
       "      <th>NumCompaniesWorked</th>\n",
       "      <th>Over18</th>\n",
       "      <th>OverTime</th>\n",
       "      <th>PercentSalaryHike</th>\n",
       "      <th>PerformanceRating</th>\n",
       "      <th>RelationshipSatisfaction</th>\n",
       "      <th>StandardHours</th>\n",
       "      <th>StockOptionLevel</th>\n",
       "      <th>TotalWorkingYears</th>\n",
       "      <th>TrainingTimesLastYear</th>\n",
       "      <th>WorkLifeBalance</th>\n",
       "      <th>YearsAtCompany</th>\n",
       "      <th>YearsInCurrentRole</th>\n",
       "      <th>YearsSinceLastPromotion</th>\n",
       "      <th>YearsWithCurrManager</th>\n",
       "    </tr>\n",
       "  </thead>\n",
       "  <tbody>\n",
       "    <tr>\n",
       "      <th>0</th>\n",
       "      <td>18</td>\n",
       "      <td>Yes</td>\n",
       "      <td>Travel_Rarely</td>\n",
       "      <td>230</td>\n",
       "      <td>Research &amp; Development</td>\n",
       "      <td>3</td>\n",
       "      <td>3</td>\n",
       "      <td>Life Sciences</td>\n",
       "      <td>1</td>\n",
       "      <td>405</td>\n",
       "      <td>3</td>\n",
       "      <td>Male</td>\n",
       "      <td>54</td>\n",
       "      <td>3</td>\n",
       "      <td>1</td>\n",
       "      <td>Laboratory Technician</td>\n",
       "      <td>3</td>\n",
       "      <td>Single</td>\n",
       "      <td>1420</td>\n",
       "      <td>25233</td>\n",
       "      <td>1</td>\n",
       "      <td>Y</td>\n",
       "      <td>No</td>\n",
       "      <td>13</td>\n",
       "      <td>3</td>\n",
       "      <td>3</td>\n",
       "      <td>80</td>\n",
       "      <td>0</td>\n",
       "      <td>0</td>\n",
       "      <td>2</td>\n",
       "      <td>3</td>\n",
       "      <td>0</td>\n",
       "      <td>0</td>\n",
       "      <td>0</td>\n",
       "      <td>0</td>\n",
       "    </tr>\n",
       "    <tr>\n",
       "      <th>1</th>\n",
       "      <td>18</td>\n",
       "      <td>No</td>\n",
       "      <td>Travel_Rarely</td>\n",
       "      <td>812</td>\n",
       "      <td>Sales</td>\n",
       "      <td>10</td>\n",
       "      <td>3</td>\n",
       "      <td>Medical</td>\n",
       "      <td>1</td>\n",
       "      <td>411</td>\n",
       "      <td>4</td>\n",
       "      <td>Female</td>\n",
       "      <td>69</td>\n",
       "      <td>2</td>\n",
       "      <td>1</td>\n",
       "      <td>Sales Representative</td>\n",
       "      <td>3</td>\n",
       "      <td>Single</td>\n",
       "      <td>1200</td>\n",
       "      <td>9724</td>\n",
       "      <td>1</td>\n",
       "      <td>Y</td>\n",
       "      <td>No</td>\n",
       "      <td>12</td>\n",
       "      <td>3</td>\n",
       "      <td>1</td>\n",
       "      <td>80</td>\n",
       "      <td>0</td>\n",
       "      <td>0</td>\n",
       "      <td>2</td>\n",
       "      <td>3</td>\n",
       "      <td>0</td>\n",
       "      <td>0</td>\n",
       "      <td>0</td>\n",
       "      <td>0</td>\n",
       "    </tr>\n",
       "    <tr>\n",
       "      <th>2</th>\n",
       "      <td>18</td>\n",
       "      <td>Yes</td>\n",
       "      <td>Travel_Frequently</td>\n",
       "      <td>1306</td>\n",
       "      <td>Sales</td>\n",
       "      <td>5</td>\n",
       "      <td>3</td>\n",
       "      <td>Marketing</td>\n",
       "      <td>1</td>\n",
       "      <td>614</td>\n",
       "      <td>2</td>\n",
       "      <td>Male</td>\n",
       "      <td>69</td>\n",
       "      <td>3</td>\n",
       "      <td>1</td>\n",
       "      <td>Sales Representative</td>\n",
       "      <td>2</td>\n",
       "      <td>Single</td>\n",
       "      <td>1878</td>\n",
       "      <td>8059</td>\n",
       "      <td>1</td>\n",
       "      <td>Y</td>\n",
       "      <td>Yes</td>\n",
       "      <td>14</td>\n",
       "      <td>3</td>\n",
       "      <td>4</td>\n",
       "      <td>80</td>\n",
       "      <td>0</td>\n",
       "      <td>0</td>\n",
       "      <td>3</td>\n",
       "      <td>3</td>\n",
       "      <td>0</td>\n",
       "      <td>0</td>\n",
       "      <td>0</td>\n",
       "      <td>0</td>\n",
       "    </tr>\n",
       "    <tr>\n",
       "      <th>3</th>\n",
       "      <td>18</td>\n",
       "      <td>No</td>\n",
       "      <td>Non-Travel</td>\n",
       "      <td>287</td>\n",
       "      <td>Research &amp; Development</td>\n",
       "      <td>5</td>\n",
       "      <td>2</td>\n",
       "      <td>Life Sciences</td>\n",
       "      <td>1</td>\n",
       "      <td>1012</td>\n",
       "      <td>2</td>\n",
       "      <td>Male</td>\n",
       "      <td>73</td>\n",
       "      <td>3</td>\n",
       "      <td>1</td>\n",
       "      <td>Research Scientist</td>\n",
       "      <td>4</td>\n",
       "      <td>Single</td>\n",
       "      <td>1051</td>\n",
       "      <td>13493</td>\n",
       "      <td>1</td>\n",
       "      <td>Y</td>\n",
       "      <td>No</td>\n",
       "      <td>15</td>\n",
       "      <td>3</td>\n",
       "      <td>4</td>\n",
       "      <td>80</td>\n",
       "      <td>0</td>\n",
       "      <td>0</td>\n",
       "      <td>2</td>\n",
       "      <td>3</td>\n",
       "      <td>0</td>\n",
       "      <td>0</td>\n",
       "      <td>0</td>\n",
       "      <td>0</td>\n",
       "    </tr>\n",
       "    <tr>\n",
       "      <th>4</th>\n",
       "      <td>18</td>\n",
       "      <td>Yes</td>\n",
       "      <td>Non-Travel</td>\n",
       "      <td>247</td>\n",
       "      <td>Research &amp; Development</td>\n",
       "      <td>8</td>\n",
       "      <td>1</td>\n",
       "      <td>Medical</td>\n",
       "      <td>1</td>\n",
       "      <td>1156</td>\n",
       "      <td>3</td>\n",
       "      <td>Male</td>\n",
       "      <td>80</td>\n",
       "      <td>3</td>\n",
       "      <td>1</td>\n",
       "      <td>Laboratory Technician</td>\n",
       "      <td>3</td>\n",
       "      <td>Single</td>\n",
       "      <td>1904</td>\n",
       "      <td>13556</td>\n",
       "      <td>1</td>\n",
       "      <td>Y</td>\n",
       "      <td>No</td>\n",
       "      <td>12</td>\n",
       "      <td>3</td>\n",
       "      <td>4</td>\n",
       "      <td>80</td>\n",
       "      <td>0</td>\n",
       "      <td>0</td>\n",
       "      <td>0</td>\n",
       "      <td>3</td>\n",
       "      <td>0</td>\n",
       "      <td>0</td>\n",
       "      <td>0</td>\n",
       "      <td>0</td>\n",
       "    </tr>\n",
       "  </tbody>\n",
       "</table>\n",
       "</div>"
      ],
      "text/plain": [
       "   Age Attrition     BusinessTravel  DailyRate              Department  \\\n",
       "0   18       Yes      Travel_Rarely        230  Research & Development   \n",
       "1   18        No      Travel_Rarely        812                   Sales   \n",
       "2   18       Yes  Travel_Frequently       1306                   Sales   \n",
       "3   18        No         Non-Travel        287  Research & Development   \n",
       "4   18       Yes         Non-Travel        247  Research & Development   \n",
       "\n",
       "   DistanceFromHome  Education EducationField  EmployeeCount  EmployeeNumber  \\\n",
       "0                 3          3  Life Sciences              1             405   \n",
       "1                10          3        Medical              1             411   \n",
       "2                 5          3      Marketing              1             614   \n",
       "3                 5          2  Life Sciences              1            1012   \n",
       "4                 8          1        Medical              1            1156   \n",
       "\n",
       "   EnvironmentSatisfaction  Gender  HourlyRate  JobInvolvement  JobLevel  \\\n",
       "0                        3    Male          54               3         1   \n",
       "1                        4  Female          69               2         1   \n",
       "2                        2    Male          69               3         1   \n",
       "3                        2    Male          73               3         1   \n",
       "4                        3    Male          80               3         1   \n",
       "\n",
       "                 JobRole  JobSatisfaction MaritalStatus  MonthlyIncome  \\\n",
       "0  Laboratory Technician                3        Single           1420   \n",
       "1   Sales Representative                3        Single           1200   \n",
       "2   Sales Representative                2        Single           1878   \n",
       "3     Research Scientist                4        Single           1051   \n",
       "4  Laboratory Technician                3        Single           1904   \n",
       "\n",
       "   MonthlyRate  NumCompaniesWorked Over18 OverTime  PercentSalaryHike  \\\n",
       "0        25233                   1      Y       No                 13   \n",
       "1         9724                   1      Y       No                 12   \n",
       "2         8059                   1      Y      Yes                 14   \n",
       "3        13493                   1      Y       No                 15   \n",
       "4        13556                   1      Y       No                 12   \n",
       "\n",
       "   PerformanceRating  RelationshipSatisfaction  StandardHours  \\\n",
       "0                  3                         3             80   \n",
       "1                  3                         1             80   \n",
       "2                  3                         4             80   \n",
       "3                  3                         4             80   \n",
       "4                  3                         4             80   \n",
       "\n",
       "   StockOptionLevel  TotalWorkingYears  TrainingTimesLastYear  \\\n",
       "0                 0                  0                      2   \n",
       "1                 0                  0                      2   \n",
       "2                 0                  0                      3   \n",
       "3                 0                  0                      2   \n",
       "4                 0                  0                      0   \n",
       "\n",
       "   WorkLifeBalance  YearsAtCompany  YearsInCurrentRole  \\\n",
       "0                3               0                   0   \n",
       "1                3               0                   0   \n",
       "2                3               0                   0   \n",
       "3                3               0                   0   \n",
       "4                3               0                   0   \n",
       "\n",
       "   YearsSinceLastPromotion  YearsWithCurrManager  \n",
       "0                        0                     0  \n",
       "1                        0                     0  \n",
       "2                        0                     0  \n",
       "3                        0                     0  \n",
       "4                        0                     0  "
      ]
     },
     "execution_count": 1,
     "metadata": {},
     "output_type": "execute_result"
    }
   ],
   "source": [
    "#loading packages\n",
    "# Set a seed value\n",
    "seed_value = 999 \n",
    "# 1. Initialise `PYTHONHASHSEED` environment variable\n",
    "import os\n",
    "os.environ['PYTHONHASHSEED']=str(seed_value)\n",
    "# 2. Initialise Python's own pseudo-random generator\n",
    "import random\n",
    "random.seed(seed_value)\n",
    "# 3. Initialise Numpy's pseudo-random generator\n",
    "import numpy as np\n",
    "np.random.seed(seed_value)\n",
    "\n",
    "import pandas as pd\n",
    "import matplotlib.pyplot as plt\n",
    "import seaborn as sns\n",
    "import warnings\n",
    "warnings.filterwarnings('ignore')\n",
    "\n",
    "#Reading the data from the csv file.\n",
    "data = pd.read_csv('s3796753_Data.csv', header = 0)\n",
    "\n",
    "#displaying 5 observations from the dataset\n",
    "pd.set_option('display.max_columns',None)\n",
    "data.head()"
   ]
  },
  {
   "cell_type": "code",
   "execution_count": 2,
   "metadata": {},
   "outputs": [
    {
     "data": {
      "text/plain": [
       "(1470, 35)"
      ]
     },
     "execution_count": 2,
     "metadata": {},
     "output_type": "execute_result"
    }
   ],
   "source": [
    "# Checking the size of the data frame.\n",
    "data.shape"
   ]
  },
  {
   "cell_type": "code",
   "execution_count": 3,
   "metadata": {},
   "outputs": [
    {
     "data": {
      "text/plain": [
       "Age                          int64\n",
       "Attrition                   object\n",
       "BusinessTravel              object\n",
       "DailyRate                    int64\n",
       "Department                  object\n",
       "DistanceFromHome             int64\n",
       "Education                    int64\n",
       "EducationField              object\n",
       "EmployeeCount                int64\n",
       "EmployeeNumber               int64\n",
       "EnvironmentSatisfaction      int64\n",
       "Gender                      object\n",
       "HourlyRate                   int64\n",
       "JobInvolvement               int64\n",
       "JobLevel                     int64\n",
       "JobRole                     object\n",
       "JobSatisfaction              int64\n",
       "MaritalStatus               object\n",
       "MonthlyIncome                int64\n",
       "MonthlyRate                  int64\n",
       "NumCompaniesWorked           int64\n",
       "Over18                      object\n",
       "OverTime                    object\n",
       "PercentSalaryHike            int64\n",
       "PerformanceRating            int64\n",
       "RelationshipSatisfaction     int64\n",
       "StandardHours                int64\n",
       "StockOptionLevel             int64\n",
       "TotalWorkingYears            int64\n",
       "TrainingTimesLastYear        int64\n",
       "WorkLifeBalance              int64\n",
       "YearsAtCompany               int64\n",
       "YearsInCurrentRole           int64\n",
       "YearsSinceLastPromotion      int64\n",
       "YearsWithCurrManager         int64\n",
       "dtype: object"
      ]
     },
     "execution_count": 3,
     "metadata": {},
     "output_type": "execute_result"
    }
   ],
   "source": [
    "#checking data types of all the varaibles\n",
    "data.dtypes"
   ]
  },
  {
   "cell_type": "markdown",
   "metadata": {},
   "source": [
    "### Dropping Constant Features\n",
    "\n",
    "* In this step all the features which have only one unique value for all the observations are dropped since these features are not useful of analysis."
   ]
  },
  {
   "cell_type": "code",
   "execution_count": 4,
   "metadata": {},
   "outputs": [],
   "source": [
    "data = data.loc[:, data.nunique() != 1]"
   ]
  },
  {
   "cell_type": "markdown",
   "metadata": {},
   "source": [
    "### Dropping ID-Like Columns\n",
    "\n",
    "* In this step `EmployeeNumber` which is ID-like feature is dropped since this feature is irreleavent for predictions."
   ]
  },
  {
   "cell_type": "code",
   "execution_count": 5,
   "metadata": {},
   "outputs": [],
   "source": [
    "#removing id like columns\n",
    "data = data.drop(columns='EmployeeNumber')"
   ]
  },
  {
   "cell_type": "markdown",
   "metadata": {},
   "source": [
    "### Checking for Missing Values\n",
    "\n",
    "* In this step checking for any missing values in the dataset."
   ]
  },
  {
   "cell_type": "code",
   "execution_count": 6,
   "metadata": {},
   "outputs": [
    {
     "data": {
      "text/plain": [
       "Age                         0\n",
       "Attrition                   0\n",
       "BusinessTravel              0\n",
       "DailyRate                   0\n",
       "Department                  0\n",
       "DistanceFromHome            0\n",
       "Education                   0\n",
       "EducationField              0\n",
       "EnvironmentSatisfaction     0\n",
       "Gender                      0\n",
       "HourlyRate                  0\n",
       "JobInvolvement              0\n",
       "JobLevel                    0\n",
       "JobRole                     0\n",
       "JobSatisfaction             0\n",
       "MaritalStatus               0\n",
       "MonthlyIncome               0\n",
       "MonthlyRate                 0\n",
       "NumCompaniesWorked          0\n",
       "OverTime                    0\n",
       "PercentSalaryHike           0\n",
       "PerformanceRating           0\n",
       "RelationshipSatisfaction    0\n",
       "StockOptionLevel            0\n",
       "TotalWorkingYears           0\n",
       "TrainingTimesLastYear       0\n",
       "WorkLifeBalance             0\n",
       "YearsAtCompany              0\n",
       "YearsInCurrentRole          0\n",
       "YearsSinceLastPromotion     0\n",
       "YearsWithCurrManager        0\n",
       "dtype: int64"
      ]
     },
     "execution_count": 6,
     "metadata": {},
     "output_type": "execute_result"
    }
   ],
   "source": [
    "#checking for missing values\n",
    "data.isnull().sum()"
   ]
  },
  {
   "cell_type": "markdown",
   "metadata": {},
   "source": [
    "* It is observed that there are no any missing values in the dataset.\n",
    "* In Below cell will also check for any duplicate observations in the dataset."
   ]
  },
  {
   "cell_type": "markdown",
   "metadata": {},
   "source": [
    "### Checking for duplicate observations"
   ]
  },
  {
   "cell_type": "code",
   "execution_count": 7,
   "metadata": {},
   "outputs": [
    {
     "data": {
      "text/plain": [
       "<bound method Series.sum of 0       False\n",
       "1       False\n",
       "2       False\n",
       "3       False\n",
       "4       False\n",
       "        ...  \n",
       "1465    False\n",
       "1466    False\n",
       "1467    False\n",
       "1468    False\n",
       "1469    False\n",
       "Length: 1470, dtype: bool>"
      ]
     },
     "execution_count": 7,
     "metadata": {},
     "output_type": "execute_result"
    }
   ],
   "source": [
    "#checking for duplicate observations\n",
    "data.duplicated().sum"
   ]
  },
  {
   "cell_type": "markdown",
   "metadata": {},
   "source": [
    "### Checking typos, extra whitespaces and inconsistencies in categorical Features.\n",
    "\n",
    "* Let's have a look at the unique values of the categorical columns. In Pandas, string types are of data type \"object\", and usually these would be the categorical features.\n",
    "* By observing unique values in categorical features any typos or data inconsistencies can be identified."
   ]
  },
  {
   "cell_type": "code",
   "execution_count": 8,
   "metadata": {},
   "outputs": [
    {
     "name": "stdout",
     "output_type": "stream",
     "text": [
      "Column Name:Attrition\n",
      "['Yes' 'No']\n",
      "\n",
      "Column Name:BusinessTravel\n",
      "['Travel_Rarely' 'Travel_Frequently' 'Non-Travel']\n",
      "\n",
      "Column Name:Department\n",
      "['Research & Development' 'Sales' 'Human Resources']\n",
      "\n",
      "Column Name:EducationField\n",
      "['Life Sciences' 'Medical' 'Marketing' 'Technical Degree' 'Other'\n",
      " 'Human Resources']\n",
      "\n",
      "Column Name:Gender\n",
      "['Male' 'Female']\n",
      "\n",
      "Column Name:JobRole\n",
      "['Laboratory Technician' 'Sales Representative' 'Research Scientist'\n",
      " 'Human Resources' 'Manufacturing Director' 'Sales Executive'\n",
      " 'Healthcare Representative' 'Research Director' 'Manager']\n",
      "\n",
      "Column Name:MaritalStatus\n",
      "['Single' 'Divorced' 'Married']\n",
      "\n",
      "Column Name:OverTime\n",
      "['No' 'Yes']\n",
      "\n"
     ]
    }
   ],
   "source": [
    "categorical_cols = data.columns[data.dtypes == np.object].tolist()\n",
    "for col in categorical_cols:\n",
    "    print(\"Column Name:\"+col)\n",
    "    print(data[col].unique())\n",
    "    print(\"\")"
   ]
  },
  {
   "cell_type": "markdown",
   "metadata": {},
   "source": [
    "* From unique values it is observed that there are no any inconsistencies in this dataset."
   ]
  },
  {
   "cell_type": "markdown",
   "metadata": {},
   "source": [
    "### Outliers\n",
    "\n",
    "* We checked for outliers in numerical features. By observing these features it was identified that there are no any invalid outliers(noise) in the dataset. We observed that there are few high values(valid outliers) but these values are useful for predicting target as if these values are removed it will have an impact on the analysis.\n",
    "* For e.g. there is one column `NumCompaniesWorked` which has few higher values, employees who have worked for more number of companies are tend to be very less in number so these values might be useful for predicting Attrition. "
   ]
  },
  {
   "cell_type": "markdown",
   "metadata": {},
   "source": [
    "### Discretizing numerical features\n",
    "\n",
    "* `Age` column has been discretized in to three categories `young, middle_aged` and `old` for analysis.\n",
    "* Similarly `DistanceFromHome` is also discretized into three categories `near, mid_distant` and `far`.\n",
    "* `MonthlyIncome` is discritized into three categories `low_income, mid_income` and `high_income`.\n",
    "* These three features are discritized because for predicting Attrition, because information such as whether employee has low income or high income is used rather than actual income value. Same for Age and DistanceFromHome."
   ]
  },
  {
   "cell_type": "code",
   "execution_count": 9,
   "metadata": {},
   "outputs": [],
   "source": [
    "#discretizing numerical features\n",
    "data['Age'] = pd.qcut(data['Age'], q=3,labels=['young', 'middle_aged', 'old'])\n",
    "data['DistanceFromHome'] = pd.qcut(data['DistanceFromHome'], q=3,labels=['near', 'mid_distant', 'far'])\n",
    "data['MonthlyIncome'] = pd.qcut(data['MonthlyIncome'], q=3,labels=['low_income', 'mid_income', 'high_income'])"
   ]
  },
  {
   "cell_type": "markdown",
   "metadata": {},
   "source": [
    "Target variable is pushed to the last column in the data set for our convenience to identify target easily in future."
   ]
  },
  {
   "cell_type": "code",
   "execution_count": 10,
   "metadata": {},
   "outputs": [],
   "source": [
    "#moving target columnn to end \n",
    "data = data[[col for col in data.columns if col not in ['Attrition']] + ['Attrition']]"
   ]
  },
  {
   "cell_type": "markdown",
   "metadata": {},
   "source": [
    "## <u>Data Exploration</u> <a class=\"anchor\" id=\"4\"></a>\n",
    "\n",
    "In this step, we explore data using graphical analysis and summary statistics.\n",
    "\n",
    "* [Univariate analysis](#univariate),\n",
    "* [Bivariate analysis](#bivariate) \n",
    "* [Multivariate analysis.](#multivariate)"
   ]
  },
  {
   "cell_type": "markdown",
   "metadata": {},
   "source": [
    "### Summary Statistics\n",
    "\n",
    "* In this step summary statistics of numerical features is performed to check for any invalid values.\n",
    "* Range of each numerical features is observed to check for any inconsistencies."
   ]
  },
  {
   "cell_type": "code",
   "execution_count": 11,
   "metadata": {
    "scrolled": true
   },
   "outputs": [
    {
     "data": {
      "text/html": [
       "<div>\n",
       "<style scoped>\n",
       "    .dataframe tbody tr th:only-of-type {\n",
       "        vertical-align: middle;\n",
       "    }\n",
       "\n",
       "    .dataframe tbody tr th {\n",
       "        vertical-align: top;\n",
       "    }\n",
       "\n",
       "    .dataframe thead th {\n",
       "        text-align: right;\n",
       "    }\n",
       "</style>\n",
       "<table border=\"1\" class=\"dataframe\">\n",
       "  <thead>\n",
       "    <tr style=\"text-align: right;\">\n",
       "      <th></th>\n",
       "      <th>DailyRate</th>\n",
       "      <th>Education</th>\n",
       "      <th>EnvironmentSatisfaction</th>\n",
       "      <th>HourlyRate</th>\n",
       "      <th>JobInvolvement</th>\n",
       "      <th>JobLevel</th>\n",
       "      <th>JobSatisfaction</th>\n",
       "      <th>MonthlyRate</th>\n",
       "      <th>NumCompaniesWorked</th>\n",
       "      <th>PercentSalaryHike</th>\n",
       "      <th>PerformanceRating</th>\n",
       "      <th>RelationshipSatisfaction</th>\n",
       "      <th>StockOptionLevel</th>\n",
       "      <th>TotalWorkingYears</th>\n",
       "      <th>TrainingTimesLastYear</th>\n",
       "      <th>WorkLifeBalance</th>\n",
       "      <th>YearsAtCompany</th>\n",
       "      <th>YearsInCurrentRole</th>\n",
       "      <th>YearsSinceLastPromotion</th>\n",
       "      <th>YearsWithCurrManager</th>\n",
       "    </tr>\n",
       "  </thead>\n",
       "  <tbody>\n",
       "    <tr>\n",
       "      <th>count</th>\n",
       "      <td>1470.00</td>\n",
       "      <td>1470.00</td>\n",
       "      <td>1470.00</td>\n",
       "      <td>1470.00</td>\n",
       "      <td>1470.00</td>\n",
       "      <td>1470.00</td>\n",
       "      <td>1470.00</td>\n",
       "      <td>1470.00</td>\n",
       "      <td>1470.00</td>\n",
       "      <td>1470.00</td>\n",
       "      <td>1470.00</td>\n",
       "      <td>1470.00</td>\n",
       "      <td>1470.00</td>\n",
       "      <td>1470.00</td>\n",
       "      <td>1470.00</td>\n",
       "      <td>1470.00</td>\n",
       "      <td>1470.00</td>\n",
       "      <td>1470.00</td>\n",
       "      <td>1470.00</td>\n",
       "      <td>1470.00</td>\n",
       "    </tr>\n",
       "    <tr>\n",
       "      <th>mean</th>\n",
       "      <td>802.49</td>\n",
       "      <td>2.91</td>\n",
       "      <td>2.72</td>\n",
       "      <td>65.89</td>\n",
       "      <td>2.73</td>\n",
       "      <td>2.06</td>\n",
       "      <td>2.73</td>\n",
       "      <td>14313.10</td>\n",
       "      <td>2.69</td>\n",
       "      <td>15.21</td>\n",
       "      <td>3.15</td>\n",
       "      <td>2.71</td>\n",
       "      <td>0.79</td>\n",
       "      <td>11.28</td>\n",
       "      <td>2.80</td>\n",
       "      <td>2.76</td>\n",
       "      <td>7.01</td>\n",
       "      <td>4.23</td>\n",
       "      <td>2.19</td>\n",
       "      <td>4.12</td>\n",
       "    </tr>\n",
       "    <tr>\n",
       "      <th>std</th>\n",
       "      <td>403.51</td>\n",
       "      <td>1.02</td>\n",
       "      <td>1.09</td>\n",
       "      <td>20.33</td>\n",
       "      <td>0.71</td>\n",
       "      <td>1.11</td>\n",
       "      <td>1.10</td>\n",
       "      <td>7117.79</td>\n",
       "      <td>2.50</td>\n",
       "      <td>3.66</td>\n",
       "      <td>0.36</td>\n",
       "      <td>1.08</td>\n",
       "      <td>0.85</td>\n",
       "      <td>7.78</td>\n",
       "      <td>1.29</td>\n",
       "      <td>0.71</td>\n",
       "      <td>6.13</td>\n",
       "      <td>3.62</td>\n",
       "      <td>3.22</td>\n",
       "      <td>3.57</td>\n",
       "    </tr>\n",
       "    <tr>\n",
       "      <th>min</th>\n",
       "      <td>102.00</td>\n",
       "      <td>1.00</td>\n",
       "      <td>1.00</td>\n",
       "      <td>30.00</td>\n",
       "      <td>1.00</td>\n",
       "      <td>1.00</td>\n",
       "      <td>1.00</td>\n",
       "      <td>2094.00</td>\n",
       "      <td>0.00</td>\n",
       "      <td>11.00</td>\n",
       "      <td>3.00</td>\n",
       "      <td>1.00</td>\n",
       "      <td>0.00</td>\n",
       "      <td>0.00</td>\n",
       "      <td>0.00</td>\n",
       "      <td>1.00</td>\n",
       "      <td>0.00</td>\n",
       "      <td>0.00</td>\n",
       "      <td>0.00</td>\n",
       "      <td>0.00</td>\n",
       "    </tr>\n",
       "    <tr>\n",
       "      <th>25%</th>\n",
       "      <td>465.00</td>\n",
       "      <td>2.00</td>\n",
       "      <td>2.00</td>\n",
       "      <td>48.00</td>\n",
       "      <td>2.00</td>\n",
       "      <td>1.00</td>\n",
       "      <td>2.00</td>\n",
       "      <td>8047.00</td>\n",
       "      <td>1.00</td>\n",
       "      <td>12.00</td>\n",
       "      <td>3.00</td>\n",
       "      <td>2.00</td>\n",
       "      <td>0.00</td>\n",
       "      <td>6.00</td>\n",
       "      <td>2.00</td>\n",
       "      <td>2.00</td>\n",
       "      <td>3.00</td>\n",
       "      <td>2.00</td>\n",
       "      <td>0.00</td>\n",
       "      <td>2.00</td>\n",
       "    </tr>\n",
       "    <tr>\n",
       "      <th>50%</th>\n",
       "      <td>802.00</td>\n",
       "      <td>3.00</td>\n",
       "      <td>3.00</td>\n",
       "      <td>66.00</td>\n",
       "      <td>3.00</td>\n",
       "      <td>2.00</td>\n",
       "      <td>3.00</td>\n",
       "      <td>14235.50</td>\n",
       "      <td>2.00</td>\n",
       "      <td>14.00</td>\n",
       "      <td>3.00</td>\n",
       "      <td>3.00</td>\n",
       "      <td>1.00</td>\n",
       "      <td>10.00</td>\n",
       "      <td>3.00</td>\n",
       "      <td>3.00</td>\n",
       "      <td>5.00</td>\n",
       "      <td>3.00</td>\n",
       "      <td>1.00</td>\n",
       "      <td>3.00</td>\n",
       "    </tr>\n",
       "    <tr>\n",
       "      <th>75%</th>\n",
       "      <td>1157.00</td>\n",
       "      <td>4.00</td>\n",
       "      <td>4.00</td>\n",
       "      <td>83.75</td>\n",
       "      <td>3.00</td>\n",
       "      <td>3.00</td>\n",
       "      <td>4.00</td>\n",
       "      <td>20461.50</td>\n",
       "      <td>4.00</td>\n",
       "      <td>18.00</td>\n",
       "      <td>3.00</td>\n",
       "      <td>4.00</td>\n",
       "      <td>1.00</td>\n",
       "      <td>15.00</td>\n",
       "      <td>3.00</td>\n",
       "      <td>3.00</td>\n",
       "      <td>9.00</td>\n",
       "      <td>7.00</td>\n",
       "      <td>3.00</td>\n",
       "      <td>7.00</td>\n",
       "    </tr>\n",
       "    <tr>\n",
       "      <th>max</th>\n",
       "      <td>1499.00</td>\n",
       "      <td>5.00</td>\n",
       "      <td>4.00</td>\n",
       "      <td>100.00</td>\n",
       "      <td>4.00</td>\n",
       "      <td>5.00</td>\n",
       "      <td>4.00</td>\n",
       "      <td>26999.00</td>\n",
       "      <td>9.00</td>\n",
       "      <td>25.00</td>\n",
       "      <td>4.00</td>\n",
       "      <td>4.00</td>\n",
       "      <td>3.00</td>\n",
       "      <td>40.00</td>\n",
       "      <td>6.00</td>\n",
       "      <td>4.00</td>\n",
       "      <td>40.00</td>\n",
       "      <td>18.00</td>\n",
       "      <td>15.00</td>\n",
       "      <td>17.00</td>\n",
       "    </tr>\n",
       "  </tbody>\n",
       "</table>\n",
       "</div>"
      ],
      "text/plain": [
       "       DailyRate  Education  EnvironmentSatisfaction  HourlyRate  \\\n",
       "count    1470.00    1470.00                  1470.00     1470.00   \n",
       "mean      802.49       2.91                     2.72       65.89   \n",
       "std       403.51       1.02                     1.09       20.33   \n",
       "min       102.00       1.00                     1.00       30.00   \n",
       "25%       465.00       2.00                     2.00       48.00   \n",
       "50%       802.00       3.00                     3.00       66.00   \n",
       "75%      1157.00       4.00                     4.00       83.75   \n",
       "max      1499.00       5.00                     4.00      100.00   \n",
       "\n",
       "       JobInvolvement  JobLevel  JobSatisfaction  MonthlyRate  \\\n",
       "count         1470.00   1470.00          1470.00      1470.00   \n",
       "mean             2.73      2.06             2.73     14313.10   \n",
       "std              0.71      1.11             1.10      7117.79   \n",
       "min              1.00      1.00             1.00      2094.00   \n",
       "25%              2.00      1.00             2.00      8047.00   \n",
       "50%              3.00      2.00             3.00     14235.50   \n",
       "75%              3.00      3.00             4.00     20461.50   \n",
       "max              4.00      5.00             4.00     26999.00   \n",
       "\n",
       "       NumCompaniesWorked  PercentSalaryHike  PerformanceRating  \\\n",
       "count             1470.00            1470.00            1470.00   \n",
       "mean                 2.69              15.21               3.15   \n",
       "std                  2.50               3.66               0.36   \n",
       "min                  0.00              11.00               3.00   \n",
       "25%                  1.00              12.00               3.00   \n",
       "50%                  2.00              14.00               3.00   \n",
       "75%                  4.00              18.00               3.00   \n",
       "max                  9.00              25.00               4.00   \n",
       "\n",
       "       RelationshipSatisfaction  StockOptionLevel  TotalWorkingYears  \\\n",
       "count                   1470.00           1470.00            1470.00   \n",
       "mean                       2.71              0.79              11.28   \n",
       "std                        1.08              0.85               7.78   \n",
       "min                        1.00              0.00               0.00   \n",
       "25%                        2.00              0.00               6.00   \n",
       "50%                        3.00              1.00              10.00   \n",
       "75%                        4.00              1.00              15.00   \n",
       "max                        4.00              3.00              40.00   \n",
       "\n",
       "       TrainingTimesLastYear  WorkLifeBalance  YearsAtCompany  \\\n",
       "count                1470.00          1470.00         1470.00   \n",
       "mean                    2.80             2.76            7.01   \n",
       "std                     1.29             0.71            6.13   \n",
       "min                     0.00             1.00            0.00   \n",
       "25%                     2.00             2.00            3.00   \n",
       "50%                     3.00             3.00            5.00   \n",
       "75%                     3.00             3.00            9.00   \n",
       "max                     6.00             4.00           40.00   \n",
       "\n",
       "       YearsInCurrentRole  YearsSinceLastPromotion  YearsWithCurrManager  \n",
       "count             1470.00                  1470.00               1470.00  \n",
       "mean                 4.23                     2.19                  4.12  \n",
       "std                  3.62                     3.22                  3.57  \n",
       "min                  0.00                     0.00                  0.00  \n",
       "25%                  2.00                     0.00                  2.00  \n",
       "50%                  3.00                     1.00                  3.00  \n",
       "75%                  7.00                     3.00                  7.00  \n",
       "max                 18.00                    15.00                 17.00  "
      ]
     },
     "execution_count": 11,
     "metadata": {},
     "output_type": "execute_result"
    }
   ],
   "source": [
    "data.describe(include = np.number).round(2)"
   ]
  },
  {
   "cell_type": "markdown",
   "metadata": {},
   "source": [
    "### Univariate Analysis<a id = \"univariate\"></a>\n",
    "\n",
    "In this step, we are looking at the features individually to check any patterns in the data.\n",
    "\n",
    "* In Figure 1, we look at `Business Travel` and `Department`. Here, we find that the frequency of people travelling rarely are more than double of the non travellers and frequently travellers combined.\n",
    "* In Figure 2, Research and Development  has the highest number of employees which is followed by Sales department."
   ]
  },
  {
   "cell_type": "code",
   "execution_count": 12,
   "metadata": {},
   "outputs": [
    {
     "data": {
      "image/png": "[encoded data removed]",
      "text/plain": [
       "<Figure size 1008x360 with 2 Axes>"
      ]
     },
     "metadata": {
      "needs_background": "light"
     },
     "output_type": "display_data"
    }
   ],
   "source": [
    "f, ax = plt.subplots(1, 2, figsize=(14, 5))\n",
    "sns.countplot(data['BusinessTravel'], ax=ax[0]).set_title(\"Figure 1. Bar chart for Business Travel\");\n",
    "sns.countplot(data['Department'], ax=ax[1]).set_title(\"Figure 2. Bar chart for Department\");"
   ]
  },
  {
   "cell_type": "markdown",
   "metadata": {},
   "source": [
    "* In Figure 3, we look at `Environment Satisfaction`. We find that the majority of employees come in the top two levels of satisfaction metric.\n",
    "* In Figure 4 the `Education Field`, most of the employees come with background in Life Sciences, Medical and Marketing. There are some employees from Technical Degree, Human Resources and others."
   ]
  },
  {
   "cell_type": "code",
   "execution_count": 13,
   "metadata": {},
   "outputs": [
    {
     "data": {
      "image/png": "[encoded data removed]",
      "text/plain": [
       "<Figure size 864x432 with 2 Axes>"
      ]
     },
     "metadata": {
      "needs_background": "light"
     },
     "output_type": "display_data"
    }
   ],
   "source": [
    "f, ax = plt.subplots(1, 2, figsize=(12, 6))\n",
    "sns.countplot(data['EnvironmentSatisfaction'], ax=ax[0]).set_title(\"Figure 3. Bar chart for Environment Satisfaction\");\n",
    "sns.countplot(data['EducationField'], ax=ax[1]).set_title(\"Figure 4. Bar chart for Education Field\");\n",
    "plt.xticks(rotation=45);"
   ]
  },
  {
   "cell_type": "markdown",
   "metadata": {},
   "source": [
    "* By looking at figure 5  bar chart for `Gender`, we find that sex ratio is inclined towards Male.\n",
    "* By looking at figure 6 the bar chart for `Job Involvement`, we can infer that employees describe their job involvement as HIGH."
   ]
  },
  {
   "cell_type": "code",
   "execution_count": 14,
   "metadata": {},
   "outputs": [
    {
     "data": {
      "image/png": "[encoded data removed]",
      "text/plain": [
       "<Figure size 720x360 with 2 Axes>"
      ]
     },
     "metadata": {
      "needs_background": "light"
     },
     "output_type": "display_data"
    }
   ],
   "source": [
    "f, ax = plt.subplots(1, 2, figsize=(10, 5))\n",
    "sns.countplot(data['Gender'], ax=ax[0]).set_title(\"Figure 5. Bar chart for Gender\");\n",
    "sns.countplot(data['JobInvolvement'], ax=ax[1]).set_title(\"Figure 6. Bar chart for Job Involvement\");"
   ]
  },
  {
   "cell_type": "markdown",
   "metadata": {},
   "source": [
    "* Next, figure 7 for Job Satisfaction, majority of employees come in the top two levels of satisfaction. Two levels of satisfaction metric.\n",
    "* Figure 8 shows that, Around one-third of total employees do overtime."
   ]
  },
  {
   "cell_type": "code",
   "execution_count": 15,
   "metadata": {},
   "outputs": [
    {
     "data": {
      "image/png": "[encoded data removed]",
      "text/plain": [
       "<Figure size 720x360 with 2 Axes>"
      ]
     },
     "metadata": {
      "needs_background": "light"
     },
     "output_type": "display_data"
    }
   ],
   "source": [
    "f, ax = plt.subplots(1, 2, figsize=(10, 5))\n",
    "sns.countplot(data['JobSatisfaction'], ax=ax[0]).set_title(\"Figure 7. Bar chart for Job Satisfaction\");\n",
    "sns.countplot(data['OverTime'], ax=ax[1]).set_title(\"Figure 8. Bar chart for OverTime\");"
   ]
  },
  {
   "cell_type": "markdown",
   "metadata": {},
   "source": [
    "* By looking at the figure 9 for Performance Rating, only a few employees have received the highest rating of 4.\n",
    "* By looking at the figure 10 for Attrition, we find that only few employees are leaving."
   ]
  },
  {
   "cell_type": "code",
   "execution_count": 16,
   "metadata": {},
   "outputs": [
    {
     "data": {
      "image/png": "[encoded data removed]",
      "text/plain": [
       "<Figure size 720x360 with 2 Axes>"
      ]
     },
     "metadata": {
      "needs_background": "light"
     },
     "output_type": "display_data"
    }
   ],
   "source": [
    "f, ax = plt.subplots(1, 2, figsize=(10, 5))\n",
    "sns.countplot(data['PerformanceRating'], ax=ax[0]).set_title(\"Figure 9. Bar chart for Performance Rating\");\n",
    "sns.countplot(data['Attrition'], ax=ax[1]).set_title(\"Figure 10. Bar chart for Attrition\");"
   ]
  },
  {
   "cell_type": "markdown",
   "metadata": {},
   "source": [
    "### Bi-variate analysis<a id = \"bivariate\"></a>\n",
    "\n",
    "In this exploratory task, we are trying to find patterns in two features and any relationship between them simultaneously.\n",
    "\n",
    "* The Figure 11 is, `Education` and `Department`. Most of the Bachelors work in Research & Development Department. Education level 3 bachelors have the most jobs in any department.\n",
    "* In Figure 12, It shows the initial job levels, there are many young people. As the job level increases, the senior employees are employed for higher job levels."
   ]
  },
  {
   "cell_type": "code",
   "execution_count": 17,
   "metadata": {},
   "outputs": [
    {
     "data": {
      "image/png": "[encoded data removed]",
      "text/plain": [
       "<Figure size 1080x360 with 2 Axes>"
      ]
     },
     "metadata": {
      "needs_background": "light"
     },
     "output_type": "display_data"
    }
   ],
   "source": [
    "f = plt.figure(figsize=(15,5))\n",
    "\n",
    "ax = f.add_subplot(1,2,1)\n",
    "x = data.groupby(['Education','Department'])['Education'].size().unstack()\n",
    "a = x.plot.bar(ax=ax, title='Figure 11. Bar chart for Education and Department');\n",
    "a.set_xticklabels(a.get_xticklabels(),rotation=360,ha=\"right\");\n",
    "\n",
    "ax = f.add_subplot(1,2,2)\n",
    "age_joblevel = data['Age'].groupby(data['JobLevel']).value_counts()\n",
    "b = age_joblevel.unstack(1).plot.bar(ax=ax, title='Figure 12. Bar chart for Age and Job Level');\n",
    "b.set_xticklabels(b.get_xticklabels(),rotation=360,ha=\"right\");"
   ]
  },
  {
   "cell_type": "markdown",
   "metadata": {},
   "source": [
    "* Next up, Figure 13 is the relationship between `Business Travel` and `Attrition`. The non-travellers have least amount of attrition. The employees who travel rarely have highest amount of attrition. This suggests that employees who might not get on-site opportunity might result into attrition.\n",
    "* In Figure 14, For the relationship between `Job Level` and `Attrition`, employees who belong to low job levels are more in number of attrition. This could be a case of terminating junior employees or employees giving resignations to switch to another firm."
   ]
  },
  {
   "cell_type": "code",
   "execution_count": 18,
   "metadata": {},
   "outputs": [
    {
     "data": {
      "image/png": "[encoded data removed]",
      "text/plain": [
       "<Figure size 1080x360 with 2 Axes>"
      ]
     },
     "metadata": {
      "needs_background": "light"
     },
     "output_type": "display_data"
    }
   ],
   "source": [
    "f = plt.figure(figsize=(15,5))\n",
    "\n",
    "ax = f.add_subplot(1,2,1)\n",
    "age_jobrole = data['BusinessTravel'].groupby(data['Attrition']).value_counts()\n",
    "a = age_jobrole.unstack(1).plot.bar(ax=ax, title='Figure 13. Bar chart for BusinessTravel and Attrition')\n",
    "a.set_xticklabels(a.get_xticklabels(),rotation=360,ha=\"right\");\n",
    "\n",
    "ax = f.add_subplot(1,2,2)\n",
    "age_joblevel = data['JobLevel'].groupby(data['Attrition']).value_counts()\n",
    "b= age_joblevel.unstack(1).plot.bar(ax=ax, title='Figure 14. Bar chart for JobLevel and Attrition');\n",
    "b.set_xticklabels(b.get_xticklabels(),rotation=360,ha=\"right\");"
   ]
  },
  {
   "cell_type": "markdown",
   "metadata": {},
   "source": [
    "* Figure 15 is of `Job Role` and `Age` , Young employees are employed in junior jobs such as Research Scientist and Laboratory Technician. Old employees are employed as Sales Executives and Managers.\n",
    "* Figure 16: `Age` and `Monthly Income`, As the age increases, the employees transition from low-income level to high income levels increases. This suggests that older people have High Income than younger People."
   ]
  },
  {
   "cell_type": "code",
   "execution_count": 19,
   "metadata": {},
   "outputs": [
    {
     "data": {
      "image/png": "[encoded data removed]",
      "text/plain": [
       "<Figure size 1080x360 with 2 Axes>"
      ]
     },
     "metadata": {
      "needs_background": "light"
     },
     "output_type": "display_data"
    }
   ],
   "source": [
    "f = plt.figure(figsize=(15,5))\n",
    "\n",
    "ax = f.add_subplot(1,2,1)\n",
    "age_jobrole = data['Age'].groupby(data['JobRole']).value_counts()\n",
    "a = age_jobrole.unstack(1).plot.bar(ax=ax, title='Figure 15. Bar chart for Age and Job Role');\n",
    "a.set_xticklabels(a.get_xticklabels(),rotation=45,ha=\"right\");\n",
    "ax = f.add_subplot(1,2,2)\n",
    "age_jobrole = data['MonthlyIncome'].groupby(data['Age']).value_counts()\n",
    "age_jobrole.unstack(1).plot.bar(ax=ax, title='Figure 16. Bar chart for MonthyIncome and Age');\n",
    "plt.xticks(rotation=360);"
   ]
  },
  {
   "cell_type": "markdown",
   "metadata": {},
   "source": [
    "* Figure 17 is the relationship between `Job Level` and `Monthly Income`. The pattern here suggests that as the job level increases, only high income employees are required for high level jobs.\n",
    "* Figure 18 `Job Role` and `Monthly Income`, Research Scientist and Laboratory Technician comes under low income category whereas Manager and Reseacrh Director come under high income category."
   ]
  },
  {
   "cell_type": "code",
   "execution_count": 20,
   "metadata": {},
   "outputs": [
    {
     "data": {
      "image/png": "[encoded data removed]",
      "text/plain": [
       "<Figure size 1080x360 with 2 Axes>"
      ]
     },
     "metadata": {
      "needs_background": "light"
     },
     "output_type": "display_data"
    }
   ],
   "source": [
    "f = plt.figure(figsize=(15,5))\n",
    "\n",
    "ax = f.add_subplot(1,2,1)\n",
    "age_jobrole = data['JobLevel'].groupby(data['MonthlyIncome']).value_counts()\n",
    "b = age_jobrole.unstack(0).plot.bar(ax=ax, title='Figure 17. Job Level and Monthly Income');\n",
    "b.set_xticklabels(b.get_xticklabels(),rotation=360,ha=\"right\");\n",
    "\n",
    "ax = f.add_subplot(1,2,2)\n",
    "age_jobrole = data['JobRole'].groupby(data['MonthlyIncome']).value_counts()\n",
    "a=age_jobrole.unstack(0).plot.bar(ax=ax, title='Figure 18. Job Role and Monthly Income')\n",
    "a.set_xticklabels(a.get_xticklabels(),rotation=45,ha=\"right\");"
   ]
  },
  {
   "cell_type": "markdown",
   "metadata": {},
   "source": [
    "* For Figure 19, Age and Number of Companies Worked, as the age increases the number of companies that an employee works increases and this shows attrition can be more.\n",
    "* In Figure 20, as the age increases the number of working years also Increasing.From this we can get the relationship between Age and Working hours. "
   ]
  },
  {
   "cell_type": "code",
   "execution_count": 21,
   "metadata": {},
   "outputs": [
    {
     "data": {
      "image/png": "[encoded data removed]",
      "text/plain": [
       "<Figure size 1080x432 with 2 Axes>"
      ]
     },
     "metadata": {
      "needs_background": "light"
     },
     "output_type": "display_data"
    }
   ],
   "source": [
    "f, ax = plt.subplots(1, 2, figsize=(15, 6))\n",
    "\n",
    "sns.boxplot(data['Age'], data['NumCompaniesWorked'], ax=ax[0]).set_title(\"Figure 19. Age and Number of Companies Worked\");\n",
    "sns.boxplot(data['Age'], data['TotalWorkingYears'], ax=ax[1]).set_title(\"Figure 20. Age and Total Working Years\");"
   ]
  },
  {
   "cell_type": "markdown",
   "metadata": {},
   "source": [
    "* Figure 21 shows that Employees who have higher performance rating(in this case, 4), have higher salary hike.\n",
    "* Figure 22 gives people who have worked for more number of comapines have the high job level."
   ]
  },
  {
   "cell_type": "code",
   "execution_count": 22,
   "metadata": {},
   "outputs": [
    {
     "data": {
      "image/png": "[encoded data removed]",
      "text/plain": [
       "<Figure size 1080x432 with 2 Axes>"
      ]
     },
     "metadata": {
      "needs_background": "light"
     },
     "output_type": "display_data"
    }
   ],
   "source": [
    "f, ax = plt.subplots(1, 2, figsize=(15, 6))\n",
    "\n",
    "sns.boxplot(data['PerformanceRating'], data['PercentSalaryHike'], ax=ax[0]).set_title(\"Figure 21. Performance Rating and Percent Salary Hike\");\n",
    "sns.boxplot(data['JobLevel'], data['NumCompaniesWorked'], ax=ax[1]).set_title(\"Figure 22. Job Level and Number of companies worked\");"
   ]
  },
  {
   "cell_type": "markdown",
   "metadata": {},
   "source": [
    "* For figure 23,It is evident that employees who have higher ratings have less number of attrition."
   ]
  },
  {
   "cell_type": "code",
   "execution_count": 23,
   "metadata": {},
   "outputs": [
    {
     "data": {
      "image/png": "[encoded data removed]",
      "text/plain": [
       "<Figure size 432x288 with 1 Axes>"
      ]
     },
     "metadata": {
      "needs_background": "light"
     },
     "output_type": "display_data"
    }
   ],
   "source": [
    "x = data.groupby(['PerformanceRating','Attrition'])['PerformanceRating'].size().unstack()\n",
    "b = x.plot(kind='bar',title=\"Figure 23. Performance Rating and Attrition\");\n",
    "b.set_xticklabels(b.get_xticklabels(),rotation=360,ha=\"right\");"
   ]
  },
  {
   "cell_type": "markdown",
   "metadata": {},
   "source": [
    "### Multivariate plots(3 variables)<a id = \"multivariate\"></a>\n",
    "\n",
    "* Figure 24:The people who do not stick with their current manager have more chance of attrition. Some might not like their manager and leave which could cause in result of attrition.\n",
    "* Figure 25: It shows, Even though people have high percentageSalaryHike for Jobsatisfaction level 2 pleople are leaving the company. It summarises that People who have less Jobsatisfaction are tend to leave the company even though they get high percentage of salary hike."
   ]
  },
  {
   "cell_type": "code",
   "execution_count": 24,
   "metadata": {},
   "outputs": [
    {
     "data": {
      "image/png": "[encoded data removed]",
      "text/plain": [
       "<Figure size 1080x360 with 2 Axes>"
      ]
     },
     "metadata": {
      "needs_background": "light"
     },
     "output_type": "display_data"
    }
   ],
   "source": [
    "f, ax = plt.subplots(1, 2, figsize=(15, 5))\n",
    "b = sns.boxplot(data['Department'], data['YearsWithCurrManager'], hue = data['Attrition'],ax=ax[0]).set_title(\"Figure 24: Department, YearsWithCurrManager vs Attrition\")\n",
    "a = sns.boxplot(data['JobSatisfaction'], data['PercentSalaryHike'], hue = data['Attrition'],ax=ax[1])\n",
    "a.legend(loc = 'upper right')\n",
    "plt.title('Figure 25:JobSatisfaction, PercentSalaryHike vs Attrition')\n",
    "plt.show()"
   ]
  },
  {
   "cell_type": "markdown",
   "metadata": {},
   "source": [
    "* Figure 26:As the number of yearswithcurrentrole increases, Attrition level also increasing with the Education Field as Technical Degree and Other compared to others. \n",
    "* Figure 27: People in the initial years of their career are more likely to leave the company or get terminated. Old and middle-aged people are tend to change the company and hence attrition is more, so Numberof Companiesworked are also high."
   ]
  },
  {
   "cell_type": "code",
   "execution_count": 25,
   "metadata": {},
   "outputs": [
    {
     "data": {
      "image/png": "[encoded data removed]",
      "text/plain": [
       "<Figure size 1080x360 with 2 Axes>"
      ]
     },
     "metadata": {
      "needs_background": "light"
     },
     "output_type": "display_data"
    }
   ],
   "source": [
    "f, ax = plt.subplots(1, 2, figsize=(15, 5))\n",
    "a = sns.boxplot(data['EducationField'], data['YearsInCurrentRole'], hue = data['Attrition'],ax=ax[0])\n",
    "b = sns.boxplot(data['Age'], data['NumCompaniesWorked'], hue = data['Attrition'],ax=ax[1])\n",
    "b.legend(loc = 'upper right')\n",
    "a.set_xticklabels(a.get_xticklabels(),rotation=45, ha='right')\n",
    "a.set_title(\"Figure 26: EducationField, YearsInCurrentRole vs Attrition\")\n",
    "plt.title(\"Figure 27: Age, NumCompaniesWorked vs Attrition\")\n",
    "plt.show()"
   ]
  },
  {
   "cell_type": "markdown",
   "metadata": {},
   "source": [
    "## <u>Predictive Modelling</u>"
   ]
  },
  {
   "cell_type": "markdown",
   "metadata": {},
   "source": [
    "### Splitting datasets\n",
    "\n",
    "* In this step dataset is splitted into two subsets, `Data` which has all the descriptive features and `target` contains target feature."
   ]
  },
  {
   "cell_type": "code",
   "execution_count": 26,
   "metadata": {},
   "outputs": [],
   "source": [
    "#splitting descriptive and target data\n",
    "Data = data.drop(columns='Attrition')\n",
    "target = data['Attrition']"
   ]
  },
  {
   "cell_type": "markdown",
   "metadata": {},
   "source": [
    "### Encoding the Target Feature\n",
    "\n",
    "* In this step target feature is encoded manually using replace function. Label Encoder is not used since it encodes  categories alphabetically.\n",
    "* Positive class is `Yes` which is encoded as `1`."
   ]
  },
  {
   "cell_type": "code",
   "execution_count": 27,
   "metadata": {},
   "outputs": [
    {
     "data": {
      "text/plain": [
       "No     1233\n",
       "Yes     237\n",
       "Name: Attrition, dtype: int64"
      ]
     },
     "execution_count": 27,
     "metadata": {},
     "output_type": "execute_result"
    }
   ],
   "source": [
    "#displaying target distribution\n",
    "target.value_counts()"
   ]
  },
  {
   "cell_type": "code",
   "execution_count": 28,
   "metadata": {},
   "outputs": [
    {
     "data": {
      "text/plain": [
       "0    1233\n",
       "1     237\n",
       "Name: Attrition, dtype: int64"
      ]
     },
     "execution_count": 28,
     "metadata": {},
     "output_type": "execute_result"
    }
   ],
   "source": [
    "#encoding target feature\n",
    "target = target.replace({'No': 0, 'Yes': 1})\n",
    "target.value_counts()"
   ]
  },
  {
   "cell_type": "markdown",
   "metadata": {},
   "source": [
    "### Encoding Ordinal features\n",
    "\n",
    "* This dataset has three ordinal features which are encoded using Integer encoding method"
   ]
  },
  {
   "cell_type": "code",
   "execution_count": 29,
   "metadata": {},
   "outputs": [],
   "source": [
    "#declaring disctionary\n",
    "age_mapping = {'young': 0, 'middle_aged': 1, 'old': 2}\n",
    "distance_mapping = {'near': 0, 'mid_distant': 1, 'far': 2}\n",
    "income_mapping = {'low_income': 0, 'mid_income': 1, 'high_income': 2}\n",
    "\n",
    "#Encoding ordinal features\n",
    "Data['Age'] = Data['Age'].replace(age_mapping)\n",
    "Data['DistanceFromHome'] = Data['DistanceFromHome'].replace(distance_mapping)\n",
    "Data['MonthlyIncome'] = Data['MonthlyIncome'].replace(income_mapping)"
   ]
  },
  {
   "cell_type": "markdown",
   "metadata": {},
   "source": [
    "### Encoding nominal features \n",
    "\n",
    "* All the nominal categorical features are encoded uing one-hot encoding method."
   ]
  },
  {
   "cell_type": "code",
   "execution_count": 30,
   "metadata": {},
   "outputs": [],
   "source": [
    "#encoding nominal categorical features\n",
    "nominal_cols = ['BusinessTravel','Department','EducationField','Gender','JobRole','MaritalStatus','OverTime']\n",
    "for col in nominal_cols:\n",
    "    n = len(Data[col].unique())\n",
    "    if (n == 2):\n",
    "        Data[col] = pd.get_dummies(Data[col], drop_first=True)\n",
    "   \n",
    "Data = pd.get_dummies(Data)"
   ]
  },
  {
   "cell_type": "code",
   "execution_count": 31,
   "metadata": {},
   "outputs": [
    {
     "data": {
      "text/html": [
       "<div>\n",
       "<style scoped>\n",
       "    .dataframe tbody tr th:only-of-type {\n",
       "        vertical-align: middle;\n",
       "    }\n",
       "\n",
       "    .dataframe tbody tr th {\n",
       "        vertical-align: top;\n",
       "    }\n",
       "\n",
       "    .dataframe thead th {\n",
       "        text-align: right;\n",
       "    }\n",
       "</style>\n",
       "<table border=\"1\" class=\"dataframe\">\n",
       "  <thead>\n",
       "    <tr style=\"text-align: right;\">\n",
       "      <th></th>\n",
       "      <th>Age</th>\n",
       "      <th>DailyRate</th>\n",
       "      <th>DistanceFromHome</th>\n",
       "      <th>Education</th>\n",
       "      <th>EnvironmentSatisfaction</th>\n",
       "      <th>Gender</th>\n",
       "      <th>HourlyRate</th>\n",
       "      <th>JobInvolvement</th>\n",
       "      <th>JobLevel</th>\n",
       "      <th>JobSatisfaction</th>\n",
       "      <th>MonthlyIncome</th>\n",
       "      <th>MonthlyRate</th>\n",
       "      <th>NumCompaniesWorked</th>\n",
       "      <th>OverTime</th>\n",
       "      <th>PercentSalaryHike</th>\n",
       "      <th>PerformanceRating</th>\n",
       "      <th>RelationshipSatisfaction</th>\n",
       "      <th>StockOptionLevel</th>\n",
       "      <th>TotalWorkingYears</th>\n",
       "      <th>TrainingTimesLastYear</th>\n",
       "      <th>WorkLifeBalance</th>\n",
       "      <th>YearsAtCompany</th>\n",
       "      <th>YearsInCurrentRole</th>\n",
       "      <th>YearsSinceLastPromotion</th>\n",
       "      <th>YearsWithCurrManager</th>\n",
       "      <th>BusinessTravel_Non-Travel</th>\n",
       "      <th>BusinessTravel_Travel_Frequently</th>\n",
       "      <th>BusinessTravel_Travel_Rarely</th>\n",
       "      <th>Department_Human Resources</th>\n",
       "      <th>Department_Research &amp; Development</th>\n",
       "      <th>Department_Sales</th>\n",
       "      <th>EducationField_Human Resources</th>\n",
       "      <th>EducationField_Life Sciences</th>\n",
       "      <th>EducationField_Marketing</th>\n",
       "      <th>EducationField_Medical</th>\n",
       "      <th>EducationField_Other</th>\n",
       "      <th>EducationField_Technical Degree</th>\n",
       "      <th>JobRole_Healthcare Representative</th>\n",
       "      <th>JobRole_Human Resources</th>\n",
       "      <th>JobRole_Laboratory Technician</th>\n",
       "      <th>JobRole_Manager</th>\n",
       "      <th>JobRole_Manufacturing Director</th>\n",
       "      <th>JobRole_Research Director</th>\n",
       "      <th>JobRole_Research Scientist</th>\n",
       "      <th>JobRole_Sales Executive</th>\n",
       "      <th>JobRole_Sales Representative</th>\n",
       "      <th>MaritalStatus_Divorced</th>\n",
       "      <th>MaritalStatus_Married</th>\n",
       "      <th>MaritalStatus_Single</th>\n",
       "    </tr>\n",
       "  </thead>\n",
       "  <tbody>\n",
       "    <tr>\n",
       "      <th>0</th>\n",
       "      <td>0</td>\n",
       "      <td>230</td>\n",
       "      <td>0</td>\n",
       "      <td>3</td>\n",
       "      <td>3</td>\n",
       "      <td>1</td>\n",
       "      <td>54</td>\n",
       "      <td>3</td>\n",
       "      <td>1</td>\n",
       "      <td>3</td>\n",
       "      <td>0</td>\n",
       "      <td>25233</td>\n",
       "      <td>1</td>\n",
       "      <td>0</td>\n",
       "      <td>13</td>\n",
       "      <td>3</td>\n",
       "      <td>3</td>\n",
       "      <td>0</td>\n",
       "      <td>0</td>\n",
       "      <td>2</td>\n",
       "      <td>3</td>\n",
       "      <td>0</td>\n",
       "      <td>0</td>\n",
       "      <td>0</td>\n",
       "      <td>0</td>\n",
       "      <td>0</td>\n",
       "      <td>0</td>\n",
       "      <td>1</td>\n",
       "      <td>0</td>\n",
       "      <td>1</td>\n",
       "      <td>0</td>\n",
       "      <td>0</td>\n",
       "      <td>1</td>\n",
       "      <td>0</td>\n",
       "      <td>0</td>\n",
       "      <td>0</td>\n",
       "      <td>0</td>\n",
       "      <td>0</td>\n",
       "      <td>0</td>\n",
       "      <td>1</td>\n",
       "      <td>0</td>\n",
       "      <td>0</td>\n",
       "      <td>0</td>\n",
       "      <td>0</td>\n",
       "      <td>0</td>\n",
       "      <td>0</td>\n",
       "      <td>0</td>\n",
       "      <td>0</td>\n",
       "      <td>1</td>\n",
       "    </tr>\n",
       "    <tr>\n",
       "      <th>1</th>\n",
       "      <td>0</td>\n",
       "      <td>812</td>\n",
       "      <td>1</td>\n",
       "      <td>3</td>\n",
       "      <td>4</td>\n",
       "      <td>0</td>\n",
       "      <td>69</td>\n",
       "      <td>2</td>\n",
       "      <td>1</td>\n",
       "      <td>3</td>\n",
       "      <td>0</td>\n",
       "      <td>9724</td>\n",
       "      <td>1</td>\n",
       "      <td>0</td>\n",
       "      <td>12</td>\n",
       "      <td>3</td>\n",
       "      <td>1</td>\n",
       "      <td>0</td>\n",
       "      <td>0</td>\n",
       "      <td>2</td>\n",
       "      <td>3</td>\n",
       "      <td>0</td>\n",
       "      <td>0</td>\n",
       "      <td>0</td>\n",
       "      <td>0</td>\n",
       "      <td>0</td>\n",
       "      <td>0</td>\n",
       "      <td>1</td>\n",
       "      <td>0</td>\n",
       "      <td>0</td>\n",
       "      <td>1</td>\n",
       "      <td>0</td>\n",
       "      <td>0</td>\n",
       "      <td>0</td>\n",
       "      <td>1</td>\n",
       "      <td>0</td>\n",
       "      <td>0</td>\n",
       "      <td>0</td>\n",
       "      <td>0</td>\n",
       "      <td>0</td>\n",
       "      <td>0</td>\n",
       "      <td>0</td>\n",
       "      <td>0</td>\n",
       "      <td>0</td>\n",
       "      <td>0</td>\n",
       "      <td>1</td>\n",
       "      <td>0</td>\n",
       "      <td>0</td>\n",
       "      <td>1</td>\n",
       "    </tr>\n",
       "    <tr>\n",
       "      <th>2</th>\n",
       "      <td>0</td>\n",
       "      <td>1306</td>\n",
       "      <td>1</td>\n",
       "      <td>3</td>\n",
       "      <td>2</td>\n",
       "      <td>1</td>\n",
       "      <td>69</td>\n",
       "      <td>3</td>\n",
       "      <td>1</td>\n",
       "      <td>2</td>\n",
       "      <td>0</td>\n",
       "      <td>8059</td>\n",
       "      <td>1</td>\n",
       "      <td>1</td>\n",
       "      <td>14</td>\n",
       "      <td>3</td>\n",
       "      <td>4</td>\n",
       "      <td>0</td>\n",
       "      <td>0</td>\n",
       "      <td>3</td>\n",
       "      <td>3</td>\n",
       "      <td>0</td>\n",
       "      <td>0</td>\n",
       "      <td>0</td>\n",
       "      <td>0</td>\n",
       "      <td>0</td>\n",
       "      <td>1</td>\n",
       "      <td>0</td>\n",
       "      <td>0</td>\n",
       "      <td>0</td>\n",
       "      <td>1</td>\n",
       "      <td>0</td>\n",
       "      <td>0</td>\n",
       "      <td>1</td>\n",
       "      <td>0</td>\n",
       "      <td>0</td>\n",
       "      <td>0</td>\n",
       "      <td>0</td>\n",
       "      <td>0</td>\n",
       "      <td>0</td>\n",
       "      <td>0</td>\n",
       "      <td>0</td>\n",
       "      <td>0</td>\n",
       "      <td>0</td>\n",
       "      <td>0</td>\n",
       "      <td>1</td>\n",
       "      <td>0</td>\n",
       "      <td>0</td>\n",
       "      <td>1</td>\n",
       "    </tr>\n",
       "    <tr>\n",
       "      <th>3</th>\n",
       "      <td>0</td>\n",
       "      <td>287</td>\n",
       "      <td>1</td>\n",
       "      <td>2</td>\n",
       "      <td>2</td>\n",
       "      <td>1</td>\n",
       "      <td>73</td>\n",
       "      <td>3</td>\n",
       "      <td>1</td>\n",
       "      <td>4</td>\n",
       "      <td>0</td>\n",
       "      <td>13493</td>\n",
       "      <td>1</td>\n",
       "      <td>0</td>\n",
       "      <td>15</td>\n",
       "      <td>3</td>\n",
       "      <td>4</td>\n",
       "      <td>0</td>\n",
       "      <td>0</td>\n",
       "      <td>2</td>\n",
       "      <td>3</td>\n",
       "      <td>0</td>\n",
       "      <td>0</td>\n",
       "      <td>0</td>\n",
       "      <td>0</td>\n",
       "      <td>1</td>\n",
       "      <td>0</td>\n",
       "      <td>0</td>\n",
       "      <td>0</td>\n",
       "      <td>1</td>\n",
       "      <td>0</td>\n",
       "      <td>0</td>\n",
       "      <td>1</td>\n",
       "      <td>0</td>\n",
       "      <td>0</td>\n",
       "      <td>0</td>\n",
       "      <td>0</td>\n",
       "      <td>0</td>\n",
       "      <td>0</td>\n",
       "      <td>0</td>\n",
       "      <td>0</td>\n",
       "      <td>0</td>\n",
       "      <td>0</td>\n",
       "      <td>1</td>\n",
       "      <td>0</td>\n",
       "      <td>0</td>\n",
       "      <td>0</td>\n",
       "      <td>0</td>\n",
       "      <td>1</td>\n",
       "    </tr>\n",
       "    <tr>\n",
       "      <th>4</th>\n",
       "      <td>0</td>\n",
       "      <td>247</td>\n",
       "      <td>1</td>\n",
       "      <td>1</td>\n",
       "      <td>3</td>\n",
       "      <td>1</td>\n",
       "      <td>80</td>\n",
       "      <td>3</td>\n",
       "      <td>1</td>\n",
       "      <td>3</td>\n",
       "      <td>0</td>\n",
       "      <td>13556</td>\n",
       "      <td>1</td>\n",
       "      <td>0</td>\n",
       "      <td>12</td>\n",
       "      <td>3</td>\n",
       "      <td>4</td>\n",
       "      <td>0</td>\n",
       "      <td>0</td>\n",
       "      <td>0</td>\n",
       "      <td>3</td>\n",
       "      <td>0</td>\n",
       "      <td>0</td>\n",
       "      <td>0</td>\n",
       "      <td>0</td>\n",
       "      <td>1</td>\n",
       "      <td>0</td>\n",
       "      <td>0</td>\n",
       "      <td>0</td>\n",
       "      <td>1</td>\n",
       "      <td>0</td>\n",
       "      <td>0</td>\n",
       "      <td>0</td>\n",
       "      <td>0</td>\n",
       "      <td>1</td>\n",
       "      <td>0</td>\n",
       "      <td>0</td>\n",
       "      <td>0</td>\n",
       "      <td>0</td>\n",
       "      <td>1</td>\n",
       "      <td>0</td>\n",
       "      <td>0</td>\n",
       "      <td>0</td>\n",
       "      <td>0</td>\n",
       "      <td>0</td>\n",
       "      <td>0</td>\n",
       "      <td>0</td>\n",
       "      <td>0</td>\n",
       "      <td>1</td>\n",
       "    </tr>\n",
       "  </tbody>\n",
       "</table>\n",
       "</div>"
      ],
      "text/plain": [
       "   Age  DailyRate  DistanceFromHome  Education  EnvironmentSatisfaction  \\\n",
       "0    0        230                 0          3                        3   \n",
       "1    0        812                 1          3                        4   \n",
       "2    0       1306                 1          3                        2   \n",
       "3    0        287                 1          2                        2   \n",
       "4    0        247                 1          1                        3   \n",
       "\n",
       "   Gender  HourlyRate  JobInvolvement  JobLevel  JobSatisfaction  \\\n",
       "0       1          54               3         1                3   \n",
       "1       0          69               2         1                3   \n",
       "2       1          69               3         1                2   \n",
       "3       1          73               3         1                4   \n",
       "4       1          80               3         1                3   \n",
       "\n",
       "   MonthlyIncome  MonthlyRate  NumCompaniesWorked  OverTime  \\\n",
       "0              0        25233                   1         0   \n",
       "1              0         9724                   1         0   \n",
       "2              0         8059                   1         1   \n",
       "3              0        13493                   1         0   \n",
       "4              0        13556                   1         0   \n",
       "\n",
       "   PercentSalaryHike  PerformanceRating  RelationshipSatisfaction  \\\n",
       "0                 13                  3                         3   \n",
       "1                 12                  3                         1   \n",
       "2                 14                  3                         4   \n",
       "3                 15                  3                         4   \n",
       "4                 12                  3                         4   \n",
       "\n",
       "   StockOptionLevel  TotalWorkingYears  TrainingTimesLastYear  \\\n",
       "0                 0                  0                      2   \n",
       "1                 0                  0                      2   \n",
       "2                 0                  0                      3   \n",
       "3                 0                  0                      2   \n",
       "4                 0                  0                      0   \n",
       "\n",
       "   WorkLifeBalance  YearsAtCompany  YearsInCurrentRole  \\\n",
       "0                3               0                   0   \n",
       "1                3               0                   0   \n",
       "2                3               0                   0   \n",
       "3                3               0                   0   \n",
       "4                3               0                   0   \n",
       "\n",
       "   YearsSinceLastPromotion  YearsWithCurrManager  BusinessTravel_Non-Travel  \\\n",
       "0                        0                     0                          0   \n",
       "1                        0                     0                          0   \n",
       "2                        0                     0                          0   \n",
       "3                        0                     0                          1   \n",
       "4                        0                     0                          1   \n",
       "\n",
       "   BusinessTravel_Travel_Frequently  BusinessTravel_Travel_Rarely  \\\n",
       "0                                 0                             1   \n",
       "1                                 0                             1   \n",
       "2                                 1                             0   \n",
       "3                                 0                             0   \n",
       "4                                 0                             0   \n",
       "\n",
       "   Department_Human Resources  Department_Research & Development  \\\n",
       "0                           0                                  1   \n",
       "1                           0                                  0   \n",
       "2                           0                                  0   \n",
       "3                           0                                  1   \n",
       "4                           0                                  1   \n",
       "\n",
       "   Department_Sales  EducationField_Human Resources  \\\n",
       "0                 0                               0   \n",
       "1                 1                               0   \n",
       "2                 1                               0   \n",
       "3                 0                               0   \n",
       "4                 0                               0   \n",
       "\n",
       "   EducationField_Life Sciences  EducationField_Marketing  \\\n",
       "0                             1                         0   \n",
       "1                             0                         0   \n",
       "2                             0                         1   \n",
       "3                             1                         0   \n",
       "4                             0                         0   \n",
       "\n",
       "   EducationField_Medical  EducationField_Other  \\\n",
       "0                       0                     0   \n",
       "1                       1                     0   \n",
       "2                       0                     0   \n",
       "3                       0                     0   \n",
       "4                       1                     0   \n",
       "\n",
       "   EducationField_Technical Degree  JobRole_Healthcare Representative  \\\n",
       "0                                0                                  0   \n",
       "1                                0                                  0   \n",
       "2                                0                                  0   \n",
       "3                                0                                  0   \n",
       "4                                0                                  0   \n",
       "\n",
       "   JobRole_Human Resources  JobRole_Laboratory Technician  JobRole_Manager  \\\n",
       "0                        0                              1                0   \n",
       "1                        0                              0                0   \n",
       "2                        0                              0                0   \n",
       "3                        0                              0                0   \n",
       "4                        0                              1                0   \n",
       "\n",
       "   JobRole_Manufacturing Director  JobRole_Research Director  \\\n",
       "0                               0                          0   \n",
       "1                               0                          0   \n",
       "2                               0                          0   \n",
       "3                               0                          0   \n",
       "4                               0                          0   \n",
       "\n",
       "   JobRole_Research Scientist  JobRole_Sales Executive  \\\n",
       "0                           0                        0   \n",
       "1                           0                        0   \n",
       "2                           0                        0   \n",
       "3                           1                        0   \n",
       "4                           0                        0   \n",
       "\n",
       "   JobRole_Sales Representative  MaritalStatus_Divorced  \\\n",
       "0                             0                       0   \n",
       "1                             1                       0   \n",
       "2                             1                       0   \n",
       "3                             0                       0   \n",
       "4                             0                       0   \n",
       "\n",
       "   MaritalStatus_Married  MaritalStatus_Single  \n",
       "0                      0                     1  \n",
       "1                      0                     1  \n",
       "2                      0                     1  \n",
       "3                      0                     1  \n",
       "4                      0                     1  "
      ]
     },
     "execution_count": 31,
     "metadata": {},
     "output_type": "execute_result"
    }
   ],
   "source": [
    "#displaying first five observations\n",
    "pd.set_option('display.max_columns',None)\n",
    "Data.head()"
   ]
  },
  {
   "cell_type": "markdown",
   "metadata": {},
   "source": [
    "### Scaling\n",
    "\n",
    "* All the descriptive features are scaled using Min-Max scaler.\n",
    "* All the descriptive featuers are now in range 0 to 1, to remove any bias in the features which has higher values so that it will not imapact the prediction."
   ]
  },
  {
   "cell_type": "code",
   "execution_count": 32,
   "metadata": {},
   "outputs": [],
   "source": [
    "#Scaling Descriptive features\n",
    "from sklearn import preprocessing\n",
    "\n",
    "Data_df = Data.copy()\n",
    "Data_scaler = preprocessing.MinMaxScaler()\n",
    "Data_scaler.fit(Data)\n",
    "Data = Data_scaler.fit_transform(Data)"
   ]
  },
  {
   "cell_type": "code",
   "execution_count": 33,
   "metadata": {},
   "outputs": [
    {
     "data": {
      "text/html": [
       "<div>\n",
       "<style scoped>\n",
       "    .dataframe tbody tr th:only-of-type {\n",
       "        vertical-align: middle;\n",
       "    }\n",
       "\n",
       "    .dataframe tbody tr th {\n",
       "        vertical-align: top;\n",
       "    }\n",
       "\n",
       "    .dataframe thead th {\n",
       "        text-align: right;\n",
       "    }\n",
       "</style>\n",
       "<table border=\"1\" class=\"dataframe\">\n",
       "  <thead>\n",
       "    <tr style=\"text-align: right;\">\n",
       "      <th></th>\n",
       "      <th>Age</th>\n",
       "      <th>DailyRate</th>\n",
       "      <th>DistanceFromHome</th>\n",
       "      <th>Education</th>\n",
       "      <th>EnvironmentSatisfaction</th>\n",
       "      <th>Gender</th>\n",
       "      <th>HourlyRate</th>\n",
       "      <th>JobInvolvement</th>\n",
       "      <th>JobLevel</th>\n",
       "      <th>JobSatisfaction</th>\n",
       "      <th>MonthlyIncome</th>\n",
       "      <th>MonthlyRate</th>\n",
       "      <th>NumCompaniesWorked</th>\n",
       "      <th>OverTime</th>\n",
       "      <th>PercentSalaryHike</th>\n",
       "      <th>PerformanceRating</th>\n",
       "      <th>RelationshipSatisfaction</th>\n",
       "      <th>StockOptionLevel</th>\n",
       "      <th>TotalWorkingYears</th>\n",
       "      <th>TrainingTimesLastYear</th>\n",
       "      <th>WorkLifeBalance</th>\n",
       "      <th>YearsAtCompany</th>\n",
       "      <th>YearsInCurrentRole</th>\n",
       "      <th>YearsSinceLastPromotion</th>\n",
       "      <th>YearsWithCurrManager</th>\n",
       "      <th>BusinessTravel_Non-Travel</th>\n",
       "      <th>BusinessTravel_Travel_Frequently</th>\n",
       "      <th>BusinessTravel_Travel_Rarely</th>\n",
       "      <th>Department_Human Resources</th>\n",
       "      <th>Department_Research &amp; Development</th>\n",
       "      <th>Department_Sales</th>\n",
       "      <th>EducationField_Human Resources</th>\n",
       "      <th>EducationField_Life Sciences</th>\n",
       "      <th>EducationField_Marketing</th>\n",
       "      <th>EducationField_Medical</th>\n",
       "      <th>EducationField_Other</th>\n",
       "      <th>EducationField_Technical Degree</th>\n",
       "      <th>JobRole_Healthcare Representative</th>\n",
       "      <th>JobRole_Human Resources</th>\n",
       "      <th>JobRole_Laboratory Technician</th>\n",
       "      <th>JobRole_Manager</th>\n",
       "      <th>JobRole_Manufacturing Director</th>\n",
       "      <th>JobRole_Research Director</th>\n",
       "      <th>JobRole_Research Scientist</th>\n",
       "      <th>JobRole_Sales Executive</th>\n",
       "      <th>JobRole_Sales Representative</th>\n",
       "      <th>MaritalStatus_Divorced</th>\n",
       "      <th>MaritalStatus_Married</th>\n",
       "      <th>MaritalStatus_Single</th>\n",
       "    </tr>\n",
       "  </thead>\n",
       "  <tbody>\n",
       "    <tr>\n",
       "      <th>1237</th>\n",
       "      <td>1.0</td>\n",
       "      <td>0.071582</td>\n",
       "      <td>0.0</td>\n",
       "      <td>0.25</td>\n",
       "      <td>0.666667</td>\n",
       "      <td>0.0</td>\n",
       "      <td>0.042857</td>\n",
       "      <td>0.666667</td>\n",
       "      <td>0.75</td>\n",
       "      <td>1.000000</td>\n",
       "      <td>1.0</td>\n",
       "      <td>0.437181</td>\n",
       "      <td>0.111111</td>\n",
       "      <td>1.0</td>\n",
       "      <td>0.000000</td>\n",
       "      <td>0.0</td>\n",
       "      <td>0.666667</td>\n",
       "      <td>0.333333</td>\n",
       "      <td>0.650</td>\n",
       "      <td>0.500000</td>\n",
       "      <td>0.333333</td>\n",
       "      <td>0.650</td>\n",
       "      <td>0.777778</td>\n",
       "      <td>0.200000</td>\n",
       "      <td>0.000000</td>\n",
       "      <td>0.0</td>\n",
       "      <td>0.0</td>\n",
       "      <td>1.0</td>\n",
       "      <td>0.0</td>\n",
       "      <td>1.0</td>\n",
       "      <td>0.0</td>\n",
       "      <td>0.0</td>\n",
       "      <td>0.0</td>\n",
       "      <td>0.0</td>\n",
       "      <td>0.0</td>\n",
       "      <td>1.0</td>\n",
       "      <td>0.0</td>\n",
       "      <td>0.0</td>\n",
       "      <td>0.0</td>\n",
       "      <td>0.0</td>\n",
       "      <td>1.0</td>\n",
       "      <td>0.0</td>\n",
       "      <td>0.0</td>\n",
       "      <td>0.0</td>\n",
       "      <td>0.0</td>\n",
       "      <td>0.0</td>\n",
       "      <td>0.0</td>\n",
       "      <td>1.0</td>\n",
       "      <td>0.0</td>\n",
       "    </tr>\n",
       "    <tr>\n",
       "      <th>1345</th>\n",
       "      <td>1.0</td>\n",
       "      <td>0.601288</td>\n",
       "      <td>0.0</td>\n",
       "      <td>0.50</td>\n",
       "      <td>0.000000</td>\n",
       "      <td>0.0</td>\n",
       "      <td>0.328571</td>\n",
       "      <td>0.666667</td>\n",
       "      <td>0.50</td>\n",
       "      <td>0.666667</td>\n",
       "      <td>1.0</td>\n",
       "      <td>0.838787</td>\n",
       "      <td>0.222222</td>\n",
       "      <td>0.0</td>\n",
       "      <td>0.000000</td>\n",
       "      <td>0.0</td>\n",
       "      <td>1.000000</td>\n",
       "      <td>0.000000</td>\n",
       "      <td>0.375</td>\n",
       "      <td>0.333333</td>\n",
       "      <td>0.666667</td>\n",
       "      <td>0.050</td>\n",
       "      <td>0.111111</td>\n",
       "      <td>0.133333</td>\n",
       "      <td>0.117647</td>\n",
       "      <td>0.0</td>\n",
       "      <td>0.0</td>\n",
       "      <td>1.0</td>\n",
       "      <td>0.0</td>\n",
       "      <td>1.0</td>\n",
       "      <td>0.0</td>\n",
       "      <td>0.0</td>\n",
       "      <td>0.0</td>\n",
       "      <td>0.0</td>\n",
       "      <td>0.0</td>\n",
       "      <td>0.0</td>\n",
       "      <td>1.0</td>\n",
       "      <td>0.0</td>\n",
       "      <td>0.0</td>\n",
       "      <td>0.0</td>\n",
       "      <td>1.0</td>\n",
       "      <td>0.0</td>\n",
       "      <td>0.0</td>\n",
       "      <td>0.0</td>\n",
       "      <td>0.0</td>\n",
       "      <td>0.0</td>\n",
       "      <td>0.0</td>\n",
       "      <td>1.0</td>\n",
       "      <td>0.0</td>\n",
       "    </tr>\n",
       "    <tr>\n",
       "      <th>1174</th>\n",
       "      <td>1.0</td>\n",
       "      <td>0.503221</td>\n",
       "      <td>0.5</td>\n",
       "      <td>0.25</td>\n",
       "      <td>0.666667</td>\n",
       "      <td>1.0</td>\n",
       "      <td>0.385714</td>\n",
       "      <td>0.666667</td>\n",
       "      <td>0.25</td>\n",
       "      <td>0.333333</td>\n",
       "      <td>0.5</td>\n",
       "      <td>0.845975</td>\n",
       "      <td>0.111111</td>\n",
       "      <td>0.0</td>\n",
       "      <td>0.071429</td>\n",
       "      <td>0.0</td>\n",
       "      <td>0.333333</td>\n",
       "      <td>0.000000</td>\n",
       "      <td>0.225</td>\n",
       "      <td>0.833333</td>\n",
       "      <td>0.333333</td>\n",
       "      <td>0.225</td>\n",
       "      <td>0.388889</td>\n",
       "      <td>0.000000</td>\n",
       "      <td>0.470588</td>\n",
       "      <td>1.0</td>\n",
       "      <td>0.0</td>\n",
       "      <td>0.0</td>\n",
       "      <td>0.0</td>\n",
       "      <td>1.0</td>\n",
       "      <td>0.0</td>\n",
       "      <td>0.0</td>\n",
       "      <td>1.0</td>\n",
       "      <td>0.0</td>\n",
       "      <td>0.0</td>\n",
       "      <td>0.0</td>\n",
       "      <td>0.0</td>\n",
       "      <td>0.0</td>\n",
       "      <td>0.0</td>\n",
       "      <td>1.0</td>\n",
       "      <td>0.0</td>\n",
       "      <td>0.0</td>\n",
       "      <td>0.0</td>\n",
       "      <td>0.0</td>\n",
       "      <td>0.0</td>\n",
       "      <td>0.0</td>\n",
       "      <td>0.0</td>\n",
       "      <td>1.0</td>\n",
       "      <td>0.0</td>\n",
       "    </tr>\n",
       "    <tr>\n",
       "      <th>760</th>\n",
       "      <td>0.5</td>\n",
       "      <td>0.598425</td>\n",
       "      <td>0.0</td>\n",
       "      <td>0.75</td>\n",
       "      <td>0.666667</td>\n",
       "      <td>1.0</td>\n",
       "      <td>0.700000</td>\n",
       "      <td>0.666667</td>\n",
       "      <td>0.00</td>\n",
       "      <td>0.666667</td>\n",
       "      <td>0.0</td>\n",
       "      <td>0.409275</td>\n",
       "      <td>0.444444</td>\n",
       "      <td>0.0</td>\n",
       "      <td>0.714286</td>\n",
       "      <td>1.0</td>\n",
       "      <td>0.666667</td>\n",
       "      <td>0.000000</td>\n",
       "      <td>0.400</td>\n",
       "      <td>1.000000</td>\n",
       "      <td>0.666667</td>\n",
       "      <td>0.275</td>\n",
       "      <td>0.444444</td>\n",
       "      <td>0.200000</td>\n",
       "      <td>0.529412</td>\n",
       "      <td>0.0</td>\n",
       "      <td>0.0</td>\n",
       "      <td>1.0</td>\n",
       "      <td>0.0</td>\n",
       "      <td>1.0</td>\n",
       "      <td>0.0</td>\n",
       "      <td>0.0</td>\n",
       "      <td>0.0</td>\n",
       "      <td>0.0</td>\n",
       "      <td>1.0</td>\n",
       "      <td>0.0</td>\n",
       "      <td>0.0</td>\n",
       "      <td>0.0</td>\n",
       "      <td>0.0</td>\n",
       "      <td>1.0</td>\n",
       "      <td>0.0</td>\n",
       "      <td>0.0</td>\n",
       "      <td>0.0</td>\n",
       "      <td>0.0</td>\n",
       "      <td>0.0</td>\n",
       "      <td>0.0</td>\n",
       "      <td>0.0</td>\n",
       "      <td>0.0</td>\n",
       "      <td>1.0</td>\n",
       "    </tr>\n",
       "    <tr>\n",
       "      <th>139</th>\n",
       "      <td>0.0</td>\n",
       "      <td>0.338583</td>\n",
       "      <td>0.0</td>\n",
       "      <td>0.25</td>\n",
       "      <td>0.000000</td>\n",
       "      <td>0.0</td>\n",
       "      <td>0.585714</td>\n",
       "      <td>0.000000</td>\n",
       "      <td>0.00</td>\n",
       "      <td>1.000000</td>\n",
       "      <td>0.5</td>\n",
       "      <td>0.128247</td>\n",
       "      <td>0.333333</td>\n",
       "      <td>0.0</td>\n",
       "      <td>0.214286</td>\n",
       "      <td>0.0</td>\n",
       "      <td>0.000000</td>\n",
       "      <td>0.333333</td>\n",
       "      <td>0.125</td>\n",
       "      <td>0.333333</td>\n",
       "      <td>0.666667</td>\n",
       "      <td>0.050</td>\n",
       "      <td>0.111111</td>\n",
       "      <td>0.133333</td>\n",
       "      <td>0.000000</td>\n",
       "      <td>0.0</td>\n",
       "      <td>1.0</td>\n",
       "      <td>0.0</td>\n",
       "      <td>0.0</td>\n",
       "      <td>1.0</td>\n",
       "      <td>0.0</td>\n",
       "      <td>0.0</td>\n",
       "      <td>1.0</td>\n",
       "      <td>0.0</td>\n",
       "      <td>0.0</td>\n",
       "      <td>0.0</td>\n",
       "      <td>0.0</td>\n",
       "      <td>0.0</td>\n",
       "      <td>0.0</td>\n",
       "      <td>1.0</td>\n",
       "      <td>0.0</td>\n",
       "      <td>0.0</td>\n",
       "      <td>0.0</td>\n",
       "      <td>0.0</td>\n",
       "      <td>0.0</td>\n",
       "      <td>0.0</td>\n",
       "      <td>1.0</td>\n",
       "      <td>0.0</td>\n",
       "      <td>0.0</td>\n",
       "    </tr>\n",
       "  </tbody>\n",
       "</table>\n",
       "</div>"
      ],
      "text/plain": [
       "      Age  DailyRate  DistanceFromHome  Education  EnvironmentSatisfaction  \\\n",
       "1237  1.0   0.071582               0.0       0.25                 0.666667   \n",
       "1345  1.0   0.601288               0.0       0.50                 0.000000   \n",
       "1174  1.0   0.503221               0.5       0.25                 0.666667   \n",
       "760   0.5   0.598425               0.0       0.75                 0.666667   \n",
       "139   0.0   0.338583               0.0       0.25                 0.000000   \n",
       "\n",
       "      Gender  HourlyRate  JobInvolvement  JobLevel  JobSatisfaction  \\\n",
       "1237     0.0    0.042857        0.666667      0.75         1.000000   \n",
       "1345     0.0    0.328571        0.666667      0.50         0.666667   \n",
       "1174     1.0    0.385714        0.666667      0.25         0.333333   \n",
       "760      1.0    0.700000        0.666667      0.00         0.666667   \n",
       "139      0.0    0.585714        0.000000      0.00         1.000000   \n",
       "\n",
       "      MonthlyIncome  MonthlyRate  NumCompaniesWorked  OverTime  \\\n",
       "1237            1.0     0.437181            0.111111       1.0   \n",
       "1345            1.0     0.838787            0.222222       0.0   \n",
       "1174            0.5     0.845975            0.111111       0.0   \n",
       "760             0.0     0.409275            0.444444       0.0   \n",
       "139             0.5     0.128247            0.333333       0.0   \n",
       "\n",
       "      PercentSalaryHike  PerformanceRating  RelationshipSatisfaction  \\\n",
       "1237           0.000000                0.0                  0.666667   \n",
       "1345           0.000000                0.0                  1.000000   \n",
       "1174           0.071429                0.0                  0.333333   \n",
       "760            0.714286                1.0                  0.666667   \n",
       "139            0.214286                0.0                  0.000000   \n",
       "\n",
       "      StockOptionLevel  TotalWorkingYears  TrainingTimesLastYear  \\\n",
       "1237          0.333333              0.650               0.500000   \n",
       "1345          0.000000              0.375               0.333333   \n",
       "1174          0.000000              0.225               0.833333   \n",
       "760           0.000000              0.400               1.000000   \n",
       "139           0.333333              0.125               0.333333   \n",
       "\n",
       "      WorkLifeBalance  YearsAtCompany  YearsInCurrentRole  \\\n",
       "1237         0.333333           0.650            0.777778   \n",
       "1345         0.666667           0.050            0.111111   \n",
       "1174         0.333333           0.225            0.388889   \n",
       "760          0.666667           0.275            0.444444   \n",
       "139          0.666667           0.050            0.111111   \n",
       "\n",
       "      YearsSinceLastPromotion  YearsWithCurrManager  \\\n",
       "1237                 0.200000              0.000000   \n",
       "1345                 0.133333              0.117647   \n",
       "1174                 0.000000              0.470588   \n",
       "760                  0.200000              0.529412   \n",
       "139                  0.133333              0.000000   \n",
       "\n",
       "      BusinessTravel_Non-Travel  BusinessTravel_Travel_Frequently  \\\n",
       "1237                        0.0                               0.0   \n",
       "1345                        0.0                               0.0   \n",
       "1174                        1.0                               0.0   \n",
       "760                         0.0                               0.0   \n",
       "139                         0.0                               1.0   \n",
       "\n",
       "      BusinessTravel_Travel_Rarely  Department_Human Resources  \\\n",
       "1237                           1.0                         0.0   \n",
       "1345                           1.0                         0.0   \n",
       "1174                           0.0                         0.0   \n",
       "760                            1.0                         0.0   \n",
       "139                            0.0                         0.0   \n",
       "\n",
       "      Department_Research & Development  Department_Sales  \\\n",
       "1237                                1.0               0.0   \n",
       "1345                                1.0               0.0   \n",
       "1174                                1.0               0.0   \n",
       "760                                 1.0               0.0   \n",
       "139                                 1.0               0.0   \n",
       "\n",
       "      EducationField_Human Resources  EducationField_Life Sciences  \\\n",
       "1237                             0.0                           0.0   \n",
       "1345                             0.0                           0.0   \n",
       "1174                             0.0                           1.0   \n",
       "760                              0.0                           0.0   \n",
       "139                              0.0                           1.0   \n",
       "\n",
       "      EducationField_Marketing  EducationField_Medical  EducationField_Other  \\\n",
       "1237                       0.0                     0.0                   1.0   \n",
       "1345                       0.0                     0.0                   0.0   \n",
       "1174                       0.0                     0.0                   0.0   \n",
       "760                        0.0                     1.0                   0.0   \n",
       "139                        0.0                     0.0                   0.0   \n",
       "\n",
       "      EducationField_Technical Degree  JobRole_Healthcare Representative  \\\n",
       "1237                              0.0                                0.0   \n",
       "1345                              1.0                                0.0   \n",
       "1174                              0.0                                0.0   \n",
       "760                               0.0                                0.0   \n",
       "139                               0.0                                0.0   \n",
       "\n",
       "      JobRole_Human Resources  JobRole_Laboratory Technician  JobRole_Manager  \\\n",
       "1237                      0.0                            0.0              1.0   \n",
       "1345                      0.0                            0.0              1.0   \n",
       "1174                      0.0                            1.0              0.0   \n",
       "760                       0.0                            1.0              0.0   \n",
       "139                       0.0                            1.0              0.0   \n",
       "\n",
       "      JobRole_Manufacturing Director  JobRole_Research Director  \\\n",
       "1237                             0.0                        0.0   \n",
       "1345                             0.0                        0.0   \n",
       "1174                             0.0                        0.0   \n",
       "760                              0.0                        0.0   \n",
       "139                              0.0                        0.0   \n",
       "\n",
       "      JobRole_Research Scientist  JobRole_Sales Executive  \\\n",
       "1237                         0.0                      0.0   \n",
       "1345                         0.0                      0.0   \n",
       "1174                         0.0                      0.0   \n",
       "760                          0.0                      0.0   \n",
       "139                          0.0                      0.0   \n",
       "\n",
       "      JobRole_Sales Representative  MaritalStatus_Divorced  \\\n",
       "1237                           0.0                     0.0   \n",
       "1345                           0.0                     0.0   \n",
       "1174                           0.0                     0.0   \n",
       "760                            0.0                     0.0   \n",
       "139                            0.0                     1.0   \n",
       "\n",
       "      MaritalStatus_Married  MaritalStatus_Single  \n",
       "1237                    1.0                   0.0  \n",
       "1345                    1.0                   0.0  \n",
       "1174                    1.0                   0.0  \n",
       "760                     0.0                   1.0  \n",
       "139                     0.0                   0.0  "
      ]
     },
     "execution_count": 33,
     "metadata": {},
     "output_type": "execute_result"
    }
   ],
   "source": [
    "pd.DataFrame(Data, columns=Data_df.columns).sample(5, random_state=999)"
   ]
  },
  {
   "cell_type": "code",
   "execution_count": 34,
   "metadata": {},
   "outputs": [
    {
     "data": {
      "text/plain": [
       "pandas.core.series.Series"
      ]
     },
     "execution_count": 34,
     "metadata": {},
     "output_type": "execute_result"
    }
   ],
   "source": [
    "type(target)"
   ]
  },
  {
   "cell_type": "markdown",
   "metadata": {},
   "source": [
    "* In sklearn all features including target feature should be numpy array so in this step target feature is converted to numpy array."
   ]
  },
  {
   "cell_type": "code",
   "execution_count": 35,
   "metadata": {},
   "outputs": [],
   "source": [
    "#Converting target feature to NumPy array\n",
    "target = target.values"
   ]
  },
  {
   "cell_type": "code",
   "execution_count": 36,
   "metadata": {},
   "outputs": [
    {
     "data": {
      "text/plain": [
       "numpy.ndarray"
      ]
     },
     "execution_count": 36,
     "metadata": {},
     "output_type": "execute_result"
    }
   ],
   "source": [
    "type(target)"
   ]
  },
  {
   "cell_type": "markdown",
   "metadata": {},
   "source": [
    "## <u>Feature Selection and Ranking</u> <a class=\"anchor\" id=\"5\"></a>\n",
    "\n",
    "* In feature selection ten most important features with respect to target are extracted and ranked as per their scores.\n",
    "* Top Ten important features and their scores are plotted using bar graph.\n",
    "* F-score method is used to select top ten important features. \n",
    "* In this step only one method is used to extract top ten features, in hyperparameter tuning, F-Score, Mutual Information and Random Forest Importance all three methods are used to tune the hyperparameters and also the method which gives highest accuracy is selected for each of different algorithms."
   ]
  },
  {
   "cell_type": "code",
   "execution_count": 37,
   "metadata": {},
   "outputs": [
    {
     "data": {
      "text/plain": [
       "array(['OverTime', 'MaritalStatus_Single', 'MonthlyIncome',\n",
       "       'TotalWorkingYears', 'JobLevel', 'YearsInCurrentRole',\n",
       "       'JobRole_Sales Representative', 'YearsWithCurrManager', 'Age',\n",
       "       'StockOptionLevel'], dtype=object)"
      ]
     },
     "execution_count": 37,
     "metadata": {},
     "output_type": "execute_result"
    }
   ],
   "source": [
    "from sklearn import feature_selection as fs\n",
    "\n",
    "imp_features_num = 10\n",
    "imp_features_score = fs.SelectKBest(fs.f_classif, k=imp_features_num)\n",
    "imp_features_score.fit_transform(Data, target)\n",
    "imp_features_indices = np.argsort(np.nan_to_num(imp_features_score.scores_))[::-1][0:imp_features_num]\n",
    "imp_features = Data_df.columns[imp_features_indices].values\n",
    "imp_features"
   ]
  },
  {
   "cell_type": "code",
   "execution_count": 38,
   "metadata": {
    "scrolled": false
   },
   "outputs": [
    {
     "data": {
      "text/html": [
       "\n",
       "<div id=\"altair-viz-14b58313624a44848f8b29c42dacc621\"></div>\n",
       "<script type=\"text/javascript\">\n",
       "  (function(spec, embedOpt){\n",
       "    let outputDiv = document.currentScript.previousElementSibling;\n",
       "    if (outputDiv.id !== \"altair-viz-14b58313624a44848f8b29c42dacc621\") {\n",
       "      outputDiv = document.getElementById(\"altair-viz-14b58313624a44848f8b29c42dacc621\");\n",
       "    }\n",
       "    const paths = {\n",
       "      \"vega\": \"https://cdn.jsdelivr.net/npm//vega@5?noext\",\n",
       "      \"vega-lib\": \"https://cdn.jsdelivr.net/npm//vega-lib?noext\",\n",
       "      \"vega-lite\": \"https://cdn.jsdelivr.net/npm//vega-lite@4.8.1?noext\",\n",
       "      \"vega-embed\": \"https://cdn.jsdelivr.net/npm//vega-embed@6?noext\",\n",
       "    };\n",
       "\n",
       "    function loadScript(lib) {\n",
       "      return new Promise(function(resolve, reject) {\n",
       "        var s = document.createElement('script');\n",
       "        s.src = paths[lib];\n",
       "        s.async = true;\n",
       "        s.onload = () => resolve(paths[lib]);\n",
       "        s.onerror = () => reject(`Error loading script: ${paths[lib]}`);\n",
       "        document.getElementsByTagName(\"head\")[0].appendChild(s);\n",
       "      });\n",
       "    }\n",
       "\n",
       "    function showError(err) {\n",
       "      outputDiv.innerHTML = `<div class=\"error\" style=\"color:red;\">${err}</div>`;\n",
       "      throw err;\n",
       "    }\n",
       "\n",
       "    function displayChart(vegaEmbed) {\n",
       "      vegaEmbed(outputDiv, spec, embedOpt)\n",
       "        .catch(err => showError(`Javascript Error: ${err.message}<br>This usually means there's a typo in your chart specification. See the javascript console for the full traceback.`));\n",
       "    }\n",
       "\n",
       "    if(typeof define === \"function\" && define.amd) {\n",
       "      requirejs.config({paths});\n",
       "      require([\"vega-embed\"], displayChart, err => showError(`Error loading script: ${err.message}`));\n",
       "    } else if (typeof vegaEmbed === \"function\") {\n",
       "      displayChart(vegaEmbed);\n",
       "    } else {\n",
       "      loadScript(\"vega\")\n",
       "        .then(() => loadScript(\"vega-lite\"))\n",
       "        .then(() => loadScript(\"vega-embed\"))\n",
       "        .catch(showError)\n",
       "        .then(() => displayChart(vegaEmbed));\n",
       "    }\n",
       "  })({\"config\": {\"view\": {\"continuousWidth\": 400, \"continuousHeight\": 300}}, \"data\": {\"name\": \"data-f3757978c78ff9dedff1f3e6dde72843\"}, \"mark\": {\"type\": \"bar\", \"color\": \"red\", \"opacity\": 0.75}, \"encoding\": {\"x\": {\"type\": \"nominal\", \"axis\": {\"labelAngle\": 45}, \"field\": \"features\", \"sort\": null, \"title\": \"Feature\"}, \"y\": {\"type\": \"quantitative\", \"field\": \"importances\", \"title\": \"Importance\"}}, \"title\": \"10 Important Features\", \"width\": 500, \"$schema\": \"https://vega.github.io/schema/vega-lite/v4.8.1.json\", \"datasets\": {\"data-f3757978c78ff9dedff1f3e6dde72843\": [{\"features\": \"OverTime\", \"importances\": 94.65645707175155}, {\"features\": \"MaritalStatus_Single\", \"importances\": 46.60698472381}, {\"features\": \"MonthlyIncome\", \"importances\": 44.85430442556528}, {\"features\": \"TotalWorkingYears\", \"importances\": 44.252491442864184}, {\"features\": \"JobLevel\", \"importances\": 43.21534382767796}, {\"features\": \"YearsInCurrentRole\", \"importances\": 38.83830278478792}, {\"features\": \"JobRole_Sales Representative\", \"importances\": 37.212797538044896}, {\"features\": \"YearsWithCurrManager\", \"importances\": 36.71231147388763}, {\"features\": \"Age\", \"importances\": 36.56152461477898}, {\"features\": \"StockOptionLevel\", \"importances\": 28.14050091223732}]}}, {\"mode\": \"vega-lite\"});\n",
       "</script>"
      ],
      "text/plain": [
       "alt.Chart(...)"
      ]
     },
     "execution_count": 38,
     "metadata": {},
     "output_type": "execute_result"
    }
   ],
   "source": [
    "import altair as alt\n",
    "\n",
    "imp_features_fscore = imp_features_score.scores_[imp_features_indices]\n",
    "\n",
    "df = pd.DataFrame({'features': imp_features,'importances': imp_features_fscore})\n",
    "    \n",
    "alt.Chart(df, \n",
    "    width=500, \n",
    "    title='10 Important Features'\n",
    "    ).mark_bar(opacity=0.75,                       \n",
    "    color='red').encode(\n",
    "    alt.X('features', title='Feature', sort=None, axis=alt.AxisConfig(labelAngle=45)),\n",
    "    alt.Y('importances', title='Importance'))"
   ]
  },
  {
   "cell_type": "markdown",
   "metadata": {},
   "source": [
    "### Test Train split"
   ]
  },
  {
   "cell_type": "code",
   "execution_count": 39,
   "metadata": {},
   "outputs": [
    {
     "name": "stdout",
     "output_type": "stream",
     "text": [
      "(1029, 49)\n",
      "(441, 49)\n"
     ]
    }
   ],
   "source": [
    "from sklearn.model_selection import train_test_split\n",
    "\n",
    "Data_train, Data_test, target_train, target_test = train_test_split(Data, target, \n",
    "                                                    test_size = 0.3, random_state=999,\n",
    "                                                    stratify = target)\n",
    "\n",
    "print(Data_train.shape)\n",
    "print(Data_test.shape)"
   ]
  },
  {
   "cell_type": "code",
   "execution_count": 40,
   "metadata": {},
   "outputs": [
    {
     "name": "stdout",
     "output_type": "stream",
     "text": [
      "(1029,)\n",
      "(441,)\n"
     ]
    }
   ],
   "source": [
    "print(target_train.shape)\n",
    "print(target_test.shape)"
   ]
  },
  {
   "cell_type": "markdown",
   "metadata": {},
   "source": [
    "## <u>Mode Fitting & Hyperparameter Tuning</u> <a class=\"anchor\" id=\"6\"></a>\n",
    "\n",
    "* In this part we are finding optimal values of hyperparameters for each of the five algorithms.\n",
    "* 5-Folds cross validation with two repetitions is used, We are using RepeatedStratifiedKFold with to remove any bias and since there is class imabalance in target feature. \n",
    "* Pipeline is used to compare different combinations of hyperparamters along with different feature selection methods and number of features to get the maximum efficiency.\n",
    "* Three feature selection methods F-Score, Mutual Information and Random Forest Importance are used to find optimal number of features and the for each classifier method giving maximum score is selected."
   ]
  },
  {
   "cell_type": "code",
   "execution_count": 41,
   "metadata": {},
   "outputs": [],
   "source": [
    "from sklearn.pipeline import Pipeline\n",
    "from sklearn.model_selection import RepeatedStratifiedKFold, GridSearchCV\n",
    "from sklearn.feature_selection import SelectKBest, f_classif, mutual_info_classif"
   ]
  },
  {
   "cell_type": "code",
   "execution_count": 42,
   "metadata": {},
   "outputs": [],
   "source": [
    "cv_method = RepeatedStratifiedKFold(n_splits=5,n_repeats=2,random_state=999)"
   ]
  },
  {
   "cell_type": "markdown",
   "metadata": {},
   "source": [
    "* RFIFeatureSelector is custom method built over Random forest importance (RFI) method, so that RFI can be included in pipeline process. \n",
    "* RFIFeatureSelector method is taken from www.featureranking.com"
   ]
  },
  {
   "cell_type": "code",
   "execution_count": 43,
   "metadata": {},
   "outputs": [],
   "source": [
    "from sklearn.base import BaseEstimator, TransformerMixin\n",
    "\n",
    "# custom function for RFI feature selection inside a pipeline\n",
    "# here we use n_estimators=100\n",
    "class RFIFeatureSelector(BaseEstimator, TransformerMixin):\n",
    "    \n",
    "    # class constructor \n",
    "    # make sure class attributes end with a \"_\"\n",
    "    # per scikit-learn convention to avoid errors\n",
    "    def __init__(self, n_features_=10):\n",
    "        self.n_features_ = n_features_\n",
    "        self.fs_indices_ = None\n",
    "\n",
    "    # override the fit function\n",
    "    def fit(self, X, y):\n",
    "        from sklearn.ensemble import RandomForestClassifier\n",
    "        from numpy import argsort\n",
    "        model_rfi = RandomForestClassifier(n_estimators=100)\n",
    "        model_rfi.fit(X, y)\n",
    "        self.fs_indices_ = argsort(model_rfi.feature_importances_)[::-1][0:self.n_features_] \n",
    "        return self \n",
    "    \n",
    "    # override the transform function\n",
    "    def transform(self, X, y=None):\n",
    "        return X[:, self.fs_indices_]"
   ]
  },
  {
   "cell_type": "markdown",
   "metadata": {},
   "source": [
    "## K-Nearest Neighbors (KNN)"
   ]
  },
  {
   "cell_type": "markdown",
   "metadata": {},
   "source": [
    "### KNN using F-Score and Mutual Information Feature selection\n",
    "\n",
    "* Pipeline is created for KNN with two feature selection methods, number of features, values of different hyperparameters like number of neighbours and distance metric. "
   ]
  },
  {
   "cell_type": "code",
   "execution_count": 44,
   "metadata": {},
   "outputs": [],
   "source": [
    "from sklearn.neighbors import KNeighborsClassifier\n",
    "\n",
    "pipe_KNN = Pipeline([('fselector', SelectKBest()), \n",
    "                     ('knn', KNeighborsClassifier())])\n",
    "\n",
    "params_KNN = {'fselector__score_func': [f_classif, mutual_info_classif],\n",
    "                   'fselector__k': [10, 20, 30, Data.shape[1]],\n",
    "                   'knn__n_neighbors': [80,82,84,86,88,90,92,94,96,98,100],\n",
    "                   'knn__p': [1, 2]}\n",
    " \n",
    "gs_pipe_KNN = GridSearchCV(estimator=pipe_KNN, \n",
    "                           param_grid=params_KNN, \n",
    "                           cv=cv_method,\n",
    "                           n_jobs=-1,\n",
    "                           scoring='roc_auc',\n",
    "                           verbose=1)"
   ]
  },
  {
   "cell_type": "code",
   "execution_count": 45,
   "metadata": {},
   "outputs": [
    {
     "name": "stdout",
     "output_type": "stream",
     "text": [
      "Fitting 10 folds for each of 176 candidates, totalling 1760 fits\n"
     ]
    },
    {
     "name": "stderr",
     "output_type": "stream",
     "text": [
      "[Parallel(n_jobs=-1)]: Using backend LokyBackend with 4 concurrent workers.\n",
      "[Parallel(n_jobs=-1)]: Done  48 tasks      | elapsed:    5.1s\n",
      "[Parallel(n_jobs=-1)]: Done 356 tasks      | elapsed:   55.4s\n",
      "[Parallel(n_jobs=-1)]: Done 770 tasks      | elapsed:  2.2min\n",
      "[Parallel(n_jobs=-1)]: Done 1296 tasks      | elapsed:  3.7min\n",
      "[Parallel(n_jobs=-1)]: Done 1760 out of 1760 | elapsed:  4.8min finished\n"
     ]
    }
   ],
   "source": [
    "gs_pipe_KNN.fit(Data_train, target_train);"
   ]
  },
  {
   "cell_type": "code",
   "execution_count": 46,
   "metadata": {},
   "outputs": [
    {
     "data": {
      "text/plain": [
       "0.801887620921103"
      ]
     },
     "execution_count": 46,
     "metadata": {},
     "output_type": "execute_result"
    }
   ],
   "source": [
    "gs_pipe_KNN.best_score_"
   ]
  },
  {
   "cell_type": "code",
   "execution_count": 47,
   "metadata": {
    "scrolled": true
   },
   "outputs": [
    {
     "data": {
      "text/plain": [
       "{'fselector__k': 49,\n",
       " 'fselector__score_func': <function sklearn.feature_selection._univariate_selection.f_classif(X, y)>,\n",
       " 'knn__n_neighbors': 90,\n",
       " 'knn__p': 1}"
      ]
     },
     "execution_count": 47,
     "metadata": {},
     "output_type": "execute_result"
    }
   ],
   "source": [
    "gs_pipe_KNN.best_params_"
   ]
  },
  {
   "cell_type": "code",
   "execution_count": 48,
   "metadata": {},
   "outputs": [],
   "source": [
    "results_KNN = pd.DataFrame(gs_pipe_KNN.cv_results_['params'])\n",
    "results_KNN['test_score'] = gs_pipe_KNN.cv_results_['mean_test_score']\n",
    "results_KNN = results_KNN.drop(columns='fselector__score_func')\n",
    "results_KNN = results_KNN.sort_values(by='test_score', ascending=False)"
   ]
  },
  {
   "cell_type": "code",
   "execution_count": 49,
   "metadata": {},
   "outputs": [],
   "source": [
    "results_KNN.reset_index(inplace = True) \n",
    "results_KNN = results_KNN.iloc[0:30,:]"
   ]
  },
  {
   "cell_type": "code",
   "execution_count": 50,
   "metadata": {},
   "outputs": [
    {
     "data": {
      "text/html": [
       "\n",
       "<div id=\"altair-viz-6bc1a82e9a004da19d60b571362e6cf8\"></div>\n",
       "<script type=\"text/javascript\">\n",
       "  (function(spec, embedOpt){\n",
       "    let outputDiv = document.currentScript.previousElementSibling;\n",
       "    if (outputDiv.id !== \"altair-viz-6bc1a82e9a004da19d60b571362e6cf8\") {\n",
       "      outputDiv = document.getElementById(\"altair-viz-6bc1a82e9a004da19d60b571362e6cf8\");\n",
       "    }\n",
       "    const paths = {\n",
       "      \"vega\": \"https://cdn.jsdelivr.net/npm//vega@5?noext\",\n",
       "      \"vega-lib\": \"https://cdn.jsdelivr.net/npm//vega-lib?noext\",\n",
       "      \"vega-lite\": \"https://cdn.jsdelivr.net/npm//vega-lite@4.8.1?noext\",\n",
       "      \"vega-embed\": \"https://cdn.jsdelivr.net/npm//vega-embed@6?noext\",\n",
       "    };\n",
       "\n",
       "    function loadScript(lib) {\n",
       "      return new Promise(function(resolve, reject) {\n",
       "        var s = document.createElement('script');\n",
       "        s.src = paths[lib];\n",
       "        s.async = true;\n",
       "        s.onload = () => resolve(paths[lib]);\n",
       "        s.onerror = () => reject(`Error loading script: ${paths[lib]}`);\n",
       "        document.getElementsByTagName(\"head\")[0].appendChild(s);\n",
       "      });\n",
       "    }\n",
       "\n",
       "    function showError(err) {\n",
       "      outputDiv.innerHTML = `<div class=\"error\" style=\"color:red;\">${err}</div>`;\n",
       "      throw err;\n",
       "    }\n",
       "\n",
       "    function displayChart(vegaEmbed) {\n",
       "      vegaEmbed(outputDiv, spec, embedOpt)\n",
       "        .catch(err => showError(`Javascript Error: ${err.message}<br>This usually means there's a typo in your chart specification. See the javascript console for the full traceback.`));\n",
       "    }\n",
       "\n",
       "    if(typeof define === \"function\" && define.amd) {\n",
       "      requirejs.config({paths});\n",
       "      require([\"vega-embed\"], displayChart, err => showError(`Error loading script: ${err.message}`));\n",
       "    } else if (typeof vegaEmbed === \"function\") {\n",
       "      displayChart(vegaEmbed);\n",
       "    } else {\n",
       "      loadScript(\"vega\")\n",
       "        .then(() => loadScript(\"vega-lite\"))\n",
       "        .then(() => loadScript(\"vega-embed\"))\n",
       "        .catch(showError)\n",
       "        .then(() => displayChart(vegaEmbed));\n",
       "    }\n",
       "  })({\"config\": {\"view\": {\"continuousWidth\": 400, \"continuousHeight\": 300}}, \"data\": {\"name\": \"data-e04483be7bf7298a566ec9462cd73320\"}, \"mark\": {\"type\": \"line\", \"point\": true}, \"encoding\": {\"color\": {\"type\": \"nominal\", \"field\": \"knn__p\", \"title\": \"p\"}, \"x\": {\"type\": \"quantitative\", \"field\": \"knn__n_neighbors\", \"title\": \"Number of Neighbors\"}, \"y\": {\"type\": \"quantitative\", \"field\": \"test_score\", \"scale\": {\"zero\": false}, \"title\": \"AUC Score\"}}, \"title\": \"KNN top 30 Performance scores using F-score and Mutual Information feature selector\", \"$schema\": \"https://vega.github.io/schema/vega-lite/v4.8.1.json\", \"datasets\": {\"data-e04483be7bf7298a566ec9462cd73320\": [{\"index\": 164, \"fselector__k\": 49, \"knn__n_neighbors\": 90, \"knn__p\": 1, \"test_score\": 0.801887620921103}, {\"index\": 142, \"fselector__k\": 49, \"knn__n_neighbors\": 90, \"knn__p\": 1, \"test_score\": 0.801887620921103}, {\"index\": 152, \"fselector__k\": 49, \"knn__n_neighbors\": 100, \"knn__p\": 1, \"test_score\": 0.8013804717465571}, {\"index\": 174, \"fselector__k\": 49, \"knn__n_neighbors\": 100, \"knn__p\": 1, \"test_score\": 0.8013804717465571}, {\"index\": 144, \"fselector__k\": 49, \"knn__n_neighbors\": 92, \"knn__p\": 1, \"test_score\": 0.8012980156011615}, {\"index\": 166, \"fselector__k\": 49, \"knn__n_neighbors\": 92, \"knn__p\": 1, \"test_score\": 0.8012980156011615}, {\"index\": 150, \"fselector__k\": 49, \"knn__n_neighbors\": 98, \"knn__p\": 1, \"test_score\": 0.8012111893908841}, {\"index\": 172, \"fselector__k\": 49, \"knn__n_neighbors\": 98, \"knn__p\": 1, \"test_score\": 0.8012111893908841}, {\"index\": 148, \"fselector__k\": 49, \"knn__n_neighbors\": 96, \"knn__p\": 1, \"test_score\": 0.8006739739303317}, {\"index\": 170, \"fselector__k\": 49, \"knn__n_neighbors\": 96, \"knn__p\": 1, \"test_score\": 0.8006739739303317}, {\"index\": 140, \"fselector__k\": 49, \"knn__n_neighbors\": 88, \"knn__p\": 1, \"test_score\": 0.80045830718483}, {\"index\": 162, \"fselector__k\": 49, \"knn__n_neighbors\": 88, \"knn__p\": 1, \"test_score\": 0.80045830718483}, {\"index\": 116, \"fselector__k\": 30, \"knn__n_neighbors\": 86, \"knn__p\": 1, \"test_score\": 0.7996743642708767}, {\"index\": 168, \"fselector__k\": 49, \"knn__n_neighbors\": 94, \"knn__p\": 1, \"test_score\": 0.7989420549165297}, {\"index\": 146, \"fselector__k\": 49, \"knn__n_neighbors\": 94, \"knn__p\": 1, \"test_score\": 0.7989420549165297}, {\"index\": 138, \"fselector__k\": 49, \"knn__n_neighbors\": 86, \"knn__p\": 1, \"test_score\": 0.7978910917530315}, {\"index\": 160, \"fselector__k\": 49, \"knn__n_neighbors\": 86, \"knn__p\": 1, \"test_score\": 0.7978910917530315}, {\"index\": 136, \"fselector__k\": 49, \"knn__n_neighbors\": 84, \"knn__p\": 1, \"test_score\": 0.7959833517600907}, {\"index\": 158, \"fselector__k\": 49, \"knn__n_neighbors\": 84, \"knn__p\": 1, \"test_score\": 0.7959833517600907}, {\"index\": 132, \"fselector__k\": 49, \"knn__n_neighbors\": 80, \"knn__p\": 1, \"test_score\": 0.7957205787703148}, {\"index\": 154, \"fselector__k\": 49, \"knn__n_neighbors\": 80, \"knn__p\": 1, \"test_score\": 0.7957205787703148}, {\"index\": 134, \"fselector__k\": 49, \"knn__n_neighbors\": 82, \"knn__p\": 1, \"test_score\": 0.7939141020765687}, {\"index\": 156, \"fselector__k\": 49, \"knn__n_neighbors\": 82, \"knn__p\": 1, \"test_score\": 0.7939141020765687}, {\"index\": 122, \"fselector__k\": 30, \"knn__n_neighbors\": 92, \"knn__p\": 1, \"test_score\": 0.7898304052401002}, {\"index\": 128, \"fselector__k\": 30, \"knn__n_neighbors\": 98, \"knn__p\": 1, \"test_score\": 0.7891514412288275}, {\"index\": 175, \"fselector__k\": 49, \"knn__n_neighbors\": 100, \"knn__p\": 2, \"test_score\": 0.7888184566620158}, {\"index\": 153, \"fselector__k\": 49, \"knn__n_neighbors\": 100, \"knn__p\": 2, \"test_score\": 0.7888184566620158}, {\"index\": 151, \"fselector__k\": 49, \"knn__n_neighbors\": 98, \"knn__p\": 2, \"test_score\": 0.7886338012028432}, {\"index\": 173, \"fselector__k\": 49, \"knn__n_neighbors\": 98, \"knn__p\": 2, \"test_score\": 0.7886338012028432}, {\"index\": 155, \"fselector__k\": 49, \"knn__n_neighbors\": 80, \"knn__p\": 2, \"test_score\": 0.7869389543569937}]}}, {\"mode\": \"vega-lite\"});\n",
       "</script>"
      ],
      "text/plain": [
       "alt.Chart(...)"
      ]
     },
     "execution_count": 50,
     "metadata": {},
     "output_type": "execute_result"
    }
   ],
   "source": [
    "import altair as alt\n",
    "alt.renderers.enable('html')\n",
    "\n",
    "alt.Chart(results_KNN, \n",
    "          title='KNN top 30 Performance scores using F-score and Mutual Information feature selector'\n",
    "         ).mark_line(point=True).encode(\n",
    "    alt.X('knn__n_neighbors', title='Number of Neighbors'),\n",
    "    alt.Y('test_score', title='AUC Score', scale=alt.Scale(zero=False)),\n",
    "    alt.Color('knn__p:N', title='p')\n",
    ")"
   ]
  },
  {
   "cell_type": "code",
   "execution_count": 51,
   "metadata": {},
   "outputs": [],
   "source": [
    "pipe_KNN_1 = Pipeline([('fselector', SelectKBest()), \n",
    "                     ('knn', KNeighborsClassifier())])\n",
    "\n",
    "params_KNN_1 = {'fselector__score_func': [f_classif, mutual_info_classif],\n",
    "                   'fselector__k': [10, 20, 30, Data.shape[1]],\n",
    "                   'knn__n_neighbors': [100,102,104,106,108,110,112,114,116,118,120],\n",
    "                   'knn__p': [1, 2]}\n",
    " \n",
    "gs_pipe_KNN_1 = GridSearchCV(estimator=pipe_KNN_1, \n",
    "                           param_grid=params_KNN_1, \n",
    "                           cv=cv_method,\n",
    "                           n_jobs=-1,\n",
    "                           scoring='roc_auc',\n",
    "                           verbose=1)"
   ]
  },
  {
   "cell_type": "code",
   "execution_count": 52,
   "metadata": {},
   "outputs": [
    {
     "name": "stdout",
     "output_type": "stream",
     "text": [
      "Fitting 10 folds for each of 176 candidates, totalling 1760 fits\n"
     ]
    },
    {
     "name": "stderr",
     "output_type": "stream",
     "text": [
      "[Parallel(n_jobs=-1)]: Using backend LokyBackend with 4 concurrent workers.\n",
      "[Parallel(n_jobs=-1)]: Done 200 tasks      | elapsed:    2.0s\n",
      "[Parallel(n_jobs=-1)]: Done 448 tasks      | elapsed:   53.4s\n",
      "[Parallel(n_jobs=-1)]: Done 874 tasks      | elapsed:  1.9min\n",
      "[Parallel(n_jobs=-1)]: Done 1540 tasks      | elapsed:  2.9min\n",
      "[Parallel(n_jobs=-1)]: Done 1760 out of 1760 | elapsed:  3.9min finished\n"
     ]
    }
   ],
   "source": [
    "gs_pipe_KNN_1.fit(Data_train, target_train);"
   ]
  },
  {
   "cell_type": "code",
   "execution_count": 53,
   "metadata": {},
   "outputs": [
    {
     "data": {
      "text/plain": [
       "0.805097131056898"
      ]
     },
     "execution_count": 53,
     "metadata": {},
     "output_type": "execute_result"
    }
   ],
   "source": [
    "gs_pipe_KNN_1.best_score_"
   ]
  },
  {
   "cell_type": "code",
   "execution_count": 54,
   "metadata": {},
   "outputs": [
    {
     "data": {
      "text/plain": [
       "{'fselector__k': 49,\n",
       " 'fselector__score_func': <function sklearn.feature_selection._univariate_selection.f_classif(X, y)>,\n",
       " 'knn__n_neighbors': 108,\n",
       " 'knn__p': 1}"
      ]
     },
     "execution_count": 54,
     "metadata": {},
     "output_type": "execute_result"
    }
   ],
   "source": [
    "gs_pipe_KNN_1.best_params_"
   ]
  },
  {
   "cell_type": "code",
   "execution_count": 55,
   "metadata": {},
   "outputs": [],
   "source": [
    "results_KNN_1 = pd.DataFrame(gs_pipe_KNN_1.cv_results_['params'])\n",
    "results_KNN_1['test_score'] = gs_pipe_KNN_1.cv_results_['mean_test_score']\n",
    "results_KNN_1 = results_KNN_1.drop(columns='fselector__score_func')\n",
    "results_KNN_1 = results_KNN_1.sort_values(by='test_score', ascending=False)"
   ]
  },
  {
   "cell_type": "code",
   "execution_count": 56,
   "metadata": {},
   "outputs": [],
   "source": [
    "results_KNN_1.reset_index(inplace = True) \n",
    "results_KNN_1 = results_KNN_1.iloc[0:30,:]"
   ]
  },
  {
   "cell_type": "code",
   "execution_count": 57,
   "metadata": {},
   "outputs": [
    {
     "data": {
      "text/html": [
       "\n",
       "<div id=\"altair-viz-85361993f8164198bba4db0b99d249c9\"></div>\n",
       "<script type=\"text/javascript\">\n",
       "  (function(spec, embedOpt){\n",
       "    let outputDiv = document.currentScript.previousElementSibling;\n",
       "    if (outputDiv.id !== \"altair-viz-85361993f8164198bba4db0b99d249c9\") {\n",
       "      outputDiv = document.getElementById(\"altair-viz-85361993f8164198bba4db0b99d249c9\");\n",
       "    }\n",
       "    const paths = {\n",
       "      \"vega\": \"https://cdn.jsdelivr.net/npm//vega@5?noext\",\n",
       "      \"vega-lib\": \"https://cdn.jsdelivr.net/npm//vega-lib?noext\",\n",
       "      \"vega-lite\": \"https://cdn.jsdelivr.net/npm//vega-lite@4.8.1?noext\",\n",
       "      \"vega-embed\": \"https://cdn.jsdelivr.net/npm//vega-embed@6?noext\",\n",
       "    };\n",
       "\n",
       "    function loadScript(lib) {\n",
       "      return new Promise(function(resolve, reject) {\n",
       "        var s = document.createElement('script');\n",
       "        s.src = paths[lib];\n",
       "        s.async = true;\n",
       "        s.onload = () => resolve(paths[lib]);\n",
       "        s.onerror = () => reject(`Error loading script: ${paths[lib]}`);\n",
       "        document.getElementsByTagName(\"head\")[0].appendChild(s);\n",
       "      });\n",
       "    }\n",
       "\n",
       "    function showError(err) {\n",
       "      outputDiv.innerHTML = `<div class=\"error\" style=\"color:red;\">${err}</div>`;\n",
       "      throw err;\n",
       "    }\n",
       "\n",
       "    function displayChart(vegaEmbed) {\n",
       "      vegaEmbed(outputDiv, spec, embedOpt)\n",
       "        .catch(err => showError(`Javascript Error: ${err.message}<br>This usually means there's a typo in your chart specification. See the javascript console for the full traceback.`));\n",
       "    }\n",
       "\n",
       "    if(typeof define === \"function\" && define.amd) {\n",
       "      requirejs.config({paths});\n",
       "      require([\"vega-embed\"], displayChart, err => showError(`Error loading script: ${err.message}`));\n",
       "    } else if (typeof vegaEmbed === \"function\") {\n",
       "      displayChart(vegaEmbed);\n",
       "    } else {\n",
       "      loadScript(\"vega\")\n",
       "        .then(() => loadScript(\"vega-lite\"))\n",
       "        .then(() => loadScript(\"vega-embed\"))\n",
       "        .catch(showError)\n",
       "        .then(() => displayChart(vegaEmbed));\n",
       "    }\n",
       "  })({\"config\": {\"view\": {\"continuousWidth\": 400, \"continuousHeight\": 300}}, \"data\": {\"name\": \"data-98ee96dc855fe0b3789a9ccecad9fdb5\"}, \"mark\": {\"type\": \"line\", \"point\": true}, \"encoding\": {\"color\": {\"type\": \"nominal\", \"field\": \"knn__p\", \"title\": \"p\"}, \"x\": {\"type\": \"quantitative\", \"field\": \"knn__n_neighbors\", \"title\": \"Number of Neighbors\"}, \"y\": {\"type\": \"quantitative\", \"field\": \"test_score\", \"scale\": {\"zero\": false}, \"title\": \"AUC Score\"}}, \"title\": \"KNN top 30 Performance scores using F-score and Mutual Information feature selector\", \"$schema\": \"https://vega.github.io/schema/vega-lite/v4.8.1.json\", \"datasets\": {\"data-98ee96dc855fe0b3789a9ccecad9fdb5\": [{\"index\": 162, \"fselector__k\": 49, \"knn__n_neighbors\": 108, \"knn__p\": 1, \"test_score\": 0.805097131056898}, {\"index\": 140, \"fselector__k\": 49, \"knn__n_neighbors\": 108, \"knn__p\": 1, \"test_score\": 0.805097131056898}, {\"index\": 142, \"fselector__k\": 49, \"knn__n_neighbors\": 110, \"knn__p\": 1, \"test_score\": 0.8046244751429272}, {\"index\": 164, \"fselector__k\": 49, \"knn__n_neighbors\": 110, \"knn__p\": 1, \"test_score\": 0.8046244751429272}, {\"index\": 134, \"fselector__k\": 49, \"knn__n_neighbors\": 102, \"knn__p\": 1, \"test_score\": 0.8041435583386589}, {\"index\": 156, \"fselector__k\": 49, \"knn__n_neighbors\": 102, \"knn__p\": 1, \"test_score\": 0.8041435583386589}, {\"index\": 136, \"fselector__k\": 49, \"knn__n_neighbors\": 104, \"knn__p\": 1, \"test_score\": 0.8040030483224342}, {\"index\": 158, \"fselector__k\": 49, \"knn__n_neighbors\": 104, \"knn__p\": 1, \"test_score\": 0.8040030483224342}, {\"index\": 150, \"fselector__k\": 49, \"knn__n_neighbors\": 118, \"knn__p\": 1, \"test_score\": 0.80375655749352}, {\"index\": 172, \"fselector__k\": 49, \"knn__n_neighbors\": 118, \"knn__p\": 1, \"test_score\": 0.80375655749352}, {\"index\": 138, \"fselector__k\": 49, \"knn__n_neighbors\": 106, \"knn__p\": 1, \"test_score\": 0.8037015228313276}, {\"index\": 160, \"fselector__k\": 49, \"knn__n_neighbors\": 106, \"knn__p\": 1, \"test_score\": 0.8037015228313276}, {\"index\": 174, \"fselector__k\": 49, \"knn__n_neighbors\": 120, \"knn__p\": 1, \"test_score\": 0.80322902117256}, {\"index\": 152, \"fselector__k\": 49, \"knn__n_neighbors\": 120, \"knn__p\": 1, \"test_score\": 0.80322902117256}, {\"index\": 170, \"fselector__k\": 49, \"knn__n_neighbors\": 116, \"knn__p\": 1, \"test_score\": 0.8025811672907563}, {\"index\": 148, \"fselector__k\": 49, \"knn__n_neighbors\": 116, \"knn__p\": 1, \"test_score\": 0.8025811672907563}, {\"index\": 146, \"fselector__k\": 49, \"knn__n_neighbors\": 114, \"knn__p\": 1, \"test_score\": 0.8017013450334856}, {\"index\": 168, \"fselector__k\": 49, \"knn__n_neighbors\": 114, \"knn__p\": 1, \"test_score\": 0.8017013450334856}, {\"index\": 144, \"fselector__k\": 49, \"knn__n_neighbors\": 112, \"knn__p\": 1, \"test_score\": 0.8015723412573182}, {\"index\": 166, \"fselector__k\": 49, \"knn__n_neighbors\": 112, \"knn__p\": 1, \"test_score\": 0.8015723412573182}, {\"index\": 154, \"fselector__k\": 49, \"knn__n_neighbors\": 100, \"knn__p\": 1, \"test_score\": 0.8013804717465571}, {\"index\": 132, \"fselector__k\": 49, \"knn__n_neighbors\": 100, \"knn__p\": 1, \"test_score\": 0.8013804717465571}, {\"index\": 122, \"fselector__k\": 30, \"knn__n_neighbors\": 112, \"knn__p\": 1, \"test_score\": 0.7960153874207787}, {\"index\": 161, \"fselector__k\": 49, \"knn__n_neighbors\": 106, \"knn__p\": 2, \"test_score\": 0.7937725332406483}, {\"index\": 139, \"fselector__k\": 49, \"knn__n_neighbors\": 106, \"knn__p\": 2, \"test_score\": 0.7937725332406483}, {\"index\": 167, \"fselector__k\": 49, \"knn__n_neighbors\": 112, \"knn__p\": 2, \"test_score\": 0.7927027599281046}, {\"index\": 145, \"fselector__k\": 49, \"knn__n_neighbors\": 112, \"knn__p\": 2, \"test_score\": 0.7927027599281046}, {\"index\": 163, \"fselector__k\": 49, \"knn__n_neighbors\": 108, \"knn__p\": 2, \"test_score\": 0.7925318646321035}, {\"index\": 141, \"fselector__k\": 49, \"knn__n_neighbors\": 108, \"knn__p\": 2, \"test_score\": 0.7925318646321035}, {\"index\": 143, \"fselector__k\": 49, \"knn__n_neighbors\": 110, \"knn__p\": 2, \"test_score\": 0.792451376363766}]}}, {\"mode\": \"vega-lite\"});\n",
       "</script>"
      ],
      "text/plain": [
       "alt.Chart(...)"
      ]
     },
     "execution_count": 57,
     "metadata": {},
     "output_type": "execute_result"
    }
   ],
   "source": [
    "alt.Chart(results_KNN_1, \n",
    "          title='KNN top 30 Performance scores using F-score and Mutual Information feature selector'\n",
    "         ).mark_line(point=True).encode(\n",
    "    alt.X('knn__n_neighbors', title='Number of Neighbors'),\n",
    "    alt.Y('test_score', title='AUC Score', scale=alt.Scale(zero=False)),\n",
    "    alt.Color('knn__p:N', title='p')\n",
    ")"
   ]
  },
  {
   "cell_type": "markdown",
   "metadata": {},
   "source": [
    "### KNN using Random Forest Importance Feature selection"
   ]
  },
  {
   "cell_type": "code",
   "execution_count": 58,
   "metadata": {},
   "outputs": [],
   "source": [
    "pipe_KNN_2 = Pipeline(steps=[('rfi_fs', RFIFeatureSelector()), \n",
    "                           ('knn', KNeighborsClassifier())])\n",
    "\n",
    "params_KNN_2 = {'rfi_fs__n_features_': [10, 20, 30, Data.shape[1]],\n",
    "                   'knn__n_neighbors': [80,82,84,86,88,90,92,94,96,98,100,102,104,106,108,110,112,114,116,118,120],\n",
    "                   'knn__p': [1, 2]}\n",
    "\n",
    "gs_pipe_KNN_2 = GridSearchCV(estimator=pipe_KNN_2, \n",
    "                           param_grid=params_KNN_2, \n",
    "                           cv=cv_method,\n",
    "                           refit=True,\n",
    "                           n_jobs=-1,\n",
    "                           scoring='roc_auc',\n",
    "                           verbose=1)"
   ]
  },
  {
   "cell_type": "code",
   "execution_count": 59,
   "metadata": {},
   "outputs": [
    {
     "name": "stdout",
     "output_type": "stream",
     "text": [
      "Fitting 10 folds for each of 168 candidates, totalling 1680 fits\n"
     ]
    },
    {
     "name": "stderr",
     "output_type": "stream",
     "text": [
      "[Parallel(n_jobs=-1)]: Using backend LokyBackend with 4 concurrent workers.\n",
      "[Parallel(n_jobs=-1)]: Done  42 tasks      | elapsed:    6.6s\n",
      "[Parallel(n_jobs=-1)]: Done 192 tasks      | elapsed:   29.3s\n",
      "[Parallel(n_jobs=-1)]: Done 442 tasks      | elapsed:  1.2min\n",
      "[Parallel(n_jobs=-1)]: Done 792 tasks      | elapsed:  2.0min\n",
      "[Parallel(n_jobs=-1)]: Done 1242 tasks      | elapsed:  3.2min\n",
      "[Parallel(n_jobs=-1)]: Done 1680 out of 1680 | elapsed:  4.3min finished\n"
     ]
    }
   ],
   "source": [
    "gs_pipe_KNN_2.fit(Data_train, target_train);"
   ]
  },
  {
   "cell_type": "code",
   "execution_count": 60,
   "metadata": {},
   "outputs": [
    {
     "data": {
      "text/plain": [
       "0.809118406952902"
      ]
     },
     "execution_count": 60,
     "metadata": {},
     "output_type": "execute_result"
    }
   ],
   "source": [
    "gs_pipe_KNN_2.best_score_"
   ]
  },
  {
   "cell_type": "code",
   "execution_count": 61,
   "metadata": {},
   "outputs": [
    {
     "data": {
      "text/plain": [
       "{'knn__n_neighbors': 116, 'knn__p': 1, 'rfi_fs__n_features_': 30}"
      ]
     },
     "execution_count": 61,
     "metadata": {},
     "output_type": "execute_result"
    }
   ],
   "source": [
    "gs_pipe_KNN_2.best_params_"
   ]
  },
  {
   "cell_type": "code",
   "execution_count": 62,
   "metadata": {},
   "outputs": [],
   "source": [
    "results_KNN = pd.DataFrame(gs_pipe_KNN_2.cv_results_['params'])\n",
    "results_KNN['test_score'] = gs_pipe_KNN_2.cv_results_['mean_test_score']\n",
    "results_KNN = results_KNN.drop(columns='rfi_fs__n_features_')\n",
    "results_KNN = results_KNN.sort_values(by='test_score', ascending=False)"
   ]
  },
  {
   "cell_type": "code",
   "execution_count": 63,
   "metadata": {},
   "outputs": [],
   "source": [
    "results_KNN.reset_index(inplace = True) \n",
    "results_KNN = results_KNN.iloc[0:30,:]"
   ]
  },
  {
   "cell_type": "code",
   "execution_count": 64,
   "metadata": {},
   "outputs": [
    {
     "data": {
      "text/html": [
       "\n",
       "<div id=\"altair-viz-8be67fdf792e4099a8b6e3b7439c4b09\"></div>\n",
       "<script type=\"text/javascript\">\n",
       "  (function(spec, embedOpt){\n",
       "    let outputDiv = document.currentScript.previousElementSibling;\n",
       "    if (outputDiv.id !== \"altair-viz-8be67fdf792e4099a8b6e3b7439c4b09\") {\n",
       "      outputDiv = document.getElementById(\"altair-viz-8be67fdf792e4099a8b6e3b7439c4b09\");\n",
       "    }\n",
       "    const paths = {\n",
       "      \"vega\": \"https://cdn.jsdelivr.net/npm//vega@5?noext\",\n",
       "      \"vega-lib\": \"https://cdn.jsdelivr.net/npm//vega-lib?noext\",\n",
       "      \"vega-lite\": \"https://cdn.jsdelivr.net/npm//vega-lite@4.8.1?noext\",\n",
       "      \"vega-embed\": \"https://cdn.jsdelivr.net/npm//vega-embed@6?noext\",\n",
       "    };\n",
       "\n",
       "    function loadScript(lib) {\n",
       "      return new Promise(function(resolve, reject) {\n",
       "        var s = document.createElement('script');\n",
       "        s.src = paths[lib];\n",
       "        s.async = true;\n",
       "        s.onload = () => resolve(paths[lib]);\n",
       "        s.onerror = () => reject(`Error loading script: ${paths[lib]}`);\n",
       "        document.getElementsByTagName(\"head\")[0].appendChild(s);\n",
       "      });\n",
       "    }\n",
       "\n",
       "    function showError(err) {\n",
       "      outputDiv.innerHTML = `<div class=\"error\" style=\"color:red;\">${err}</div>`;\n",
       "      throw err;\n",
       "    }\n",
       "\n",
       "    function displayChart(vegaEmbed) {\n",
       "      vegaEmbed(outputDiv, spec, embedOpt)\n",
       "        .catch(err => showError(`Javascript Error: ${err.message}<br>This usually means there's a typo in your chart specification. See the javascript console for the full traceback.`));\n",
       "    }\n",
       "\n",
       "    if(typeof define === \"function\" && define.amd) {\n",
       "      requirejs.config({paths});\n",
       "      require([\"vega-embed\"], displayChart, err => showError(`Error loading script: ${err.message}`));\n",
       "    } else if (typeof vegaEmbed === \"function\") {\n",
       "      displayChart(vegaEmbed);\n",
       "    } else {\n",
       "      loadScript(\"vega\")\n",
       "        .then(() => loadScript(\"vega-lite\"))\n",
       "        .then(() => loadScript(\"vega-embed\"))\n",
       "        .catch(showError)\n",
       "        .then(() => displayChart(vegaEmbed));\n",
       "    }\n",
       "  })({\"config\": {\"view\": {\"continuousWidth\": 400, \"continuousHeight\": 300}}, \"data\": {\"name\": \"data-7c63590dbe27251b5249f1347e0e3d76\"}, \"mark\": {\"type\": \"line\", \"point\": true}, \"encoding\": {\"color\": {\"type\": \"nominal\", \"field\": \"knn__p\", \"title\": \"p\"}, \"x\": {\"type\": \"quantitative\", \"field\": \"knn__n_neighbors\", \"title\": \"Number of Neighbors\"}, \"y\": {\"type\": \"quantitative\", \"field\": \"test_score\", \"scale\": {\"zero\": false}, \"title\": \"AUC Score\"}}, \"title\": \"KNN top 30 Performance scores using RFI feature selector\", \"$schema\": \"https://vega.github.io/schema/vega-lite/v4.8.1.json\", \"datasets\": {\"data-7c63590dbe27251b5249f1347e0e3d76\": [{\"index\": 146, \"knn__n_neighbors\": 116, \"knn__p\": 1, \"test_score\": 0.809118406952902}, {\"index\": 98, \"knn__n_neighbors\": 104, \"knn__p\": 1, \"test_score\": 0.8060279114456522}, {\"index\": 115, \"knn__n_neighbors\": 108, \"knn__p\": 1, \"test_score\": 0.805097131056898}, {\"index\": 138, \"knn__n_neighbors\": 114, \"knn__p\": 1, \"test_score\": 0.8049161253057846}, {\"index\": 123, \"knn__n_neighbors\": 110, \"knn__p\": 1, \"test_score\": 0.8046244751429272}, {\"index\": 91, \"knn__n_neighbors\": 102, \"knn__p\": 1, \"test_score\": 0.8041435583386589}, {\"index\": 99, \"knn__n_neighbors\": 104, \"knn__p\": 1, \"test_score\": 0.8040030483224342}, {\"index\": 155, \"knn__n_neighbors\": 118, \"knn__p\": 1, \"test_score\": 0.80375655749352}, {\"index\": 107, \"knn__n_neighbors\": 106, \"knn__p\": 1, \"test_score\": 0.8037015228313276}, {\"index\": 163, \"knn__n_neighbors\": 120, \"knn__p\": 1, \"test_score\": 0.80322902117256}, {\"index\": 147, \"knn__n_neighbors\": 116, \"knn__p\": 1, \"test_score\": 0.8025811672907563}, {\"index\": 10, \"knn__n_neighbors\": 82, \"knn__p\": 1, \"test_score\": 0.8019958781212566}, {\"index\": 43, \"knn__n_neighbors\": 90, \"knn__p\": 1, \"test_score\": 0.801887620921103}, {\"index\": 139, \"knn__n_neighbors\": 114, \"knn__p\": 1, \"test_score\": 0.8017013450334856}, {\"index\": 131, \"knn__n_neighbors\": 112, \"knn__p\": 1, \"test_score\": 0.8015723412573182}, {\"index\": 83, \"knn__n_neighbors\": 100, \"knn__p\": 1, \"test_score\": 0.8013804717465571}, {\"index\": 51, \"knn__n_neighbors\": 92, \"knn__p\": 1, \"test_score\": 0.8012980156011615}, {\"index\": 75, \"knn__n_neighbors\": 98, \"knn__p\": 1, \"test_score\": 0.8012111893908841}, {\"index\": 67, \"knn__n_neighbors\": 96, \"knn__p\": 1, \"test_score\": 0.8006739739303317}, {\"index\": 35, \"knn__n_neighbors\": 88, \"knn__p\": 1, \"test_score\": 0.80045830718483}, {\"index\": 34, \"knn__n_neighbors\": 88, \"knn__p\": 1, \"test_score\": 0.7998620688911525}, {\"index\": 18, \"knn__n_neighbors\": 84, \"knn__p\": 1, \"test_score\": 0.7998567852760383}, {\"index\": 54, \"knn__n_neighbors\": 92, \"knn__p\": 2, \"test_score\": 0.7993115545354146}, {\"index\": 59, \"knn__n_neighbors\": 94, \"knn__p\": 1, \"test_score\": 0.7989420549165297}, {\"index\": 27, \"knn__n_neighbors\": 86, \"knn__p\": 1, \"test_score\": 0.7978910917530315}, {\"index\": 105, \"knn__n_neighbors\": 106, \"knn__p\": 1, \"test_score\": 0.7974060864370678}, {\"index\": 74, \"knn__n_neighbors\": 98, \"knn__p\": 1, \"test_score\": 0.7970963285105069}, {\"index\": 90, \"knn__n_neighbors\": 102, \"knn__p\": 1, \"test_score\": 0.7966614800975446}, {\"index\": 121, \"knn__n_neighbors\": 110, \"knn__p\": 1, \"test_score\": 0.7965788472325958}, {\"index\": 162, \"knn__n_neighbors\": 120, \"knn__p\": 1, \"test_score\": 0.7965055295847702}]}}, {\"mode\": \"vega-lite\"});\n",
       "</script>"
      ],
      "text/plain": [
       "alt.Chart(...)"
      ]
     },
     "execution_count": 64,
     "metadata": {},
     "output_type": "execute_result"
    }
   ],
   "source": [
    "alt.Chart(results_KNN, \n",
    "          title='KNN top 30 Performance scores using RFI feature selector'\n",
    "         ).mark_line(point=True).encode(\n",
    "    alt.X('knn__n_neighbors', title='Number of Neighbors'),\n",
    "    alt.Y('test_score', title='AUC Score', scale=alt.Scale(zero=False)),\n",
    "    alt.Color('knn__p:N', title='p')\n",
    ")"
   ]
  },
  {
   "cell_type": "markdown",
   "metadata": {},
   "source": [
    "* For KNN it is observed that the Feature selection with `Random Forest Importance` with `30` features is giving the maximum accuracy with `116` number of neighbours and `manhattan` distance metric.\n",
    "* `gs_pipe_KNN_2` is tuned and used below to get the performance on test data."
   ]
  },
  {
   "cell_type": "markdown",
   "metadata": {},
   "source": [
    "### KNN performance on Test data"
   ]
  },
  {
   "cell_type": "code",
   "execution_count": 65,
   "metadata": {},
   "outputs": [
    {
     "data": {
      "text/plain": [
       "0.7387910231660231"
      ]
     },
     "execution_count": 65,
     "metadata": {},
     "output_type": "execute_result"
    }
   ],
   "source": [
    "from sklearn.model_selection import cross_val_score\n",
    "\n",
    "cv_test = RepeatedStratifiedKFold(n_splits=10, n_repeats=2,random_state=999)\n",
    "\n",
    "cv_results_KNN = cross_val_score(estimator=gs_pipe_KNN_2.best_estimator_,\n",
    "                                 X=Data_test,\n",
    "                                 y=target_test, \n",
    "                                 cv=cv_test, \n",
    "                                 n_jobs=-1,\n",
    "                                 scoring='roc_auc')\n",
    "cv_results_KNN.mean()"
   ]
  },
  {
   "cell_type": "markdown",
   "metadata": {},
   "source": [
    "## Decision Trees (DT)"
   ]
  },
  {
   "cell_type": "markdown",
   "metadata": {},
   "source": [
    "### DT using F-Score Feature selection"
   ]
  },
  {
   "cell_type": "code",
   "execution_count": 66,
   "metadata": {},
   "outputs": [],
   "source": [
    "from sklearn.tree import DecisionTreeClassifier\n",
    "\n",
    "pipe_DT = Pipeline([('fselector', SelectKBest(score_func=f_classif)), \n",
    "                     ('dt', DecisionTreeClassifier())])\n",
    "\n",
    "params_DT = {'fselector__k': [10, 20, 30, Data.shape[1]],\n",
    "                   'dt__criterion': ['gini', 'entropy'],\n",
    "                   'dt__max_depth': [1, 2, 3, 4, 5, 6],\n",
    "                   'dt__min_samples_split': [2, 3, 4, 5, 6, 7, 8, 9, 10]}\n",
    " \n",
    "gs_pipe_DT = GridSearchCV(estimator=pipe_DT, \n",
    "                           param_grid=params_DT, \n",
    "                           cv=cv_method,\n",
    "                           n_jobs=-1,\n",
    "                           scoring='roc_auc',\n",
    "                           verbose=1)"
   ]
  },
  {
   "cell_type": "code",
   "execution_count": 67,
   "metadata": {},
   "outputs": [
    {
     "name": "stdout",
     "output_type": "stream",
     "text": [
      "Fitting 10 folds for each of 432 candidates, totalling 4320 fits\n"
     ]
    },
    {
     "name": "stderr",
     "output_type": "stream",
     "text": [
      "[Parallel(n_jobs=-1)]: Using backend LokyBackend with 4 concurrent workers.\n",
      "[Parallel(n_jobs=-1)]: Done 280 tasks      | elapsed:    1.3s\n",
      "[Parallel(n_jobs=-1)]: Done 2680 tasks      | elapsed:    9.2s\n",
      "[Parallel(n_jobs=-1)]: Done 4320 out of 4320 | elapsed:   15.0s finished\n"
     ]
    }
   ],
   "source": [
    "gs_pipe_DT.fit(Data_train, target_train);"
   ]
  },
  {
   "cell_type": "code",
   "execution_count": 68,
   "metadata": {},
   "outputs": [
    {
     "data": {
      "text/plain": [
       "0.7346247039797722"
      ]
     },
     "execution_count": 68,
     "metadata": {},
     "output_type": "execute_result"
    }
   ],
   "source": [
    "gs_pipe_DT.best_score_"
   ]
  },
  {
   "cell_type": "code",
   "execution_count": 69,
   "metadata": {},
   "outputs": [
    {
     "data": {
      "text/plain": [
       "{'dt__criterion': 'gini',\n",
       " 'dt__max_depth': 4,\n",
       " 'dt__min_samples_split': 3,\n",
       " 'fselector__k': 10}"
      ]
     },
     "execution_count": 69,
     "metadata": {},
     "output_type": "execute_result"
    }
   ],
   "source": [
    "gs_pipe_DT.best_params_"
   ]
  },
  {
   "cell_type": "code",
   "execution_count": 70,
   "metadata": {},
   "outputs": [],
   "source": [
    "results_DT = pd.DataFrame(gs_pipe_DT.cv_results_['params'])\n",
    "results_DT['test_score'] = gs_pipe_DT.cv_results_['mean_test_score']\n",
    "results_DT = results_DT.drop(columns='fselector__k')\n",
    "results_DT = results_DT.sort_values(by='test_score', ascending=False)"
   ]
  },
  {
   "cell_type": "code",
   "execution_count": 71,
   "metadata": {},
   "outputs": [],
   "source": [
    "results_DT.reset_index(inplace = True) \n",
    "results_DT = results_DT.iloc[0:30,:]"
   ]
  },
  {
   "cell_type": "code",
   "execution_count": 72,
   "metadata": {},
   "outputs": [
    {
     "data": {
      "text/html": [
       "\n",
       "<div id=\"altair-viz-c1b8dd26c8334f2f98cef91515397b2c\"></div>\n",
       "<script type=\"text/javascript\">\n",
       "  (function(spec, embedOpt){\n",
       "    let outputDiv = document.currentScript.previousElementSibling;\n",
       "    if (outputDiv.id !== \"altair-viz-c1b8dd26c8334f2f98cef91515397b2c\") {\n",
       "      outputDiv = document.getElementById(\"altair-viz-c1b8dd26c8334f2f98cef91515397b2c\");\n",
       "    }\n",
       "    const paths = {\n",
       "      \"vega\": \"https://cdn.jsdelivr.net/npm//vega@5?noext\",\n",
       "      \"vega-lib\": \"https://cdn.jsdelivr.net/npm//vega-lib?noext\",\n",
       "      \"vega-lite\": \"https://cdn.jsdelivr.net/npm//vega-lite@4.8.1?noext\",\n",
       "      \"vega-embed\": \"https://cdn.jsdelivr.net/npm//vega-embed@6?noext\",\n",
       "    };\n",
       "\n",
       "    function loadScript(lib) {\n",
       "      return new Promise(function(resolve, reject) {\n",
       "        var s = document.createElement('script');\n",
       "        s.src = paths[lib];\n",
       "        s.async = true;\n",
       "        s.onload = () => resolve(paths[lib]);\n",
       "        s.onerror = () => reject(`Error loading script: ${paths[lib]}`);\n",
       "        document.getElementsByTagName(\"head\")[0].appendChild(s);\n",
       "      });\n",
       "    }\n",
       "\n",
       "    function showError(err) {\n",
       "      outputDiv.innerHTML = `<div class=\"error\" style=\"color:red;\">${err}</div>`;\n",
       "      throw err;\n",
       "    }\n",
       "\n",
       "    function displayChart(vegaEmbed) {\n",
       "      vegaEmbed(outputDiv, spec, embedOpt)\n",
       "        .catch(err => showError(`Javascript Error: ${err.message}<br>This usually means there's a typo in your chart specification. See the javascript console for the full traceback.`));\n",
       "    }\n",
       "\n",
       "    if(typeof define === \"function\" && define.amd) {\n",
       "      requirejs.config({paths});\n",
       "      require([\"vega-embed\"], displayChart, err => showError(`Error loading script: ${err.message}`));\n",
       "    } else if (typeof vegaEmbed === \"function\") {\n",
       "      displayChart(vegaEmbed);\n",
       "    } else {\n",
       "      loadScript(\"vega\")\n",
       "        .then(() => loadScript(\"vega-lite\"))\n",
       "        .then(() => loadScript(\"vega-embed\"))\n",
       "        .catch(showError)\n",
       "        .then(() => displayChart(vegaEmbed));\n",
       "    }\n",
       "  })({\"config\": {\"view\": {\"continuousWidth\": 400, \"continuousHeight\": 300}}, \"data\": {\"name\": \"data-3da439165f11c2eeca07cce30a87a37c\"}, \"mark\": {\"type\": \"line\", \"point\": true}, \"encoding\": {\"color\": {\"type\": \"nominal\", \"field\": \"dt__max_depth\", \"title\": \"Max Depth\"}, \"x\": {\"type\": \"quantitative\", \"field\": \"dt__min_samples_split\", \"title\": \"Minimum Samples Split\"}, \"y\": {\"type\": \"quantitative\", \"field\": \"test_score\", \"scale\": {\"zero\": false}, \"title\": \"AUC Score\"}}, \"title\": \"DT Top 30 Performance score Comparison\", \"$schema\": \"https://vega.github.io/schema/vega-lite/v4.8.1.json\", \"datasets\": {\"data-3da439165f11c2eeca07cce30a87a37c\": [{\"index\": 120, \"dt__criterion\": \"gini\", \"dt__max_depth\": 4, \"dt__min_samples_split\": 5, \"test_score\": 0.7346247039797722}, {\"index\": 112, \"dt__criterion\": \"gini\", \"dt__max_depth\": 4, \"dt__min_samples_split\": 3, \"test_score\": 0.7346247039797722}, {\"index\": 108, \"dt__criterion\": \"gini\", \"dt__max_depth\": 4, \"dt__min_samples_split\": 2, \"test_score\": 0.7346071877772851}, {\"index\": 116, \"dt__criterion\": \"gini\", \"dt__max_depth\": 4, \"dt__min_samples_split\": 4, \"test_score\": 0.7345458810685794}, {\"index\": 132, \"dt__criterion\": \"gini\", \"dt__max_depth\": 4, \"dt__min_samples_split\": 8, \"test_score\": 0.734091084312839}, {\"index\": 136, \"dt__criterion\": \"gini\", \"dt__max_depth\": 4, \"dt__min_samples_split\": 9, \"test_score\": 0.7340472938066206}, {\"index\": 124, \"dt__criterion\": \"gini\", \"dt__max_depth\": 4, \"dt__min_samples_split\": 6, \"test_score\": 0.7337642714517769}, {\"index\": 128, \"dt__criterion\": \"gini\", \"dt__max_depth\": 4, \"dt__min_samples_split\": 7, \"test_score\": 0.7337386216569752}, {\"index\": 140, \"dt__criterion\": \"gini\", \"dt__max_depth\": 4, \"dt__min_samples_split\": 10, \"test_score\": 0.7337386216569752}, {\"index\": 326, \"dt__criterion\": \"entropy\", \"dt__max_depth\": 4, \"dt__min_samples_split\": 2, \"test_score\": 0.7270244407934385}, {\"index\": 113, \"dt__criterion\": \"gini\", \"dt__max_depth\": 4, \"dt__min_samples_split\": 3, \"test_score\": 0.7267559513754053}, {\"index\": 338, \"dt__criterion\": \"entropy\", \"dt__max_depth\": 4, \"dt__min_samples_split\": 5, \"test_score\": 0.7264989547188194}, {\"index\": 121, \"dt__criterion\": \"gini\", \"dt__max_depth\": 4, \"dt__min_samples_split\": 5, \"test_score\": 0.7262830139082481}, {\"index\": 137, \"dt__criterion\": \"gini\", \"dt__max_depth\": 4, \"dt__min_samples_split\": 9, \"test_score\": 0.7260986864285853}, {\"index\": 129, \"dt__criterion\": \"gini\", \"dt__max_depth\": 4, \"dt__min_samples_split\": 7, \"test_score\": 0.7258520338563514}, {\"index\": 133, \"dt__criterion\": \"gini\", \"dt__max_depth\": 4, \"dt__min_samples_split\": 8, \"test_score\": 0.7256540899853569}, {\"index\": 141, \"dt__criterion\": \"gini\", \"dt__max_depth\": 4, \"dt__min_samples_split\": 10, \"test_score\": 0.7256540899853569}, {\"index\": 334, \"dt__criterion\": \"entropy\", \"dt__max_depth\": 4, \"dt__min_samples_split\": 4, \"test_score\": 0.7255447410177943}, {\"index\": 125, \"dt__criterion\": \"gini\", \"dt__max_depth\": 4, \"dt__min_samples_split\": 6, \"test_score\": 0.7254681031390425}, {\"index\": 109, \"dt__criterion\": \"gini\", \"dt__max_depth\": 4, \"dt__min_samples_split\": 2, \"test_score\": 0.7246707085723241}, {\"index\": 330, \"dt__criterion\": \"entropy\", \"dt__max_depth\": 4, \"dt__min_samples_split\": 3, \"test_score\": 0.724526358649877}, {\"index\": 358, \"dt__criterion\": \"entropy\", \"dt__max_depth\": 4, \"dt__min_samples_split\": 10, \"test_score\": 0.7233002244757659}, {\"index\": 342, \"dt__criterion\": \"entropy\", \"dt__max_depth\": 4, \"dt__min_samples_split\": 6, \"test_score\": 0.7229248601639142}, {\"index\": 354, \"dt__criterion\": \"entropy\", \"dt__max_depth\": 4, \"dt__min_samples_split\": 9, \"test_score\": 0.7228898277589397}, {\"index\": 350, \"dt__criterion\": \"entropy\", \"dt__max_depth\": 4, \"dt__min_samples_split\": 8, \"test_score\": 0.7228898277589397}, {\"index\": 346, \"dt__criterion\": \"entropy\", \"dt__max_depth\": 4, \"dt__min_samples_split\": 7, \"test_score\": 0.7224694388992444}, {\"index\": 117, \"dt__criterion\": \"gini\", \"dt__max_depth\": 4, \"dt__min_samples_split\": 4, \"test_score\": 0.7222300797526358}, {\"index\": 320, \"dt__criterion\": \"entropy\", \"dt__max_depth\": 3, \"dt__min_samples_split\": 10, \"test_score\": 0.7222064637303184}, {\"index\": 300, \"dt__criterion\": \"entropy\", \"dt__max_depth\": 3, \"dt__min_samples_split\": 5, \"test_score\": 0.7222064637303184}, {\"index\": 316, \"dt__criterion\": \"entropy\", \"dt__max_depth\": 3, \"dt__min_samples_split\": 9, \"test_score\": 0.7222064637303184}]}}, {\"mode\": \"vega-lite\"});\n",
       "</script>"
      ],
      "text/plain": [
       "alt.Chart(...)"
      ]
     },
     "execution_count": 72,
     "metadata": {},
     "output_type": "execute_result"
    }
   ],
   "source": [
    "alt.Chart(results_DT, \n",
    "          title='DT Top 30 Performance score Comparison'\n",
    "         ).mark_line(point=True).encode(\n",
    "    alt.X('dt__min_samples_split', title='Minimum Samples Split'),\n",
    "    alt.Y('test_score', title='AUC Score', scale=alt.Scale(zero=False)),\n",
    "    alt.Color('dt__max_depth:N', title='Max Depth')\n",
    ")"
   ]
  },
  {
   "cell_type": "markdown",
   "metadata": {},
   "source": [
    "### DT using Mutual Information Feature selection"
   ]
  },
  {
   "cell_type": "code",
   "execution_count": 73,
   "metadata": {},
   "outputs": [],
   "source": [
    "pipe_DT_1 = Pipeline([('fselector', SelectKBest(score_func=mutual_info_classif)), \n",
    "                     ('dt', DecisionTreeClassifier())])\n",
    "\n",
    "params_pipe_DT_1 = {'fselector__k': [10, 20, 30, Data.shape[1]],\n",
    "                   'dt__criterion': ['gini', 'entropy'],\n",
    "                   'dt__max_depth': [1, 2, 3, 4, 5, 6],\n",
    "                   'dt__min_samples_split': [2, 3, 4, 5, 6, 7, 8, 9, 10]}\n",
    " \n",
    "gs_pipe_DT_1 = GridSearchCV(estimator=pipe_DT_1, \n",
    "                           param_grid=params_pipe_DT_1, \n",
    "                           cv=cv_method,\n",
    "                           n_jobs=-1,\n",
    "                           scoring='roc_auc',\n",
    "                           verbose=1)"
   ]
  },
  {
   "cell_type": "code",
   "execution_count": 74,
   "metadata": {},
   "outputs": [
    {
     "name": "stdout",
     "output_type": "stream",
     "text": [
      "Fitting 10 folds for each of 432 candidates, totalling 4320 fits\n"
     ]
    },
    {
     "name": "stderr",
     "output_type": "stream",
     "text": [
      "[Parallel(n_jobs=-1)]: Using backend LokyBackend with 4 concurrent workers.\n",
      "[Parallel(n_jobs=-1)]: Done  42 tasks      | elapsed:    9.6s\n",
      "[Parallel(n_jobs=-1)]: Done 192 tasks      | elapsed:   46.5s\n",
      "[Parallel(n_jobs=-1)]: Done 442 tasks      | elapsed:  1.8min\n",
      "[Parallel(n_jobs=-1)]: Done 792 tasks      | elapsed:  3.1min\n",
      "[Parallel(n_jobs=-1)]: Done 1242 tasks      | elapsed:  4.9min\n",
      "[Parallel(n_jobs=-1)]: Done 1792 tasks      | elapsed:  7.2min\n",
      "[Parallel(n_jobs=-1)]: Done 2442 tasks      | elapsed:  9.8min\n",
      "[Parallel(n_jobs=-1)]: Done 3192 tasks      | elapsed: 12.8min\n",
      "[Parallel(n_jobs=-1)]: Done 4042 tasks      | elapsed: 16.2min\n",
      "[Parallel(n_jobs=-1)]: Done 4320 out of 4320 | elapsed: 17.2min finished\n"
     ]
    }
   ],
   "source": [
    "gs_pipe_DT_1.fit(Data_train, target_train);"
   ]
  },
  {
   "cell_type": "code",
   "execution_count": 75,
   "metadata": {},
   "outputs": [
    {
     "data": {
      "text/plain": [
       "0.7322031443979663"
      ]
     },
     "execution_count": 75,
     "metadata": {},
     "output_type": "execute_result"
    }
   ],
   "source": [
    "gs_pipe_DT_1.best_score_"
   ]
  },
  {
   "cell_type": "code",
   "execution_count": 76,
   "metadata": {},
   "outputs": [
    {
     "data": {
      "text/plain": [
       "{'dt__criterion': 'entropy',\n",
       " 'dt__max_depth': 3,\n",
       " 'dt__min_samples_split': 4,\n",
       " 'fselector__k': 10}"
      ]
     },
     "execution_count": 76,
     "metadata": {},
     "output_type": "execute_result"
    }
   ],
   "source": [
    "gs_pipe_DT_1.best_params_"
   ]
  },
  {
   "cell_type": "code",
   "execution_count": 77,
   "metadata": {},
   "outputs": [],
   "source": [
    "results_DT = pd.DataFrame(gs_pipe_DT_1.cv_results_['params'])\n",
    "results_DT['test_score'] = gs_pipe_DT_1.cv_results_['mean_test_score']\n",
    "results_DT = results_DT.drop(columns='fselector__k')\n",
    "results_DT = results_DT.sort_values(by='test_score', ascending=False)"
   ]
  },
  {
   "cell_type": "code",
   "execution_count": 78,
   "metadata": {},
   "outputs": [],
   "source": [
    "results_DT.reset_index(inplace = True) \n",
    "results_DT = results_DT.iloc[0:30,:]"
   ]
  },
  {
   "cell_type": "code",
   "execution_count": 79,
   "metadata": {},
   "outputs": [
    {
     "data": {
      "text/html": [
       "\n",
       "<div id=\"altair-viz-0ace682272b5409991d0e3a375081bd6\"></div>\n",
       "<script type=\"text/javascript\">\n",
       "  (function(spec, embedOpt){\n",
       "    let outputDiv = document.currentScript.previousElementSibling;\n",
       "    if (outputDiv.id !== \"altair-viz-0ace682272b5409991d0e3a375081bd6\") {\n",
       "      outputDiv = document.getElementById(\"altair-viz-0ace682272b5409991d0e3a375081bd6\");\n",
       "    }\n",
       "    const paths = {\n",
       "      \"vega\": \"https://cdn.jsdelivr.net/npm//vega@5?noext\",\n",
       "      \"vega-lib\": \"https://cdn.jsdelivr.net/npm//vega-lib?noext\",\n",
       "      \"vega-lite\": \"https://cdn.jsdelivr.net/npm//vega-lite@4.8.1?noext\",\n",
       "      \"vega-embed\": \"https://cdn.jsdelivr.net/npm//vega-embed@6?noext\",\n",
       "    };\n",
       "\n",
       "    function loadScript(lib) {\n",
       "      return new Promise(function(resolve, reject) {\n",
       "        var s = document.createElement('script');\n",
       "        s.src = paths[lib];\n",
       "        s.async = true;\n",
       "        s.onload = () => resolve(paths[lib]);\n",
       "        s.onerror = () => reject(`Error loading script: ${paths[lib]}`);\n",
       "        document.getElementsByTagName(\"head\")[0].appendChild(s);\n",
       "      });\n",
       "    }\n",
       "\n",
       "    function showError(err) {\n",
       "      outputDiv.innerHTML = `<div class=\"error\" style=\"color:red;\">${err}</div>`;\n",
       "      throw err;\n",
       "    }\n",
       "\n",
       "    function displayChart(vegaEmbed) {\n",
       "      vegaEmbed(outputDiv, spec, embedOpt)\n",
       "        .catch(err => showError(`Javascript Error: ${err.message}<br>This usually means there's a typo in your chart specification. See the javascript console for the full traceback.`));\n",
       "    }\n",
       "\n",
       "    if(typeof define === \"function\" && define.amd) {\n",
       "      requirejs.config({paths});\n",
       "      require([\"vega-embed\"], displayChart, err => showError(`Error loading script: ${err.message}`));\n",
       "    } else if (typeof vegaEmbed === \"function\") {\n",
       "      displayChart(vegaEmbed);\n",
       "    } else {\n",
       "      loadScript(\"vega\")\n",
       "        .then(() => loadScript(\"vega-lite\"))\n",
       "        .then(() => loadScript(\"vega-embed\"))\n",
       "        .catch(showError)\n",
       "        .then(() => displayChart(vegaEmbed));\n",
       "    }\n",
       "  })({\"config\": {\"view\": {\"continuousWidth\": 400, \"continuousHeight\": 300}}, \"data\": {\"name\": \"data-888a4b7408affcce39548ccbe36242c6\"}, \"mark\": {\"type\": \"line\", \"point\": true}, \"encoding\": {\"color\": {\"type\": \"nominal\", \"field\": \"dt__max_depth\", \"title\": \"Max Depth\"}, \"x\": {\"type\": \"quantitative\", \"field\": \"dt__min_samples_split\", \"title\": \"Minimum Samples Split\"}, \"y\": {\"type\": \"quantitative\", \"field\": \"test_score\", \"scale\": {\"zero\": false}, \"title\": \"AUC Score\"}}, \"title\": \"DT Top 30 Performance score Comparison\", \"$schema\": \"https://vega.github.io/schema/vega-lite/v4.8.1.json\", \"datasets\": {\"data-888a4b7408affcce39548ccbe36242c6\": [{\"index\": 296, \"dt__criterion\": \"entropy\", \"dt__max_depth\": 3, \"dt__min_samples_split\": 4, \"test_score\": 0.7322031443979663}, {\"index\": 136, \"dt__criterion\": \"gini\", \"dt__max_depth\": 4, \"dt__min_samples_split\": 9, \"test_score\": 0.7266754091926277}, {\"index\": 313, \"dt__criterion\": \"entropy\", \"dt__max_depth\": 3, \"dt__min_samples_split\": 8, \"test_score\": 0.7265629721257553}, {\"index\": 77, \"dt__criterion\": \"gini\", \"dt__max_depth\": 3, \"dt__min_samples_split\": 3, \"test_score\": 0.7249471833179617}, {\"index\": 132, \"dt__criterion\": \"gini\", \"dt__max_depth\": 4, \"dt__min_samples_split\": 8, \"test_score\": 0.7240776542258498}, {\"index\": 326, \"dt__criterion\": \"entropy\", \"dt__max_depth\": 4, \"dt__min_samples_split\": 2, \"test_score\": 0.7233803338454008}, {\"index\": 349, \"dt__criterion\": \"entropy\", \"dt__max_depth\": 4, \"dt__min_samples_split\": 8, \"test_score\": 0.7229252869865639}, {\"index\": 120, \"dt__criterion\": \"gini\", \"dt__max_depth\": 4, \"dt__min_samples_split\": 5, \"test_score\": 0.7227472195724274}, {\"index\": 76, \"dt__criterion\": \"gini\", \"dt__max_depth\": 3, \"dt__min_samples_split\": 3, \"test_score\": 0.7215398371400523}, {\"index\": 301, \"dt__criterion\": \"entropy\", \"dt__max_depth\": 3, \"dt__min_samples_split\": 5, \"test_score\": 0.7209780097376667}, {\"index\": 294, \"dt__criterion\": \"entropy\", \"dt__max_depth\": 3, \"dt__min_samples_split\": 3, \"test_score\": 0.7198156338816551}, {\"index\": 317, \"dt__criterion\": \"entropy\", \"dt__max_depth\": 3, \"dt__min_samples_split\": 9, \"test_score\": 0.719639862324086}, {\"index\": 342, \"dt__criterion\": \"entropy\", \"dt__max_depth\": 4, \"dt__min_samples_split\": 6, \"test_score\": 0.7190438591572719}, {\"index\": 358, \"dt__criterion\": \"entropy\", \"dt__max_depth\": 4, \"dt__min_samples_split\": 10, \"test_score\": 0.7188415512118888}, {\"index\": 290, \"dt__criterion\": \"entropy\", \"dt__max_depth\": 3, \"dt__min_samples_split\": 2, \"test_score\": 0.7188300644409349}, {\"index\": 302, \"dt__criterion\": \"entropy\", \"dt__max_depth\": 3, \"dt__min_samples_split\": 5, \"test_score\": 0.7182175709436154}, {\"index\": 338, \"dt__criterion\": \"entropy\", \"dt__max_depth\": 4, \"dt__min_samples_split\": 5, \"test_score\": 0.7176441729033693}, {\"index\": 300, \"dt__criterion\": \"entropy\", \"dt__max_depth\": 3, \"dt__min_samples_split\": 5, \"test_score\": 0.7175783239030986}, {\"index\": 332, \"dt__criterion\": \"entropy\", \"dt__max_depth\": 4, \"dt__min_samples_split\": 4, \"test_score\": 0.717474084826344}, {\"index\": 325, \"dt__criterion\": \"entropy\", \"dt__max_depth\": 4, \"dt__min_samples_split\": 2, \"test_score\": 0.7166590812044917}, {\"index\": 376, \"dt__criterion\": \"entropy\", \"dt__max_depth\": 5, \"dt__min_samples_split\": 6, \"test_score\": 0.7163746495860929}, {\"index\": 321, \"dt__criterion\": \"entropy\", \"dt__max_depth\": 3, \"dt__min_samples_split\": 10, \"test_score\": 0.7163293629541664}, {\"index\": 309, \"dt__criterion\": \"entropy\", \"dt__max_depth\": 3, \"dt__min_samples_split\": 7, \"test_score\": 0.7160474293714847}, {\"index\": 352, \"dt__criterion\": \"entropy\", \"dt__max_depth\": 4, \"dt__min_samples_split\": 9, \"test_score\": 0.7154842256532573}, {\"index\": 305, \"dt__criterion\": \"entropy\", \"dt__max_depth\": 3, \"dt__min_samples_split\": 6, \"test_score\": 0.7154548033452831}, {\"index\": 322, \"dt__criterion\": \"entropy\", \"dt__max_depth\": 3, \"dt__min_samples_split\": 10, \"test_score\": 0.7153857299619795}, {\"index\": 330, \"dt__criterion\": \"entropy\", \"dt__max_depth\": 4, \"dt__min_samples_split\": 3, \"test_score\": 0.7149620088903714}, {\"index\": 328, \"dt__criterion\": \"entropy\", \"dt__max_depth\": 4, \"dt__min_samples_split\": 3, \"test_score\": 0.7148494520136324}, {\"index\": 331, \"dt__criterion\": \"entropy\", \"dt__max_depth\": 4, \"dt__min_samples_split\": 3, \"test_score\": 0.7146694032438281}, {\"index\": 346, \"dt__criterion\": \"entropy\", \"dt__max_depth\": 4, \"dt__min_samples_split\": 7, \"test_score\": 0.714481968195752}]}}, {\"mode\": \"vega-lite\"});\n",
       "</script>"
      ],
      "text/plain": [
       "alt.Chart(...)"
      ]
     },
     "execution_count": 79,
     "metadata": {},
     "output_type": "execute_result"
    }
   ],
   "source": [
    "alt.Chart(results_DT, \n",
    "          title='DT Top 30 Performance score Comparison'\n",
    "         ).mark_line(point=True).encode(\n",
    "    alt.X('dt__min_samples_split', title='Minimum Samples Split'),\n",
    "    alt.Y('test_score', title='AUC Score', scale=alt.Scale(zero=False)),\n",
    "    alt.Color('dt__max_depth:N', title='Max Depth')\n",
    ")"
   ]
  },
  {
   "cell_type": "markdown",
   "metadata": {},
   "source": [
    "### DT using Random Forest Importance Feature selection"
   ]
  },
  {
   "cell_type": "code",
   "execution_count": 80,
   "metadata": {},
   "outputs": [
    {
     "name": "stdout",
     "output_type": "stream",
     "text": [
      "Fitting 10 folds for each of 576 candidates, totalling 5760 fits\n"
     ]
    },
    {
     "name": "stderr",
     "output_type": "stream",
     "text": [
      "[Parallel(n_jobs=-1)]: Using backend LokyBackend with 4 concurrent workers.\n",
      "[Parallel(n_jobs=-1)]: Done  42 tasks      | elapsed:    6.0s\n",
      "[Parallel(n_jobs=-1)]: Done 192 tasks      | elapsed:   28.9s\n",
      "[Parallel(n_jobs=-1)]: Done 442 tasks      | elapsed:  1.1min\n",
      "[Parallel(n_jobs=-1)]: Done 792 tasks      | elapsed:  2.0min\n",
      "[Parallel(n_jobs=-1)]: Done 1242 tasks      | elapsed:  3.1min\n",
      "[Parallel(n_jobs=-1)]: Done 1792 tasks      | elapsed:  4.4min\n",
      "[Parallel(n_jobs=-1)]: Done 2442 tasks      | elapsed:  6.2min\n",
      "[Parallel(n_jobs=-1)]: Done 3192 tasks      | elapsed:  8.0min\n",
      "[Parallel(n_jobs=-1)]: Done 4042 tasks      | elapsed: 10.1min\n",
      "[Parallel(n_jobs=-1)]: Done 4992 tasks      | elapsed: 12.5min\n",
      "[Parallel(n_jobs=-1)]: Done 5760 out of 5760 | elapsed: 14.5min finished\n"
     ]
    }
   ],
   "source": [
    "pipe_DT_2 = Pipeline([('rfi_fs', RFIFeatureSelector()),\n",
    "                    ('dt', DecisionTreeClassifier())])\n",
    "\n",
    "params_pipe_DT_2 = {'rfi_fs__n_features_': [10, 20, 30 ,Data.shape[1]],\n",
    "                  'dt__criterion': ['gini', 'entropy'],\n",
    "                  'dt__max_depth': [1, 2, 3, 4, 5, 6, 7, 8],\n",
    "                  'dt__min_samples_split': [2, 3, 4, 5, 6, 7, 8, 9, 10]}\n",
    "\n",
    "gs_pipe_DT_2 = GridSearchCV(estimator=pipe_DT_2, \n",
    "                          param_grid=params_pipe_DT_2, \n",
    "                          cv=cv_method,\n",
    "                          refit=True,\n",
    "                          n_jobs=-1,\n",
    "                          scoring='roc_auc',\n",
    "                          verbose=1) \n",
    "\n",
    "gs_pipe_DT_2.fit(Data_train, target_train);"
   ]
  },
  {
   "cell_type": "code",
   "execution_count": 81,
   "metadata": {},
   "outputs": [
    {
     "data": {
      "text/plain": [
       "0.7235152906743114"
      ]
     },
     "execution_count": 81,
     "metadata": {},
     "output_type": "execute_result"
    }
   ],
   "source": [
    "gs_pipe_DT_2.best_score_"
   ]
  },
  {
   "cell_type": "code",
   "execution_count": 82,
   "metadata": {},
   "outputs": [
    {
     "data": {
      "text/plain": [
       "{'dt__criterion': 'entropy',\n",
       " 'dt__max_depth': 4,\n",
       " 'dt__min_samples_split': 9,\n",
       " 'rfi_fs__n_features_': 20}"
      ]
     },
     "execution_count": 82,
     "metadata": {},
     "output_type": "execute_result"
    }
   ],
   "source": [
    "gs_pipe_DT_2.best_params_"
   ]
  },
  {
   "cell_type": "code",
   "execution_count": 83,
   "metadata": {},
   "outputs": [],
   "source": [
    "results_DT = pd.DataFrame(gs_pipe_DT_2.cv_results_['params'])\n",
    "results_DT['test_score'] = gs_pipe_DT_2.cv_results_['mean_test_score']\n",
    "results_DT = results_DT.drop(columns='rfi_fs__n_features_')\n",
    "results_DT = results_DT.sort_values(by='test_score', ascending=False)"
   ]
  },
  {
   "cell_type": "code",
   "execution_count": 84,
   "metadata": {},
   "outputs": [],
   "source": [
    "results_DT.reset_index(inplace = True) \n",
    "results_DT = results_DT.iloc[0:30,:]"
   ]
  },
  {
   "cell_type": "code",
   "execution_count": 85,
   "metadata": {},
   "outputs": [
    {
     "data": {
      "text/html": [
       "\n",
       "<div id=\"altair-viz-f9852d48453f4d62847ce8e6f3d76626\"></div>\n",
       "<script type=\"text/javascript\">\n",
       "  (function(spec, embedOpt){\n",
       "    let outputDiv = document.currentScript.previousElementSibling;\n",
       "    if (outputDiv.id !== \"altair-viz-f9852d48453f4d62847ce8e6f3d76626\") {\n",
       "      outputDiv = document.getElementById(\"altair-viz-f9852d48453f4d62847ce8e6f3d76626\");\n",
       "    }\n",
       "    const paths = {\n",
       "      \"vega\": \"https://cdn.jsdelivr.net/npm//vega@5?noext\",\n",
       "      \"vega-lib\": \"https://cdn.jsdelivr.net/npm//vega-lib?noext\",\n",
       "      \"vega-lite\": \"https://cdn.jsdelivr.net/npm//vega-lite@4.8.1?noext\",\n",
       "      \"vega-embed\": \"https://cdn.jsdelivr.net/npm//vega-embed@6?noext\",\n",
       "    };\n",
       "\n",
       "    function loadScript(lib) {\n",
       "      return new Promise(function(resolve, reject) {\n",
       "        var s = document.createElement('script');\n",
       "        s.src = paths[lib];\n",
       "        s.async = true;\n",
       "        s.onload = () => resolve(paths[lib]);\n",
       "        s.onerror = () => reject(`Error loading script: ${paths[lib]}`);\n",
       "        document.getElementsByTagName(\"head\")[0].appendChild(s);\n",
       "      });\n",
       "    }\n",
       "\n",
       "    function showError(err) {\n",
       "      outputDiv.innerHTML = `<div class=\"error\" style=\"color:red;\">${err}</div>`;\n",
       "      throw err;\n",
       "    }\n",
       "\n",
       "    function displayChart(vegaEmbed) {\n",
       "      vegaEmbed(outputDiv, spec, embedOpt)\n",
       "        .catch(err => showError(`Javascript Error: ${err.message}<br>This usually means there's a typo in your chart specification. See the javascript console for the full traceback.`));\n",
       "    }\n",
       "\n",
       "    if(typeof define === \"function\" && define.amd) {\n",
       "      requirejs.config({paths});\n",
       "      require([\"vega-embed\"], displayChart, err => showError(`Error loading script: ${err.message}`));\n",
       "    } else if (typeof vegaEmbed === \"function\") {\n",
       "      displayChart(vegaEmbed);\n",
       "    } else {\n",
       "      loadScript(\"vega\")\n",
       "        .then(() => loadScript(\"vega-lite\"))\n",
       "        .then(() => loadScript(\"vega-embed\"))\n",
       "        .catch(showError)\n",
       "        .then(() => displayChart(vegaEmbed));\n",
       "    }\n",
       "  })({\"config\": {\"view\": {\"continuousWidth\": 400, \"continuousHeight\": 300}}, \"data\": {\"name\": \"data-9f48af0d0d415b658438d56a9c1117f5\"}, \"mark\": {\"type\": \"line\", \"point\": true}, \"encoding\": {\"color\": {\"type\": \"nominal\", \"field\": \"dt__max_depth\", \"title\": \"Max Depth\"}, \"x\": {\"type\": \"quantitative\", \"field\": \"dt__min_samples_split\", \"title\": \"Minimum Samples Split\"}, \"y\": {\"type\": \"quantitative\", \"field\": \"test_score\", \"scale\": {\"zero\": false}, \"title\": \"AUC Score\"}}, \"title\": \"DT Performance Comparison\", \"$schema\": \"https://vega.github.io/schema/vega-lite/v4.8.1.json\", \"datasets\": {\"data-9f48af0d0d415b658438d56a9c1117f5\": [{\"index\": 425, \"dt__criterion\": \"entropy\", \"dt__max_depth\": 4, \"dt__min_samples_split\": 9, \"test_score\": 0.7235152906743114}, {\"index\": 409, \"dt__criterion\": \"entropy\", \"dt__max_depth\": 4, \"dt__min_samples_split\": 5, \"test_score\": 0.7198103607499042}, {\"index\": 377, \"dt__criterion\": \"entropy\", \"dt__max_depth\": 3, \"dt__min_samples_split\": 6, \"test_score\": 0.718199756714085}, {\"index\": 417, \"dt__criterion\": \"entropy\", \"dt__max_depth\": 4, \"dt__min_samples_split\": 7, \"test_score\": 0.7178628049430675}, {\"index\": 401, \"dt__criterion\": \"entropy\", \"dt__max_depth\": 4, \"dt__min_samples_split\": 3, \"test_score\": 0.7175004519827215}, {\"index\": 430, \"dt__criterion\": \"entropy\", \"dt__max_depth\": 4, \"dt__min_samples_split\": 10, \"test_score\": 0.7159361230102277}, {\"index\": 361, \"dt__criterion\": \"entropy\", \"dt__max_depth\": 3, \"dt__min_samples_split\": 2, \"test_score\": 0.7159099235876634}, {\"index\": 413, \"dt__criterion\": \"entropy\", \"dt__max_depth\": 4, \"dt__min_samples_split\": 6, \"test_score\": 0.7155950452869314}, {\"index\": 427, \"dt__criterion\": \"entropy\", \"dt__max_depth\": 4, \"dt__min_samples_split\": 9, \"test_score\": 0.7141189158453102}, {\"index\": 415, \"dt__criterion\": \"entropy\", \"dt__max_depth\": 4, \"dt__min_samples_split\": 6, \"test_score\": 0.713898690334387}, {\"index\": 419, \"dt__criterion\": \"entropy\", \"dt__max_depth\": 4, \"dt__min_samples_split\": 7, \"test_score\": 0.713898690334387}, {\"index\": 399, \"dt__criterion\": \"entropy\", \"dt__max_depth\": 4, \"dt__min_samples_split\": 2, \"test_score\": 0.7131605657086431}, {\"index\": 410, \"dt__criterion\": \"entropy\", \"dt__max_depth\": 4, \"dt__min_samples_split\": 5, \"test_score\": 0.7130547017105734}, {\"index\": 407, \"dt__criterion\": \"entropy\", \"dt__max_depth\": 4, \"dt__min_samples_split\": 4, \"test_score\": 0.712916929349799}, {\"index\": 411, \"dt__criterion\": \"entropy\", \"dt__max_depth\": 4, \"dt__min_samples_split\": 5, \"test_score\": 0.7128343893374971}, {\"index\": 362, \"dt__criterion\": \"entropy\", \"dt__max_depth\": 3, \"dt__min_samples_split\": 2, \"test_score\": 0.7127037426685348}, {\"index\": 389, \"dt__criterion\": \"entropy\", \"dt__max_depth\": 3, \"dt__min_samples_split\": 9, \"test_score\": 0.7126675196530116}, {\"index\": 378, \"dt__criterion\": \"entropy\", \"dt__max_depth\": 3, \"dt__min_samples_split\": 6, \"test_score\": 0.7116906873468081}, {\"index\": 365, \"dt__criterion\": \"entropy\", \"dt__max_depth\": 3, \"dt__min_samples_split\": 3, \"test_score\": 0.7116837293888092}, {\"index\": 421, \"dt__criterion\": \"entropy\", \"dt__max_depth\": 4, \"dt__min_samples_split\": 8, \"test_score\": 0.7116479361911819}, {\"index\": 366, \"dt__criterion\": \"entropy\", \"dt__max_depth\": 3, \"dt__min_samples_split\": 3, \"test_score\": 0.7116206225368589}, {\"index\": 382, \"dt__criterion\": \"entropy\", \"dt__max_depth\": 3, \"dt__min_samples_split\": 7, \"test_score\": 0.7116206225368589}, {\"index\": 386, \"dt__criterion\": \"entropy\", \"dt__max_depth\": 3, \"dt__min_samples_split\": 8, \"test_score\": 0.7114542186132295}, {\"index\": 394, \"dt__criterion\": \"entropy\", \"dt__max_depth\": 3, \"dt__min_samples_split\": 10, \"test_score\": 0.7114279443094985}, {\"index\": 422, \"dt__criterion\": \"entropy\", \"dt__max_depth\": 4, \"dt__min_samples_split\": 8, \"test_score\": 0.711404958786604}, {\"index\": 369, \"dt__criterion\": \"entropy\", \"dt__max_depth\": 3, \"dt__min_samples_split\": 4, \"test_score\": 0.7113341301887558}, {\"index\": 374, \"dt__criterion\": \"entropy\", \"dt__max_depth\": 3, \"dt__min_samples_split\": 5, \"test_score\": 0.7113316051958184}, {\"index\": 381, \"dt__criterion\": \"entropy\", \"dt__max_depth\": 3, \"dt__min_samples_split\": 7, \"test_score\": 0.7112808567316014}, {\"index\": 370, \"dt__criterion\": \"entropy\", \"dt__max_depth\": 3, \"dt__min_samples_split\": 4, \"test_score\": 0.7111214107659708}, {\"index\": 113, \"dt__criterion\": \"gini\", \"dt__max_depth\": 4, \"dt__min_samples_split\": 3, \"test_score\": 0.7111031187945978}]}}, {\"mode\": \"vega-lite\"});\n",
       "</script>"
      ],
      "text/plain": [
       "alt.Chart(...)"
      ]
     },
     "execution_count": 85,
     "metadata": {},
     "output_type": "execute_result"
    }
   ],
   "source": [
    "alt.Chart(results_DT, \n",
    "          title='DT Performance Comparison'\n",
    "         ).mark_line(point=True).encode(\n",
    "    alt.X('dt__min_samples_split', title='Minimum Samples Split'),\n",
    "    alt.Y('test_score', title='AUC Score', scale=alt.Scale(zero=False)),\n",
    "    alt.Color('dt__max_depth:N', title='Max Depth')\n",
    ")"
   ]
  },
  {
   "cell_type": "markdown",
   "metadata": {},
   "source": [
    "* For DT it is observed that `F-Score` Feature selection with `10` features is giving the maximum accuracy with criteria as `gini`, Max depth `4` and Minimum samples split as `3`.\n",
    "* `gs_pipe_DT` is tuned with optimal hyperparameter values and used below to get the performance on test data."
   ]
  },
  {
   "cell_type": "markdown",
   "metadata": {},
   "source": [
    "### DT performance on Test data"
   ]
  },
  {
   "cell_type": "code",
   "execution_count": 86,
   "metadata": {},
   "outputs": [
    {
     "data": {
      "text/plain": [
       "0.7041143822393823"
      ]
     },
     "execution_count": 86,
     "metadata": {},
     "output_type": "execute_result"
    }
   ],
   "source": [
    "from sklearn.model_selection import cross_val_score\n",
    "\n",
    "cv_method_ttest = RepeatedStratifiedKFold(n_splits=10, n_repeats=2,random_state=999)\n",
    "\n",
    "cv_results_DT = cross_val_score(estimator=gs_pipe_DT.best_estimator_,\n",
    "                                X=Data_test,\n",
    "                                y=target_test, \n",
    "                                cv=cv_method_ttest, \n",
    "                                n_jobs=-1,\n",
    "                                scoring='roc_auc')\n",
    "cv_results_DT.mean()"
   ]
  },
  {
   "cell_type": "markdown",
   "metadata": {},
   "source": [
    "## Naive Bayes (NB)"
   ]
  },
  {
   "cell_type": "markdown",
   "metadata": {},
   "source": [
    "### NB using F-Score and Mutual Information Feature selection"
   ]
  },
  {
   "cell_type": "code",
   "execution_count": 87,
   "metadata": {},
   "outputs": [],
   "source": [
    "from sklearn.preprocessing import PowerTransformer\n",
    "Data_train_transformed = PowerTransformer().fit_transform(Data_train)"
   ]
  },
  {
   "cell_type": "code",
   "execution_count": 88,
   "metadata": {},
   "outputs": [],
   "source": [
    "from sklearn.naive_bayes import GaussianNB\n",
    "\n",
    "pipe_NB = Pipeline([('fselector', SelectKBest()), \n",
    "                     ('nb', GaussianNB())])\n",
    "\n",
    "params_NB = {'fselector__score_func': [f_classif, mutual_info_classif],\n",
    "                   'fselector__k': [10, 20, 30, Data.shape[1]],\n",
    "                   'nb__var_smoothing': np.logspace(0,-5, num=200)}\n",
    " \n",
    "gs_pipe_NB = GridSearchCV(estimator=pipe_NB, \n",
    "                           param_grid=params_NB, \n",
    "                           cv=cv_method,\n",
    "                           n_jobs=-1,\n",
    "                           scoring='roc_auc',\n",
    "                           verbose=1)"
   ]
  },
  {
   "cell_type": "code",
   "execution_count": 89,
   "metadata": {},
   "outputs": [
    {
     "name": "stdout",
     "output_type": "stream",
     "text": [
      "Fitting 10 folds for each of 1600 candidates, totalling 16000 fits\n"
     ]
    },
    {
     "name": "stderr",
     "output_type": "stream",
     "text": [
      "[Parallel(n_jobs=-1)]: Using backend LokyBackend with 4 concurrent workers.\n",
      "[Parallel(n_jobs=-1)]: Done 280 tasks      | elapsed:    0.9s\n",
      "[Parallel(n_jobs=-1)]: Done 2200 tasks      | elapsed:   50.8s\n",
      "[Parallel(n_jobs=-1)]: Done 2450 tasks      | elapsed:  1.8min\n",
      "[Parallel(n_jobs=-1)]: Done 2800 tasks      | elapsed:  3.2min\n",
      "[Parallel(n_jobs=-1)]: Done 3250 tasks      | elapsed:  4.9min\n",
      "[Parallel(n_jobs=-1)]: Done 3800 tasks      | elapsed:  6.9min\n",
      "[Parallel(n_jobs=-1)]: Done 6458 tasks      | elapsed:  9.6min\n",
      "[Parallel(n_jobs=-1)]: Done 7208 tasks      | elapsed: 12.6min\n",
      "[Parallel(n_jobs=-1)]: Done 8236 tasks      | elapsed: 16.0min\n",
      "[Parallel(n_jobs=-1)]: Done 10964 tasks      | elapsed: 20.2min\n",
      "[Parallel(n_jobs=-1)]: Done 12014 tasks      | elapsed: 24.8min\n",
      "[Parallel(n_jobs=-1)]: Done 15120 tasks      | elapsed: 29.6min\n",
      "[Parallel(n_jobs=-1)]: Done 16000 out of 16000 | elapsed: 33.6min finished\n"
     ]
    }
   ],
   "source": [
    "gs_pipe_NB.fit(Data_train_transformed, target_train);"
   ]
  },
  {
   "cell_type": "code",
   "execution_count": 90,
   "metadata": {},
   "outputs": [
    {
     "data": {
      "text/plain": [
       "0.7758998379930984"
      ]
     },
     "execution_count": 90,
     "metadata": {},
     "output_type": "execute_result"
    }
   ],
   "source": [
    "gs_pipe_NB.best_score_"
   ]
  },
  {
   "cell_type": "code",
   "execution_count": 91,
   "metadata": {},
   "outputs": [
    {
     "data": {
      "text/plain": [
       "{'fselector__k': 30,\n",
       " 'fselector__score_func': <function sklearn.feature_selection._mutual_info.mutual_info_classif(X, y, discrete_features='auto', n_neighbors=3, copy=True, random_state=None)>,\n",
       " 'nb__var_smoothing': 0.0003217641750250735}"
      ]
     },
     "execution_count": 91,
     "metadata": {},
     "output_type": "execute_result"
    }
   ],
   "source": [
    "gs_pipe_NB.best_params_"
   ]
  },
  {
   "cell_type": "code",
   "execution_count": 92,
   "metadata": {},
   "outputs": [],
   "source": [
    "results_NB = pd.DataFrame(gs_pipe_NB.cv_results_['params'])\n",
    "results_NB['test_score'] = gs_pipe_NB.cv_results_['mean_test_score']\n",
    "results_NB = results_NB.drop(columns='fselector__score_func')\n",
    "results_NB = results_NB.sort_values(by='test_score', ascending=False)"
   ]
  },
  {
   "cell_type": "code",
   "execution_count": 93,
   "metadata": {},
   "outputs": [],
   "source": [
    "results_NB.reset_index(inplace = True) \n",
    "results_NB = results_NB.iloc[0:200,:]"
   ]
  },
  {
   "cell_type": "code",
   "execution_count": 94,
   "metadata": {},
   "outputs": [
    {
     "data": {
      "text/html": [
       "\n",
       "<div id=\"altair-viz-efee6164d77e4f5baf4383bfa23bc9b8\"></div>\n",
       "<script type=\"text/javascript\">\n",
       "  (function(spec, embedOpt){\n",
       "    let outputDiv = document.currentScript.previousElementSibling;\n",
       "    if (outputDiv.id !== \"altair-viz-efee6164d77e4f5baf4383bfa23bc9b8\") {\n",
       "      outputDiv = document.getElementById(\"altair-viz-efee6164d77e4f5baf4383bfa23bc9b8\");\n",
       "    }\n",
       "    const paths = {\n",
       "      \"vega\": \"https://cdn.jsdelivr.net/npm//vega@5?noext\",\n",
       "      \"vega-lib\": \"https://cdn.jsdelivr.net/npm//vega-lib?noext\",\n",
       "      \"vega-lite\": \"https://cdn.jsdelivr.net/npm//vega-lite@4.8.1?noext\",\n",
       "      \"vega-embed\": \"https://cdn.jsdelivr.net/npm//vega-embed@6?noext\",\n",
       "    };\n",
       "\n",
       "    function loadScript(lib) {\n",
       "      return new Promise(function(resolve, reject) {\n",
       "        var s = document.createElement('script');\n",
       "        s.src = paths[lib];\n",
       "        s.async = true;\n",
       "        s.onload = () => resolve(paths[lib]);\n",
       "        s.onerror = () => reject(`Error loading script: ${paths[lib]}`);\n",
       "        document.getElementsByTagName(\"head\")[0].appendChild(s);\n",
       "      });\n",
       "    }\n",
       "\n",
       "    function showError(err) {\n",
       "      outputDiv.innerHTML = `<div class=\"error\" style=\"color:red;\">${err}</div>`;\n",
       "      throw err;\n",
       "    }\n",
       "\n",
       "    function displayChart(vegaEmbed) {\n",
       "      vegaEmbed(outputDiv, spec, embedOpt)\n",
       "        .catch(err => showError(`Javascript Error: ${err.message}<br>This usually means there's a typo in your chart specification. See the javascript console for the full traceback.`));\n",
       "    }\n",
       "\n",
       "    if(typeof define === \"function\" && define.amd) {\n",
       "      requirejs.config({paths});\n",
       "      require([\"vega-embed\"], displayChart, err => showError(`Error loading script: ${err.message}`));\n",
       "    } else if (typeof vegaEmbed === \"function\") {\n",
       "      displayChart(vegaEmbed);\n",
       "    } else {\n",
       "      loadScript(\"vega\")\n",
       "        .then(() => loadScript(\"vega-lite\"))\n",
       "        .then(() => loadScript(\"vega-embed\"))\n",
       "        .catch(showError)\n",
       "        .then(() => displayChart(vegaEmbed));\n",
       "    }\n",
       "  })({\"config\": {\"view\": {\"continuousWidth\": 400, \"continuousHeight\": 300}}, \"data\": {\"name\": \"data-7477841b3015d846598028090f1d7c26\"}, \"mark\": {\"type\": \"line\", \"point\": true}, \"encoding\": {\"x\": {\"type\": \"quantitative\", \"field\": \"nb__var_smoothing\", \"title\": \"Variance Smoothing\"}, \"y\": {\"type\": \"quantitative\", \"field\": \"test_score\", \"scale\": {\"zero\": false}, \"title\": \"AUC Score\"}}, \"title\": \"NB Performance Comparison\", \"$schema\": \"https://vega.github.io/schema/vega-lite/v4.8.1.json\", \"datasets\": {\"data-7477841b3015d846598028090f1d7c26\": [{\"index\": 1139, \"fselector__k\": 30, \"nb__var_smoothing\": 0.0003217641750250735, \"test_score\": 0.7758998379930984}, {\"index\": 1400, \"fselector__k\": 49, \"nb__var_smoothing\": 1.0, \"test_score\": 0.7738136486920716}, {\"index\": 1200, \"fselector__k\": 49, \"nb__var_smoothing\": 1.0, \"test_score\": 0.7738136486920716}, {\"index\": 1401, \"fselector__k\": 49, \"nb__var_smoothing\": 0.9437878277775381, \"test_score\": 0.7735708180545802}, {\"index\": 1201, \"fselector__k\": 49, \"nb__var_smoothing\": 0.9437878277775381, \"test_score\": 0.7735708180545802}, {\"index\": 1402, \"fselector__k\": 49, \"nb__var_smoothing\": 0.890735463861044, \"test_score\": 0.7732761786355524}, {\"index\": 1202, \"fselector__k\": 49, \"nb__var_smoothing\": 0.890735463861044, \"test_score\": 0.7732761786355524}, {\"index\": 1403, \"fselector__k\": 49, \"nb__var_smoothing\": 0.8406652885618325, \"test_score\": 0.7729625703194059}, {\"index\": 1203, \"fselector__k\": 49, \"nb__var_smoothing\": 0.8406652885618325, \"test_score\": 0.7729625703194059}, {\"index\": 1404, \"fselector__k\": 49, \"nb__var_smoothing\": 0.7934096665797492, \"test_score\": 0.7726815982109032}, {\"index\": 1204, \"fselector__k\": 49, \"nb__var_smoothing\": 0.7934096665797492, \"test_score\": 0.7726815982109032}, {\"index\": 600, \"fselector__k\": 20, \"nb__var_smoothing\": 1.0, \"test_score\": 0.7724706340026631}, {\"index\": 1405, \"fselector__k\": 49, \"nb__var_smoothing\": 0.7488103857590023, \"test_score\": 0.7724554600830665}, {\"index\": 1205, \"fselector__k\": 49, \"nb__var_smoothing\": 0.7488103857590023, \"test_score\": 0.7724554600830665}, {\"index\": 1206, \"fselector__k\": 49, \"nb__var_smoothing\": 0.7067181273927491, \"test_score\": 0.7719836967526015}, {\"index\": 1406, \"fselector__k\": 49, \"nb__var_smoothing\": 0.7067181273927491, \"test_score\": 0.7719836967526015}, {\"index\": 1207, \"fselector__k\": 49, \"nb__var_smoothing\": 0.6669919663030122, \"test_score\": 0.7715494369056083}, {\"index\": 1407, \"fselector__k\": 49, \"nb__var_smoothing\": 0.6669919663030122, \"test_score\": 0.7715494369056083}, {\"index\": 1408, \"fselector__k\": 49, \"nb__var_smoothing\": 0.6294988990221887, \"test_score\": 0.7710961063231095}, {\"index\": 1208, \"fselector__k\": 49, \"nb__var_smoothing\": 0.6294988990221887, \"test_score\": 0.7710961063231095}, {\"index\": 1409, \"fselector__k\": 49, \"nb__var_smoothing\": 0.5941133984965034, \"test_score\": 0.7708702826961724}, {\"index\": 1209, \"fselector__k\": 49, \"nb__var_smoothing\": 0.5941133984965034, \"test_score\": 0.7708702826961724}, {\"index\": 1410, \"fselector__k\": 49, \"nb__var_smoothing\": 0.5607169938205457, \"test_score\": 0.7707668598241335}, {\"index\": 1210, \"fselector__k\": 49, \"nb__var_smoothing\": 0.5607169938205457, \"test_score\": 0.7707668598241335}, {\"index\": 1093, \"fselector__k\": 30, \"nb__var_smoothing\": 0.004605922041145104, \"test_score\": 0.7705904847243618}, {\"index\": 1411, \"fselector__k\": 49, \"nb__var_smoothing\": 0.5291978735958441, \"test_score\": 0.7705056982770623}, {\"index\": 1211, \"fselector__k\": 49, \"nb__var_smoothing\": 0.5291978735958441, \"test_score\": 0.7705056982770623}, {\"index\": 1412, \"fselector__k\": 49, \"nb__var_smoothing\": 0.49945051158551396, \"test_score\": 0.7702606002378466}, {\"index\": 1212, \"fselector__k\": 49, \"nb__var_smoothing\": 0.49945051158551396, \"test_score\": 0.7702606002378466}, {\"index\": 1213, \"fselector__k\": 49, \"nb__var_smoothing\": 0.4713753134116723, \"test_score\": 0.7702427785201996}, {\"index\": 1413, \"fselector__k\": 49, \"nb__var_smoothing\": 0.4713753134116723, \"test_score\": 0.7702427785201996}, {\"index\": 1007, \"fselector__k\": 30, \"nb__var_smoothing\": 0.6669919663030122, \"test_score\": 0.7701491680762298}, {\"index\": 1215, \"fselector__k\": 49, \"nb__var_smoothing\": 0.41987070844439095, \"test_score\": 0.7700327128859585}, {\"index\": 1415, \"fselector__k\": 49, \"nb__var_smoothing\": 0.41987070844439095, \"test_score\": 0.7700327128859585}, {\"index\": 1414, \"fselector__k\": 49, \"nb__var_smoothing\": 0.44487828311275845, \"test_score\": 0.7700149750352182}, {\"index\": 1214, \"fselector__k\": 49, \"nb__var_smoothing\": 0.44487828311275845, \"test_score\": 0.7700149750352182}, {\"index\": 1416, \"fselector__k\": 49, \"nb__var_smoothing\": 0.39626886387014776, \"test_score\": 0.769456472356629}, {\"index\": 1216, \"fselector__k\": 49, \"nb__var_smoothing\": 0.39626886387014776, \"test_score\": 0.769456472356629}, {\"index\": 1217, \"fselector__k\": 49, \"nb__var_smoothing\": 0.37399373024787974, \"test_score\": 0.769126282354954}, {\"index\": 1417, \"fselector__k\": 49, \"nb__var_smoothing\": 0.37399373024787974, \"test_score\": 0.769126282354954}, {\"index\": 1420, \"fselector__k\": 49, \"nb__var_smoothing\": 0.3144035471591499, \"test_score\": 0.7689880666976735}, {\"index\": 1220, \"fselector__k\": 49, \"nb__var_smoothing\": 0.3144035471591499, \"test_score\": 0.7689880666976735}, {\"index\": 1219, \"fselector__k\": 49, \"nb__var_smoothing\": 0.3331294787934673, \"test_score\": 0.7689686724755282}, {\"index\": 1419, \"fselector__k\": 49, \"nb__var_smoothing\": 0.3331294787934673, \"test_score\": 0.7689686724755282}, {\"index\": 1418, \"fselector__k\": 49, \"nb__var_smoothing\": 0.35297073027306497, \"test_score\": 0.7689337329232002}, {\"index\": 1218, \"fselector__k\": 49, \"nb__var_smoothing\": 0.35297073027306497, \"test_score\": 0.7689337329232002}, {\"index\": 1221, \"fselector__k\": 49, \"nb__var_smoothing\": 0.2967302408188869, \"test_score\": 0.7686557949995676}, {\"index\": 1421, \"fselector__k\": 49, \"nb__var_smoothing\": 0.2967302408188869, \"test_score\": 0.7686557949995676}, {\"index\": 1222, \"fselector__k\": 49, \"nb__var_smoothing\": 0.280050389418363, \"test_score\": 0.7683599065626814}, {\"index\": 1422, \"fselector__k\": 49, \"nb__var_smoothing\": 0.280050389418363, \"test_score\": 0.7683599065626814}, {\"index\": 1223, \"fselector__k\": 49, \"nb__var_smoothing\": 0.2643081486974105, \"test_score\": 0.7681693190174921}, {\"index\": 1423, \"fselector__k\": 49, \"nb__var_smoothing\": 0.2643081486974105, \"test_score\": 0.7681693190174921}, {\"index\": 778, \"fselector__k\": 20, \"nb__var_smoothing\": 3.370064329271925e-05, \"test_score\": 0.7681161983179173}, {\"index\": 1424, \"fselector__k\": 49, \"nb__var_smoothing\": 0.24945081352303158, \"test_score\": 0.7677834533708385}, {\"index\": 1224, \"fselector__k\": 49, \"nb__var_smoothing\": 0.24945081352303158, \"test_score\": 0.7677834533708385}, {\"index\": 1426, \"fselector__k\": 49, \"nb__var_smoothing\": 0.22219468609395232, \"test_score\": 0.7674860104009341}, {\"index\": 1226, \"fselector__k\": 49, \"nb__var_smoothing\": 0.22219468609395232, \"test_score\": 0.7674860104009341}, {\"index\": 1425, \"fselector__k\": 49, \"nb__var_smoothing\": 0.2354286414322417, \"test_score\": 0.7674696323921789}, {\"index\": 1225, \"fselector__k\": 49, \"nb__var_smoothing\": 0.2354286414322417, \"test_score\": 0.7674696323921789}, {\"index\": 1427, \"fselector__k\": 49, \"nb__var_smoothing\": 0.20970464013232323, \"test_score\": 0.767401131100988}, {\"index\": 1227, \"fselector__k\": 49, \"nb__var_smoothing\": 0.20970464013232323, \"test_score\": 0.767401131100988}, {\"index\": 1157, \"fselector__k\": 30, \"nb__var_smoothing\": 0.00011357333583431052, \"test_score\": 0.7673384855170238}, {\"index\": 800, \"fselector__k\": 30, \"nb__var_smoothing\": 1.0, \"test_score\": 0.7673039772802154}, {\"index\": 803, \"fselector__k\": 30, \"nb__var_smoothing\": 0.8406652885618325, \"test_score\": 0.7672331157346537}, {\"index\": 1428, \"fselector__k\": 49, \"nb__var_smoothing\": 0.19791668678535568, \"test_score\": 0.7672075273424088}, {\"index\": 1228, \"fselector__k\": 49, \"nb__var_smoothing\": 0.19791668678535568, \"test_score\": 0.7672075273424088}, {\"index\": 789, \"fselector__k\": 20, \"nb__var_smoothing\": 1.7834308769319092e-05, \"test_score\": 0.7672001171021636}, {\"index\": 1042, \"fselector__k\": 30, \"nb__var_smoothing\": 0.0880488358164346, \"test_score\": 0.767125358740693}, {\"index\": 804, \"fselector__k\": 30, \"nb__var_smoothing\": 0.7934096665797492, \"test_score\": 0.7671139438556588}, {\"index\": 802, \"fselector__k\": 30, \"nb__var_smoothing\": 0.890735463861044, \"test_score\": 0.7671101788306028}, {\"index\": 801, \"fselector__k\": 30, \"nb__var_smoothing\": 0.9437878277775381, \"test_score\": 0.7670578249141743}, {\"index\": 216, \"fselector__k\": 10, \"nb__var_smoothing\": 0.39626886387014776, \"test_score\": 0.7669761864711179}, {\"index\": 1429, \"fselector__k\": 49, \"nb__var_smoothing\": 0.18679135990207824, \"test_score\": 0.7669467731488836}, {\"index\": 1229, \"fselector__k\": 49, \"nb__var_smoothing\": 0.18679135990207824, \"test_score\": 0.7669467731488836}, {\"index\": 1430, \"fselector__k\": 49, \"nb__var_smoothing\": 0.17629141180959476, \"test_score\": 0.7668238632020529}, {\"index\": 1230, \"fselector__k\": 49, \"nb__var_smoothing\": 0.17629141180959476, \"test_score\": 0.7668238632020529}, {\"index\": 1431, \"fselector__k\": 49, \"nb__var_smoothing\": 0.16638168860761288, \"test_score\": 0.7667192931505419}, {\"index\": 1231, \"fselector__k\": 49, \"nb__var_smoothing\": 0.16638168860761288, \"test_score\": 0.7667192931505419}, {\"index\": 805, \"fselector__k\": 30, \"nb__var_smoothing\": 0.7488103857590023, \"test_score\": 0.7667123471735295}, {\"index\": 1432, \"fselector__k\": 49, \"nb__var_smoothing\": 0.1570290124729377, \"test_score\": 0.7664394592357712}, {\"index\": 1232, \"fselector__k\": 49, \"nb__var_smoothing\": 0.1570290124729377, \"test_score\": 0.7664394592357712}, {\"index\": 1233, \"fselector__k\": 49, \"nb__var_smoothing\": 0.14820207057988583, \"test_score\": 0.7664392555589982}, {\"index\": 1433, \"fselector__k\": 49, \"nb__var_smoothing\": 0.14820207057988583, \"test_score\": 0.7664392555589982}, {\"index\": 615, \"fselector__k\": 20, \"nb__var_smoothing\": 0.41987070844439095, \"test_score\": 0.7663637963098082}, {\"index\": 806, \"fselector__k\": 30, \"nb__var_smoothing\": 0.7067181273927491, \"test_score\": 0.7663120923619052}, {\"index\": 1013, \"fselector__k\": 30, \"nb__var_smoothing\": 0.4713753134116723, \"test_score\": 0.7662954807239105}, {\"index\": 707, \"fselector__k\": 20, \"nb__var_smoothing\": 0.002049074689815846, \"test_score\": 0.7662874983915525}, {\"index\": 1234, \"fselector__k\": 49, \"nb__var_smoothing\": 0.13987131026472382, \"test_score\": 0.7662461789638316}, {\"index\": 1434, \"fselector__k\": 49, \"nb__var_smoothing\": 0.13987131026472382, \"test_score\": 0.7662461789638316}, {\"index\": 1005, \"fselector__k\": 30, \"nb__var_smoothing\": 0.7488103857590023, \"test_score\": 0.766210379775711}, {\"index\": 808, \"fselector__k\": 30, \"nb__var_smoothing\": 0.6294988990221887, \"test_score\": 0.7660371526801827}, {\"index\": 807, \"fselector__k\": 30, \"nb__var_smoothing\": 0.6669919663030122, \"test_score\": 0.7659627208005982}, {\"index\": 1235, \"fselector__k\": 49, \"nb__var_smoothing\": 0.1320088400831418, \"test_score\": 0.7659144254433983}, {\"index\": 1435, \"fselector__k\": 49, \"nb__var_smoothing\": 0.1320088400831418, \"test_score\": 0.7659144254433983}, {\"index\": 203, \"fselector__k\": 10, \"nb__var_smoothing\": 0.8406652885618325, \"test_score\": 0.7658917124879501}, {\"index\": 1189, \"fselector__k\": 30, \"nb__var_smoothing\": 1.7834308769319092e-05, \"test_score\": 0.765827332656168}, {\"index\": 1436, \"fselector__k\": 49, \"nb__var_smoothing\": 0.12458833642950079, \"test_score\": 0.7657743048092399}, {\"index\": 1236, \"fselector__k\": 49, \"nb__var_smoothing\": 0.12458833642950079, \"test_score\": 0.7657743048092399}, {\"index\": 809, \"fselector__k\": 30, \"nb__var_smoothing\": 0.5941133984965034, \"test_score\": 0.7657407370798837}, {\"index\": 1061, \"fselector__k\": 30, \"nb__var_smoothing\": 0.02933166278390044, \"test_score\": 0.7657354504695228}, {\"index\": 810, \"fselector__k\": 30, \"nb__var_smoothing\": 0.5607169938205457, \"test_score\": 0.765705306307103}, {\"index\": 603, \"fselector__k\": 20, \"nb__var_smoothing\": 0.8406652885618325, \"test_score\": 0.765672981605112}, {\"index\": 1237, \"fselector__k\": 49, \"nb__var_smoothing\": 0.11758495540521567, \"test_score\": 0.7656182314913524}, {\"index\": 1437, \"fselector__k\": 49, \"nb__var_smoothing\": 0.11758495540521567, \"test_score\": 0.7656182314913524}, {\"index\": 1041, \"fselector__k\": 30, \"nb__var_smoothing\": 0.09329304026284682, \"test_score\": 0.7655273826648064}, {\"index\": 811, \"fselector__k\": 30, \"nb__var_smoothing\": 0.5291978735958441, \"test_score\": 0.7654078543514583}, {\"index\": 1438, \"fselector__k\": 49, \"nb__var_smoothing\": 0.11097524964120718, \"test_score\": 0.7653894934894121}, {\"index\": 1238, \"fselector__k\": 49, \"nb__var_smoothing\": 0.11097524964120718, \"test_score\": 0.7653894934894121}, {\"index\": 1137, \"fselector__k\": 30, \"nb__var_smoothing\": 0.00036123426997094305, \"test_score\": 0.7651909565595783}, {\"index\": 812, \"fselector__k\": 30, \"nb__var_smoothing\": 0.49945051158551396, \"test_score\": 0.7651608872783248}, {\"index\": 1023, \"fselector__k\": 30, \"nb__var_smoothing\": 0.2643081486974105, \"test_score\": 0.765151248574562}, {\"index\": 1239, \"fselector__k\": 49, \"nb__var_smoothing\": 0.10473708979594494, \"test_score\": 0.7650768107044844}, {\"index\": 1439, \"fselector__k\": 49, \"nb__var_smoothing\": 0.10473708979594494, \"test_score\": 0.7650768107044844}, {\"index\": 1240, \"fselector__k\": 49, \"nb__var_smoothing\": 0.09884959046625581, \"test_score\": 0.7649708897967281}, {\"index\": 1440, \"fselector__k\": 49, \"nb__var_smoothing\": 0.09884959046625581, \"test_score\": 0.7649708897967281}, {\"index\": 813, \"fselector__k\": 30, \"nb__var_smoothing\": 0.4713753134116723, \"test_score\": 0.7649187874810192}, {\"index\": 1241, \"fselector__k\": 49, \"nb__var_smoothing\": 0.09329304026284682, \"test_score\": 0.7648499417364618}, {\"index\": 1441, \"fselector__k\": 49, \"nb__var_smoothing\": 0.09329304026284682, \"test_score\": 0.7648499417364618}, {\"index\": 1020, \"fselector__k\": 30, \"nb__var_smoothing\": 0.3144035471591499, \"test_score\": 0.7648378349494487}, {\"index\": 1242, \"fselector__k\": 49, \"nb__var_smoothing\": 0.0880488358164346, \"test_score\": 0.7646749923741021}, {\"index\": 1442, \"fselector__k\": 49, \"nb__var_smoothing\": 0.0880488358164346, \"test_score\": 0.7646749923741021}, {\"index\": 1244, \"fselector__k\": 49, \"nb__var_smoothing\": 0.07842822061337677, \"test_score\": 0.7645708386618773}, {\"index\": 1444, \"fselector__k\": 49, \"nb__var_smoothing\": 0.07842822061337677, \"test_score\": 0.7645708386618773}, {\"index\": 1443, \"fselector__k\": 49, \"nb__var_smoothing\": 0.08309941949353392, \"test_score\": 0.7645014028537271}, {\"index\": 1243, \"fselector__k\": 49, \"nb__var_smoothing\": 0.08309941949353392, \"test_score\": 0.7645014028537271}, {\"index\": 1445, \"fselector__k\": 49, \"nb__var_smoothing\": 0.07401959996915641, \"test_score\": 0.76448388665124}, {\"index\": 1245, \"fselector__k\": 49, \"nb__var_smoothing\": 0.07401959996915641, \"test_score\": 0.76448388665124}, {\"index\": 815, \"fselector__k\": 30, \"nb__var_smoothing\": 0.41987070844439095, \"test_score\": 0.7644644564861347}, {\"index\": 814, \"fselector__k\": 30, \"nb__var_smoothing\": 0.44487828311275845, \"test_score\": 0.7644642348378816}, {\"index\": 637, \"fselector__k\": 20, \"nb__var_smoothing\": 0.11758495540521567, \"test_score\": 0.764316464343745}, {\"index\": 1001, \"fselector__k\": 30, \"nb__var_smoothing\": 0.9437878277775381, \"test_score\": 0.7642977051138925}, {\"index\": 1246, \"fselector__k\": 49, \"nb__var_smoothing\": 0.06985879746785245, \"test_score\": 0.7642564995055448}, {\"index\": 1446, \"fselector__k\": 49, \"nb__var_smoothing\": 0.06985879746785245, \"test_score\": 0.7642564995055448}, {\"index\": 816, \"fselector__k\": 30, \"nb__var_smoothing\": 0.39626886387014776, \"test_score\": 0.7640993359178717}, {\"index\": 1447, \"fselector__k\": 49, \"nb__var_smoothing\": 0.06593188271333544, \"test_score\": 0.764064144764824}, {\"index\": 1247, \"fselector__k\": 49, \"nb__var_smoothing\": 0.06593188271333544, \"test_score\": 0.764064144764824}, {\"index\": 818, \"fselector__k\": 30, \"nb__var_smoothing\": 0.35297073027306497, \"test_score\": 0.7640283545624437}, {\"index\": 817, \"fselector__k\": 30, \"nb__var_smoothing\": 0.37399373024787974, \"test_score\": 0.764012282068848}, {\"index\": 1249, \"fselector__k\": 49, \"nb__var_smoothing\": 0.0587278661318948, \"test_score\": 0.7639965779905922}, {\"index\": 1449, \"fselector__k\": 49, \"nb__var_smoothing\": 0.0587278661318948, \"test_score\": 0.7639965779905922}, {\"index\": 1248, \"fselector__k\": 49, \"nb__var_smoothing\": 0.06222570836730228, \"test_score\": 0.7639611292463312}, {\"index\": 1448, \"fselector__k\": 49, \"nb__var_smoothing\": 0.06222570836730228, \"test_score\": 0.7639611292463312}, {\"index\": 819, \"fselector__k\": 30, \"nb__var_smoothing\": 0.3331294787934673, \"test_score\": 0.7639393208553753}, {\"index\": 1250, \"fselector__k\": 49, \"nb__var_smoothing\": 0.05542664520663104, \"test_score\": 0.763824441164849}, {\"index\": 1450, \"fselector__k\": 49, \"nb__var_smoothing\": 0.05542664520663104, \"test_score\": 0.763824441164849}, {\"index\": 1251, \"fselector__k\": 49, \"nb__var_smoothing\": 0.05231099308056261, \"test_score\": 0.7638048522516707}, {\"index\": 1451, \"fselector__k\": 49, \"nb__var_smoothing\": 0.05231099308056261, \"test_score\": 0.7638048522516707}, {\"index\": 1164, \"fselector__k\": 30, \"nb__var_smoothing\": 7.575250258771904e-05, \"test_score\": 0.763804067497045}, {\"index\": 1060, \"fselector__k\": 30, \"nb__var_smoothing\": 0.031078661877820123, \"test_score\": 0.763751866338196}, {\"index\": 1252, \"fselector__k\": 49, \"nb__var_smoothing\": 0.049370478528390015, \"test_score\": 0.7637351019426211}, {\"index\": 1452, \"fselector__k\": 49, \"nb__var_smoothing\": 0.049370478528390015, \"test_score\": 0.7637351019426211}, {\"index\": 820, \"fselector__k\": 30, \"nb__var_smoothing\": 0.3144035471591499, \"test_score\": 0.7636424799300503}, {\"index\": 770, \"fselector__k\": 20, \"nb__var_smoothing\": 5.353566677410719e-05, \"test_score\": 0.7635822485148969}, {\"index\": 1018, \"fselector__k\": 30, \"nb__var_smoothing\": 0.35297073027306497, \"test_score\": 0.7635263751836385}, {\"index\": 1171, \"fselector__k\": 30, \"nb__var_smoothing\": 5.0526310653356795e-05, \"test_score\": 0.7634967821466047}, {\"index\": 1454, \"fselector__k\": 49, \"nb__var_smoothing\": 0.043976036093027186, \"test_score\": 0.7634901896086985}, {\"index\": 1254, \"fselector__k\": 49, \"nb__var_smoothing\": 0.043976036093027186, \"test_score\": 0.7634901896086985}, {\"index\": 1453, \"fselector__k\": 49, \"nb__var_smoothing\": 0.0465952566866468, \"test_score\": 0.7634729879071109}, {\"index\": 1253, \"fselector__k\": 49, \"nb__var_smoothing\": 0.0465952566866468, \"test_score\": 0.7634729879071109}, {\"index\": 708, \"fselector__k\": 20, \"nb__var_smoothing\": 0.0019338917504552302, \"test_score\": 0.763462345795716}, {\"index\": 1257, \"fselector__k\": 49, \"nb__var_smoothing\": 0.03696912707195026, \"test_score\": 0.7634188847666308}, {\"index\": 1457, \"fselector__k\": 49, \"nb__var_smoothing\": 0.03696912707195026, \"test_score\": 0.7634188847666308}, {\"index\": 1456, \"fselector__k\": 49, \"nb__var_smoothing\": 0.039171014908092584, \"test_score\": 0.7633838523616562}, {\"index\": 1256, \"fselector__k\": 49, \"nb__var_smoothing\": 0.039171014908092584, \"test_score\": 0.7633838523616562}, {\"index\": 1455, \"fselector__k\": 49, \"nb__var_smoothing\": 0.041504047578504746, \"test_score\": 0.7633665398359419}, {\"index\": 1255, \"fselector__k\": 49, \"nb__var_smoothing\": 0.041504047578504746, \"test_score\": 0.7633665398359419}, {\"index\": 821, \"fselector__k\": 30, \"nb__var_smoothing\": 0.2967302408188869, \"test_score\": 0.7633459535056246}, {\"index\": 1458, \"fselector__k\": 49, \"nb__var_smoothing\": 0.03489101213406772, \"test_score\": 0.7632437317274977}, {\"index\": 1258, \"fselector__k\": 49, \"nb__var_smoothing\": 0.03489101213406772, \"test_score\": 0.7632437317274977}, {\"index\": 822, \"fselector__k\": 30, \"nb__var_smoothing\": 0.280050389418363, \"test_score\": 0.7632229327346673}, {\"index\": 1000, \"fselector__k\": 30, \"nb__var_smoothing\": 1.0, \"test_score\": 0.7631720554748436}, {\"index\": 1459, \"fselector__k\": 49, \"nb__var_smoothing\": 0.0329297125509715, \"test_score\": 0.7631565670543475}, {\"index\": 1259, \"fselector__k\": 49, \"nb__var_smoothing\": 0.0329297125509715, \"test_score\": 0.7631565670543475}, {\"index\": 823, \"fselector__k\": 30, \"nb__var_smoothing\": 0.2643081486974105, \"test_score\": 0.763064046880163}, {\"index\": 1077, \"fselector__k\": 30, \"nb__var_smoothing\": 0.011623224686798524, \"test_score\": 0.7629976182996632}, {\"index\": 1260, \"fselector__k\": 49, \"nb__var_smoothing\": 0.031078661877820123, \"test_score\": 0.7629632688109279}, {\"index\": 1460, \"fselector__k\": 49, \"nb__var_smoothing\": 0.031078661877820123, \"test_score\": 0.7629632688109279}, {\"index\": 824, \"fselector__k\": 30, \"nb__var_smoothing\": 0.24945081352303158, \"test_score\": 0.7629223717129864}, {\"index\": 1461, \"fselector__k\": 49, \"nb__var_smoothing\": 0.02933166278390044, \"test_score\": 0.7628934166634916}, {\"index\": 1261, \"fselector__k\": 49, \"nb__var_smoothing\": 0.02933166278390044, \"test_score\": 0.7628934166634916}, {\"index\": 213, \"fselector__k\": 10, \"nb__var_smoothing\": 0.4713753134116723, \"test_score\": 0.7628306273076878}, {\"index\": 1465, \"fselector__k\": 49, \"nb__var_smoothing\": 0.023272024789604086, \"test_score\": 0.7628250172106874}, {\"index\": 1265, \"fselector__k\": 49, \"nb__var_smoothing\": 0.023272024789604086, \"test_score\": 0.7628250172106874}, {\"index\": 825, \"fselector__k\": 30, \"nb__var_smoothing\": 0.2354286414322417, \"test_score\": 0.7628169689829029}, {\"index\": 1462, \"fselector__k\": 49, \"nb__var_smoothing\": 0.027682866303920653, \"test_score\": 0.7627894666280399}, {\"index\": 1262, \"fselector__k\": 49, \"nb__var_smoothing\": 0.027682866303920653, \"test_score\": 0.7627894666280399}, {\"index\": 1469, \"fselector__k\": 49, \"nb__var_smoothing\": 0.018464249428955436, \"test_score\": 0.7627736157826975}, {\"index\": 1269, \"fselector__k\": 49, \"nb__var_smoothing\": 0.018464249428955436, \"test_score\": 0.7627736157826975}, {\"index\": 1268, \"fselector__k\": 49, \"nb__var_smoothing\": 0.01956398343517064, \"test_score\": 0.7627731994434113}, {\"index\": 1267, \"fselector__k\": 49, \"nb__var_smoothing\": 0.02072921779595371, \"test_score\": 0.7627731994434113}, {\"index\": 1468, \"fselector__k\": 49, \"nb__var_smoothing\": 0.01956398343517064, \"test_score\": 0.7627731994434113}, {\"index\": 1467, \"fselector__k\": 49, \"nb__var_smoothing\": 0.02072921779595371, \"test_score\": 0.7627731994434113}, {\"index\": 1264, \"fselector__k\": 49, \"nb__var_smoothing\": 0.024658110758226028, \"test_score\": 0.7627723667648388}, {\"index\": 1463, \"fselector__k\": 49, \"nb__var_smoothing\": 0.026126752255633278, \"test_score\": 0.7627723667648388}, {\"index\": 1464, \"fselector__k\": 49, \"nb__var_smoothing\": 0.024658110758226028, \"test_score\": 0.7627723667648388}, {\"index\": 1263, \"fselector__k\": 49, \"nb__var_smoothing\": 0.026126752255633278, \"test_score\": 0.7627723667648388}, {\"index\": 1470, \"fselector__k\": 49, \"nb__var_smoothing\": 0.0174263338600965, \"test_score\": 0.7627560995802101}, {\"index\": 1270, \"fselector__k\": 49, \"nb__var_smoothing\": 0.0174263338600965, \"test_score\": 0.7627560995802101}, {\"index\": 1266, \"fselector__k\": 49, \"nb__var_smoothing\": 0.02196385372416546, \"test_score\": 0.7627553687400244}, {\"index\": 1466, \"fselector__k\": 49, \"nb__var_smoothing\": 0.02196385372416546, \"test_score\": 0.7627553687400244}]}}, {\"mode\": \"vega-lite\"});\n",
       "</script>"
      ],
      "text/plain": [
       "alt.Chart(...)"
      ]
     },
     "execution_count": 94,
     "metadata": {},
     "output_type": "execute_result"
    }
   ],
   "source": [
    "alt.Chart(results_NB, \n",
    "          title='NB Performance Comparison'\n",
    "         ).mark_line(point=True).encode(\n",
    "    alt.X('nb__var_smoothing', title='Variance Smoothing'),\n",
    "    alt.Y('test_score', title='AUC Score', scale=alt.Scale(zero=False)),\n",
    ")"
   ]
  },
  {
   "cell_type": "markdown",
   "metadata": {},
   "source": [
    "### NB using Random Forest Importance Feature selection"
   ]
  },
  {
   "cell_type": "code",
   "execution_count": 95,
   "metadata": {},
   "outputs": [
    {
     "name": "stdout",
     "output_type": "stream",
     "text": [
      "Fitting 10 folds for each of 800 candidates, totalling 8000 fits\n"
     ]
    },
    {
     "name": "stderr",
     "output_type": "stream",
     "text": [
      "[Parallel(n_jobs=-1)]: Using backend LokyBackend with 4 concurrent workers.\n",
      "[Parallel(n_jobs=-1)]: Done  42 tasks      | elapsed:    6.7s\n",
      "[Parallel(n_jobs=-1)]: Done 192 tasks      | elapsed:   30.5s\n",
      "[Parallel(n_jobs=-1)]: Done 442 tasks      | elapsed:  1.1min\n",
      "[Parallel(n_jobs=-1)]: Done 792 tasks      | elapsed:  2.0min\n",
      "[Parallel(n_jobs=-1)]: Done 1242 tasks      | elapsed:  3.1min\n",
      "[Parallel(n_jobs=-1)]: Done 1792 tasks      | elapsed:  4.4min\n",
      "[Parallel(n_jobs=-1)]: Done 2442 tasks      | elapsed:  6.0min\n",
      "[Parallel(n_jobs=-1)]: Done 3192 tasks      | elapsed:  7.8min\n",
      "[Parallel(n_jobs=-1)]: Done 4042 tasks      | elapsed:  9.9min\n",
      "[Parallel(n_jobs=-1)]: Done 4992 tasks      | elapsed: 12.2min\n",
      "[Parallel(n_jobs=-1)]: Done 6042 tasks      | elapsed: 15.0min\n",
      "[Parallel(n_jobs=-1)]: Done 7192 tasks      | elapsed: 17.8min\n",
      "[Parallel(n_jobs=-1)]: Done 8000 out of 8000 | elapsed: 19.9min finished\n"
     ]
    }
   ],
   "source": [
    "pipe_NB_1 = Pipeline([('rfi_fs', RFIFeatureSelector()), \n",
    "                     ('nb', GaussianNB())])\n",
    "\n",
    "params_pipe_NB_1 = {'rfi_fs__n_features_': [10, 20, 30, Data.shape[1]],\n",
    "                  'nb__var_smoothing': np.logspace(0,-5, num=200)}\n",
    "\n",
    "gs_pipe_NB_1 = GridSearchCV(estimator=pipe_NB_1, \n",
    "                           param_grid=params_pipe_NB_1, \n",
    "                           cv=cv_method,\n",
    "                           n_jobs=-1,\n",
    "                           scoring='roc_auc',\n",
    "                           verbose=1)\n",
    "\n",
    "gs_pipe_NB_1.fit(Data_train_transformed, target_train);"
   ]
  },
  {
   "cell_type": "code",
   "execution_count": 96,
   "metadata": {},
   "outputs": [
    {
     "data": {
      "text/plain": [
       "0.7804803369245142"
      ]
     },
     "execution_count": 96,
     "metadata": {},
     "output_type": "execute_result"
    }
   ],
   "source": [
    "gs_pipe_NB_1.best_score_"
   ]
  },
  {
   "cell_type": "code",
   "execution_count": 97,
   "metadata": {},
   "outputs": [
    {
     "data": {
      "text/plain": [
       "{'nb__var_smoothing': 0.00027049597304631344, 'rfi_fs__n_features_': 30}"
      ]
     },
     "execution_count": 97,
     "metadata": {},
     "output_type": "execute_result"
    }
   ],
   "source": [
    "gs_pipe_NB_1.best_params_"
   ]
  },
  {
   "cell_type": "code",
   "execution_count": 98,
   "metadata": {},
   "outputs": [],
   "source": [
    "results_NB = pd.DataFrame(gs_pipe_NB_1.cv_results_['params'])\n",
    "results_NB['test_score'] = gs_pipe_NB_1.cv_results_['mean_test_score']\n",
    "results_NB = results_NB.drop(columns='rfi_fs__n_features_')\n",
    "results_NB = results_NB.sort_values(by='test_score', ascending=False)"
   ]
  },
  {
   "cell_type": "code",
   "execution_count": 99,
   "metadata": {},
   "outputs": [],
   "source": [
    "results_NB.reset_index(inplace = True) \n",
    "results_NB = results_NB.iloc[0:200,:]"
   ]
  },
  {
   "cell_type": "code",
   "execution_count": 100,
   "metadata": {},
   "outputs": [
    {
     "data": {
      "text/html": [
       "\n",
       "<div id=\"altair-viz-9293110377c5492fb7cad37e08167f13\"></div>\n",
       "<script type=\"text/javascript\">\n",
       "  (function(spec, embedOpt){\n",
       "    let outputDiv = document.currentScript.previousElementSibling;\n",
       "    if (outputDiv.id !== \"altair-viz-9293110377c5492fb7cad37e08167f13\") {\n",
       "      outputDiv = document.getElementById(\"altair-viz-9293110377c5492fb7cad37e08167f13\");\n",
       "    }\n",
       "    const paths = {\n",
       "      \"vega\": \"https://cdn.jsdelivr.net/npm//vega@5?noext\",\n",
       "      \"vega-lib\": \"https://cdn.jsdelivr.net/npm//vega-lib?noext\",\n",
       "      \"vega-lite\": \"https://cdn.jsdelivr.net/npm//vega-lite@4.8.1?noext\",\n",
       "      \"vega-embed\": \"https://cdn.jsdelivr.net/npm//vega-embed@6?noext\",\n",
       "    };\n",
       "\n",
       "    function loadScript(lib) {\n",
       "      return new Promise(function(resolve, reject) {\n",
       "        var s = document.createElement('script');\n",
       "        s.src = paths[lib];\n",
       "        s.async = true;\n",
       "        s.onload = () => resolve(paths[lib]);\n",
       "        s.onerror = () => reject(`Error loading script: ${paths[lib]}`);\n",
       "        document.getElementsByTagName(\"head\")[0].appendChild(s);\n",
       "      });\n",
       "    }\n",
       "\n",
       "    function showError(err) {\n",
       "      outputDiv.innerHTML = `<div class=\"error\" style=\"color:red;\">${err}</div>`;\n",
       "      throw err;\n",
       "    }\n",
       "\n",
       "    function displayChart(vegaEmbed) {\n",
       "      vegaEmbed(outputDiv, spec, embedOpt)\n",
       "        .catch(err => showError(`Javascript Error: ${err.message}<br>This usually means there's a typo in your chart specification. See the javascript console for the full traceback.`));\n",
       "    }\n",
       "\n",
       "    if(typeof define === \"function\" && define.amd) {\n",
       "      requirejs.config({paths});\n",
       "      require([\"vega-embed\"], displayChart, err => showError(`Error loading script: ${err.message}`));\n",
       "    } else if (typeof vegaEmbed === \"function\") {\n",
       "      displayChart(vegaEmbed);\n",
       "    } else {\n",
       "      loadScript(\"vega\")\n",
       "        .then(() => loadScript(\"vega-lite\"))\n",
       "        .then(() => loadScript(\"vega-embed\"))\n",
       "        .catch(showError)\n",
       "        .then(() => displayChart(vegaEmbed));\n",
       "    }\n",
       "  })({\"config\": {\"view\": {\"continuousWidth\": 400, \"continuousHeight\": 300}}, \"data\": {\"name\": \"data-b025bf946a95ba3c524482bb77894be7\"}, \"mark\": {\"type\": \"line\", \"point\": true}, \"encoding\": {\"x\": {\"type\": \"quantitative\", \"field\": \"nb__var_smoothing\", \"title\": \"Variance Smoothing\"}, \"y\": {\"type\": \"quantitative\", \"field\": \"test_score\", \"scale\": {\"zero\": false}, \"title\": \"AUC Score\"}}, \"title\": \"NB Performance Comparison\", \"$schema\": \"https://vega.github.io/schema/vega-lite/v4.8.1.json\", \"datasets\": {\"data-b025bf946a95ba3c524482bb77894be7\": [{\"index\": 570, \"nb__var_smoothing\": 0.00027049597304631344, \"test_score\": 0.7804803369245142}, {\"index\": 270, \"nb__var_smoothing\": 0.02072921779595371, \"test_score\": 0.7796034994305437}, {\"index\": 138, \"nb__var_smoothing\": 0.13987131026472382, \"test_score\": 0.7794073826600139}, {\"index\": 662, \"nb__var_smoothing\": 7.149428986597576e-05, \"test_score\": 0.7784690108185913}, {\"index\": 666, \"nb__var_smoothing\": 6.747544053110686e-05, \"test_score\": 0.7781101712825814}, {\"index\": 70, \"nb__var_smoothing\": 0.37399373024787974, \"test_score\": 0.7781022937838566}, {\"index\": 342, \"nb__var_smoothing\": 0.007316807143427192, \"test_score\": 0.7779352518726881}, {\"index\": 322, \"nb__var_smoothing\": 0.009771241535346491, \"test_score\": 0.7777464764517303}, {\"index\": 386, \"nb__var_smoothing\": 0.003872038781812553, \"test_score\": 0.7777330996801317}, {\"index\": 314, \"nb__var_smoothing\": 0.010969857978923836, \"test_score\": 0.7776798681564305}, {\"index\": 402, \"nb__var_smoothing\": 0.003072112998861756, \"test_score\": 0.7774750771515636}, {\"index\": 438, \"nb__var_smoothing\": 0.0018251834943190425, \"test_score\": 0.7771250017072906}, {\"index\": 350, \"nb__var_smoothing\": 0.00651733960488242, \"test_score\": 0.7770955644230833}, {\"index\": 334, \"nb__var_smoothing\": 0.008214343584919423, \"test_score\": 0.7769422617083592}, {\"index\": 330, \"nb__var_smoothing\": 0.008703591361485156, \"test_score\": 0.7768265493392607}, {\"index\": 238, \"nb__var_smoothing\": 0.0329297125509715, \"test_score\": 0.7767296770716743}, {\"index\": 502, \"nb__var_smoothing\": 0.0007232633896483533, \"test_score\": 0.7766996826715875}, {\"index\": 206, \"nb__var_smoothing\": 0.05231099308056261, \"test_score\": 0.7766487335258438}, {\"index\": 166, \"nb__var_smoothing\": 0.09329304026284682, \"test_score\": 0.7765932915101053}, {\"index\": 198, \"nb__var_smoothing\": 0.0587278661318948, \"test_score\": 0.7765624015312659}, {\"index\": 58, \"nb__var_smoothing\": 0.44487828311275845, \"test_score\": 0.7765521727639106}, {\"index\": 302, \"nb__var_smoothing\": 0.013049019780144023, \"test_score\": 0.7765439478165729}, {\"index\": 18, \"nb__var_smoothing\": 0.7934096665797492, \"test_score\": 0.7765266203146255}, {\"index\": 714, \"nb__var_smoothing\": 3.370064329271925e-05, \"test_score\": 0.7764463057705944}, {\"index\": 462, \"nb__var_smoothing\": 0.001289890261253308, \"test_score\": 0.7764439754686903}, {\"index\": 794, \"nb__var_smoothing\": 1.0595601792776149e-05, \"test_score\": 0.7763289010871308}, {\"index\": 62, \"nb__var_smoothing\": 0.41987070844439095, \"test_score\": 0.7761226364209055}, {\"index\": 646, \"nb__var_smoothing\": 9.011018251665018e-05, \"test_score\": 0.7759457491339544}, {\"index\": 318, \"nb__var_smoothing\": 0.010353218432956621, \"test_score\": 0.7759303595565982}, {\"index\": 426, \"nb__var_smoothing\": 0.002171117945694503, \"test_score\": 0.7759002932705914}, {\"index\": 526, \"nb__var_smoothing\": 0.0005111433483440165, \"test_score\": 0.7758786496182019}, {\"index\": 670, \"nb__var_smoothing\": 6.368249944718586e-05, \"test_score\": 0.7758554963614943}, {\"index\": 282, \"nb__var_smoothing\": 0.0174263338600965, \"test_score\": 0.7758350028838236}, {\"index\": 74, \"nb__var_smoothing\": 0.35297073027306497, \"test_score\": 0.775764291100595}, {\"index\": 522, \"nb__var_smoothing\": 0.0005415871378079471, \"test_score\": 0.7756379905345413}, {\"index\": 490, \"nb__var_smoothing\": 0.0008603464416684501, \"test_score\": 0.7756298224968903}, {\"index\": 494, \"nb__var_smoothing\": 0.0008119844993184008, \"test_score\": 0.7755480103295275}, {\"index\": 14, \"nb__var_smoothing\": 0.8406652885618325, \"test_score\": 0.7755399051920564}, {\"index\": 486, \"nb__var_smoothing\": 0.0009115888299750819, \"test_score\": 0.7755176145663878}, {\"index\": 26, \"nb__var_smoothing\": 0.7067181273927491, \"test_score\": 0.7754508774754816}, {\"index\": 406, \"nb__var_smoothing\": 0.002899422853882875, \"test_score\": 0.7752368491299049}, {\"index\": 674, \"nb__var_smoothing\": 6.0102767820703754e-05, \"test_score\": 0.7752352167204732}, {\"index\": 790, \"nb__var_smoothing\": 1.1226677735108135e-05, \"test_score\": 0.7751844622657627}, {\"index\": 498, \"nb__var_smoothing\": 0.0007663410868007454, \"test_score\": 0.775141450523677}, {\"index\": 210, \"nb__var_smoothing\": 0.049370478528390015, \"test_score\": 0.775105354806137}, {\"index\": 394, \"nb__var_smoothing\": 0.0034489622604057563, \"test_score\": 0.7750591471358612}, {\"index\": 298, \"nb__var_smoothing\": 0.013826221737646556, \"test_score\": 0.7749952345625586}, {\"index\": 622, \"nb__var_smoothing\": 0.00012750512407130128, \"test_score\": 0.7749785061099438}, {\"index\": 778, \"nb__var_smoothing\": 1.3354515629298974e-05, \"test_score\": 0.7749519802054932}, {\"index\": 682, \"nb__var_smoothing\": 5.353566677410719e-05, \"test_score\": 0.7749061649125305}, {\"index\": 234, \"nb__var_smoothing\": 0.03489101213406772, \"test_score\": 0.7748903410244079}, {\"index\": 122, \"nb__var_smoothing\": 0.17629141180959476, \"test_score\": 0.7748007561919537}, {\"index\": 746, \"nb__var_smoothing\": 2.121451784910628e-05, \"test_score\": 0.7746664163838555}, {\"index\": 242, \"nb__var_smoothing\": 0.031078661877820123, \"test_score\": 0.7746453478188254}, {\"index\": 338, \"nb__var_smoothing\": 0.007752597488629456, \"test_score\": 0.7746030519406922}, {\"index\": 170, \"nb__var_smoothing\": 0.0880488358164346, \"test_score\": 0.7745592644297207}, {\"index\": 42, \"nb__var_smoothing\": 0.5607169938205457, \"test_score\": 0.774550248737264}, {\"index\": 686, \"nb__var_smoothing\": 5.0526310653356795e-05, \"test_score\": 0.7745486582612857}, {\"index\": 90, \"nb__var_smoothing\": 0.280050389418363, \"test_score\": 0.7744996919688331}, {\"index\": 434, \"nb__var_smoothing\": 0.0019338917504552302, \"test_score\": 0.7744820739279593}, {\"index\": 354, \"nb__var_smoothing\": 0.006150985788580498, \"test_score\": 0.7744326883009739}, {\"index\": 254, \"nb__var_smoothing\": 0.026126752255633278, \"test_score\": 0.7743833985218818}, {\"index\": 142, \"nb__var_smoothing\": 0.1320088400831418, \"test_score\": 0.774245407508101}, {\"index\": 430, \"nb__var_smoothing\": 0.002049074689815846, \"test_score\": 0.7742448174445082}, {\"index\": 710, \"nb__var_smoothing\": 3.5707859649004625e-05, \"test_score\": 0.774145980295111}, {\"index\": 718, \"nb__var_smoothing\": 3.180625692794119e-05, \"test_score\": 0.7740949293109807}, {\"index\": 726, \"nb__var_smoothing\": 2.833096101839324e-05, \"test_score\": 0.774083128039127}, {\"index\": 114, \"nb__var_smoothing\": 0.19791668678535568, \"test_score\": 0.774075040873136}, {\"index\": 590, \"nb__var_smoothing\": 0.00020255019392306664, \"test_score\": 0.7740645814717876}, {\"index\": 130, \"nb__var_smoothing\": 0.1570290124729377, \"test_score\": 0.7740412694670067}, {\"index\": 642, \"nb__var_smoothing\": 9.547716114208047e-05, \"test_score\": 0.7739970057118157}, {\"index\": 134, \"nb__var_smoothing\": 0.14820207057988583, \"test_score\": 0.7739556892793412}, {\"index\": 126, \"nb__var_smoothing\": 0.16638168860761288, \"test_score\": 0.7739382539485139}, {\"index\": 278, \"nb__var_smoothing\": 0.018464249428955436, \"test_score\": 0.7739308197462955}, {\"index\": 146, \"nb__var_smoothing\": 0.12458833642950079, \"test_score\": 0.7739255780646346}, {\"index\": 286, \"nb__var_smoothing\": 0.016446761779946636, \"test_score\": 0.7739210582374195}, {\"index\": 758, \"nb__var_smoothing\": 1.7834308769319092e-05, \"test_score\": 0.7739038505453385}, {\"index\": 478, \"nb__var_smoothing\": 0.0010234114021054528, \"test_score\": 0.7738779566379339}, {\"index\": 3, \"nb__var_smoothing\": 1.0, \"test_score\": 0.7738136486920716}, {\"index\": 422, \"nb__var_smoothing\": 0.002300430119772917, \"test_score\": 0.7737976690511227}, {\"index\": 358, \"nb__var_smoothing\": 0.005805225516094896, \"test_score\": 0.7737964889239373}, {\"index\": 530, \"nb__var_smoothing\": 0.00048241087041653687, \"test_score\": 0.7737856041975627}, {\"index\": 186, \"nb__var_smoothing\": 0.06985879746785245, \"test_score\": 0.7737775290125581}, {\"index\": 154, \"nb__var_smoothing\": 0.11097524964120718, \"test_score\": 0.7737428081132365}, {\"index\": 610, \"nb__var_smoothing\": 0.00015167168884709225, \"test_score\": 0.7737160695462729}, {\"index\": 482, \"nb__var_smoothing\": 0.0009658832241158698, \"test_score\": 0.7736791052072004}, {\"index\": 618, \"nb__var_smoothing\": 0.00013509935211980265, \"test_score\": 0.7736761608797303}, {\"index\": 190, \"nb__var_smoothing\": 0.06593188271333544, \"test_score\": 0.7736154592108507}, {\"index\": 346, \"nb__var_smoothing\": 0.006905513520162323, \"test_score\": 0.7736098910473036}, {\"index\": 326, \"nb__var_smoothing\": 0.009221978823334321, \"test_score\": 0.7735888164917802}, {\"index\": 7, \"nb__var_smoothing\": 0.9437878277775381, \"test_score\": 0.7735708180545802}, {\"index\": 750, \"nb__var_smoothing\": 2.0022003718155845e-05, \"test_score\": 0.7735681103515964}, {\"index\": 390, \"nb__var_smoothing\": 0.0036543830709572546, \"test_score\": 0.7735455202012613}, {\"index\": 98, \"nb__var_smoothing\": 0.24945081352303158, \"test_score\": 0.7735283454568938}, {\"index\": 158, \"nb__var_smoothing\": 0.10473708979594494, \"test_score\": 0.7735118925669718}, {\"index\": 446, \"nb__var_smoothing\": 0.0016257556664437934, \"test_score\": 0.7734989321346596}, {\"index\": 742, \"nb__var_smoothing\": 2.2478058335487252e-05, \"test_score\": 0.7734723103823157}, {\"index\": 366, \"nb__var_smoothing\": 0.0051709202428967555, \"test_score\": 0.7734160416784979}, {\"index\": 782, \"nb__var_smoothing\": 1.2603829296797274e-05, \"test_score\": 0.7733671113290054}, {\"index\": 546, \"nb__var_smoothing\": 0.0003827494478516311, \"test_score\": 0.7733540161105932}, {\"index\": 658, \"nb__var_smoothing\": 7.575250258771904e-05, \"test_score\": 0.773345422747916}, {\"index\": 734, \"nb__var_smoothing\": 2.523539170434766e-05, \"test_score\": 0.7732963156788702}, {\"index\": 11, \"nb__var_smoothing\": 0.890735463861044, \"test_score\": 0.7732761786355524}, {\"index\": 654, \"nb__var_smoothing\": 8.026433522257174e-05, \"test_score\": 0.77325744636292}, {\"index\": 630, \"nb__var_smoothing\": 0.00011357333583431052, \"test_score\": 0.7732112896118377}, {\"index\": 398, \"nb__var_smoothing\": 0.0032550885998350564, \"test_score\": 0.7732076953158415}, {\"index\": 730, \"nb__var_smoothing\": 2.673841615839944e-05, \"test_score\": 0.77318494941268}, {\"index\": 738, \"nb__var_smoothing\": 2.3816855519761557e-05, \"test_score\": 0.7731792135153197}, {\"index\": 310, \"nb__var_smoothing\": 0.011623224686798524, \"test_score\": 0.7731756731337637}, {\"index\": 450, \"nb__var_smoothing\": 0.0015343684089300117, \"test_score\": 0.7730804722138155}, {\"index\": 722, \"nb__var_smoothing\": 3.001835813575586e-05, \"test_score\": 0.7730482373692247}, {\"index\": 82, \"nb__var_smoothing\": 0.3144035471591499, \"test_score\": 0.7730475454672453}, {\"index\": 362, \"nb__var_smoothing\": 0.005478901179593939, \"test_score\": 0.7730301430841313}, {\"index\": 542, \"nb__var_smoothing\": 0.0004055460735840828, \"test_score\": 0.7729955749423894}, {\"index\": 510, \"nb__var_smoothing\": 0.0006442363508721371, \"test_score\": 0.7729937208847049}, {\"index\": 174, \"nb__var_smoothing\": 0.08309941949353392, \"test_score\": 0.7729839503900889}, {\"index\": 66, \"nb__var_smoothing\": 0.39626886387014776, \"test_score\": 0.7729747789448057}, {\"index\": 15, \"nb__var_smoothing\": 0.8406652885618325, \"test_score\": 0.7729625703194059}, {\"index\": 30, \"nb__var_smoothing\": 0.6669919663030122, \"test_score\": 0.7729533629311629}, {\"index\": 374, \"nb__var_smoothing\": 0.004605922041145104, \"test_score\": 0.7729249110831076}, {\"index\": 770, \"nb__var_smoothing\": 1.499268432786044e-05, \"test_score\": 0.7729193249480805}, {\"index\": 46, \"nb__var_smoothing\": 0.5291978735958441, \"test_score\": 0.7729037975893777}, {\"index\": 566, \"nb__var_smoothing\": 0.000286606761694825, \"test_score\": 0.772888027615695}, {\"index\": 594, \"nb__var_smoothing\": 0.00019116440753857018, \"test_score\": 0.7728698225064752}, {\"index\": 786, \"nb__var_smoothing\": 1.1895340673703183e-05, \"test_score\": 0.7728375277569508}, {\"index\": 578, \"nb__var_smoothing\": 0.00024094035602395243, \"test_score\": 0.7728070840698644}, {\"index\": 454, \"nb__var_smoothing\": 0.001448118227674533, \"test_score\": 0.7727300343446963}, {\"index\": 19, \"nb__var_smoothing\": 0.7934096665797492, \"test_score\": 0.7726815982109032}, {\"index\": 202, \"nb__var_smoothing\": 0.05542664520663104, \"test_score\": 0.7726448345533572}, {\"index\": 698, \"nb__var_smoothing\": 4.247571552536894e-05, \"test_score\": 0.7726232358296677}, {\"index\": 290, \"nb__var_smoothing\": 0.015522253574270471, \"test_score\": 0.7726090743034434}, {\"index\": 306, \"nb__var_smoothing\": 0.012315506032928256, \"test_score\": 0.7725951074682522}, {\"index\": 690, \"nb__var_smoothing\": 4.768611697714465e-05, \"test_score\": 0.7725870891929344}, {\"index\": 554, \"nb__var_smoothing\": 0.0003409285069746811, \"test_score\": 0.7725664789006438}, {\"index\": 558, \"nb__var_smoothing\": 0.0003217641750250735, \"test_score\": 0.7725203101685749}, {\"index\": 23, \"nb__var_smoothing\": 0.7488103857590023, \"test_score\": 0.7724554600830665}, {\"index\": 602, \"nb__var_smoothing\": 0.00017027691722258995, \"test_score\": 0.7724220361255502}, {\"index\": 606, \"nb__var_smoothing\": 0.00016070528182616383, \"test_score\": 0.7723926467652894}, {\"index\": 22, \"nb__var_smoothing\": 0.7488103857590023, \"test_score\": 0.7723690412263355}, {\"index\": 370, \"nb__var_smoothing\": 0.004880251583654429, \"test_score\": 0.7723517466721013}, {\"index\": 258, \"nb__var_smoothing\": 0.024658110758226028, \"test_score\": 0.7723397716759413}, {\"index\": 514, \"nb__var_smoothing\": 0.000608022426164942, \"test_score\": 0.7723123741547114}, {\"index\": 178, \"nb__var_smoothing\": 0.07842822061337677, \"test_score\": 0.772300722645191}, {\"index\": 614, \"nb__var_smoothing\": 0.00014314589375234786, \"test_score\": 0.772286761800493}, {\"index\": 702, \"nb__var_smoothing\": 4.008806328898465e-05, \"test_score\": 0.772263656467732}, {\"index\": 574, \"nb__var_smoothing\": 0.00025529080682395165, \"test_score\": 0.7722326167265596}, {\"index\": 218, \"nb__var_smoothing\": 0.043976036093027186, \"test_score\": 0.7721598741660933}, {\"index\": 626, \"nb__var_smoothing\": 0.00012033778407775893, \"test_score\": 0.7721224904924882}, {\"index\": 598, \"nb__var_smoothing\": 0.00018041864093920718, \"test_score\": 0.7721143014881104}, {\"index\": 222, \"nb__var_smoothing\": 0.041504047578504746, \"test_score\": 0.7720921486437883}, {\"index\": 378, \"nb__var_smoothing\": 0.004347013158125022, \"test_score\": 0.7720578021502996}, {\"index\": 226, \"nb__var_smoothing\": 0.039171014908092584, \"test_score\": 0.772008569280894}, {\"index\": 102, \"nb__var_smoothing\": 0.2354286414322417, \"test_score\": 0.7719971124624067}, {\"index\": 27, \"nb__var_smoothing\": 0.7067181273927491, \"test_score\": 0.7719836967526015}, {\"index\": 6, \"nb__var_smoothing\": 0.9437878277775381, \"test_score\": 0.7719780926460944}, {\"index\": 442, \"nb__var_smoothing\": 0.0017225859653987857, \"test_score\": 0.7719284913613492}, {\"index\": 458, \"nb__var_smoothing\": 0.001366716356462006, \"test_score\": 0.77183727711471}, {\"index\": 194, \"nb__var_smoothing\": 0.06222570836730228, \"test_score\": 0.7717862710592798}, {\"index\": 110, \"nb__var_smoothing\": 0.20970464013232323, \"test_score\": 0.7717544076252751}, {\"index\": 182, \"nb__var_smoothing\": 0.07401959996915641, \"test_score\": 0.7717522390666907}, {\"index\": 230, \"nb__var_smoothing\": 0.03696912707195026, \"test_score\": 0.7715608787478624}, {\"index\": 31, \"nb__var_smoothing\": 0.6669919663030122, \"test_score\": 0.7715494369056083}, {\"index\": 582, \"nb__var_smoothing\": 0.00022739657523579274, \"test_score\": 0.7712657990275752}, {\"index\": 474, \"nb__var_smoothing\": 0.0010843659686896098, \"test_score\": 0.7711555709551171}, {\"index\": 150, \"nb__var_smoothing\": 0.11758495540521567, \"test_score\": 0.7711442878609361}, {\"index\": 650, \"nb__var_smoothing\": 8.504489341802669e-05, \"test_score\": 0.7711402442779407}, {\"index\": 414, \"nb__var_smoothing\": 0.002582618760682675, \"test_score\": 0.7711162912903738}, {\"index\": 86, \"nb__var_smoothing\": 0.2967302408188869, \"test_score\": 0.7711117445059388}, {\"index\": 35, \"nb__var_smoothing\": 0.6294988990221887, \"test_score\": 0.7710961063231095}, {\"index\": 694, \"nb__var_smoothing\": 4.5005576757004976e-05, \"test_score\": 0.7710905052118491}, {\"index\": 34, \"nb__var_smoothing\": 0.6294988990221887, \"test_score\": 0.7710759632892984}, {\"index\": 678, \"nb__var_smoothing\": 5.672426068491978e-05, \"test_score\": 0.7710249452528816}, {\"index\": 106, \"nb__var_smoothing\": 0.22219468609395232, \"test_score\": 0.7710027055464062}, {\"index\": 78, \"nb__var_smoothing\": 0.3331294787934673, \"test_score\": 0.7709961519467068}, {\"index\": 774, \"nb__var_smoothing\": 1.414991297434576e-05, \"test_score\": 0.7709204620635237}, {\"index\": 586, \"nb__var_smoothing\": 0.00021461411978584036, \"test_score\": 0.7709138695256176}, {\"index\": 39, \"nb__var_smoothing\": 0.5941133984965034, \"test_score\": 0.7708702826961724}, {\"index\": 43, \"nb__var_smoothing\": 0.5607169938205457, \"test_score\": 0.7707668598241335}, {\"index\": 38, \"nb__var_smoothing\": 0.5941133984965034, \"test_score\": 0.7706940723349673}, {\"index\": 506, \"nb__var_smoothing\": 0.0006826071834272386, \"test_score\": 0.7706584558568934}, {\"index\": 118, \"nb__var_smoothing\": 0.18679135990207824, \"test_score\": 0.7706387681005751}, {\"index\": 562, \"nb__var_smoothing\": 0.0003036771118035457, \"test_score\": 0.7705950944089768}, {\"index\": 10, \"nb__var_smoothing\": 0.890735463861044, \"test_score\": 0.7705099844750375}, {\"index\": 47, \"nb__var_smoothing\": 0.5291978735958441, \"test_score\": 0.7705056982770623}, {\"index\": 762, \"nb__var_smoothing\": 1.683180353330955e-05, \"test_score\": 0.770455518909711}, {\"index\": 634, \"nb__var_smoothing\": 0.00010718913192051276, \"test_score\": 0.7703814644312063}, {\"index\": 50, \"nb__var_smoothing\": 0.49945051158551396, \"test_score\": 0.7702964862881202}, {\"index\": 274, \"nb__var_smoothing\": 0.01956398343517064, \"test_score\": 0.7702741717004782}, {\"index\": 51, \"nb__var_smoothing\": 0.49945051158551396, \"test_score\": 0.7702606002378466}, {\"index\": 466, \"nb__var_smoothing\": 0.0012173827277396608, \"test_score\": 0.770259563882501}, {\"index\": 55, \"nb__var_smoothing\": 0.4713753134116723, \"test_score\": 0.7702427785201996}, {\"index\": 250, \"nb__var_smoothing\": 0.027682866303920653, \"test_score\": 0.7702367011647197}, {\"index\": 262, \"nb__var_smoothing\": 0.023272024789604086, \"test_score\": 0.7701712909680853}, {\"index\": 266, \"nb__var_smoothing\": 0.02196385372416546, \"test_score\": 0.7701259639003288}, {\"index\": 63, \"nb__var_smoothing\": 0.41987070844439095, \"test_score\": 0.7700327128859585}, {\"index\": 59, \"nb__var_smoothing\": 0.44487828311275845, \"test_score\": 0.7700149750352182}, {\"index\": 94, \"nb__var_smoothing\": 0.2643081486974105, \"test_score\": 0.769951029514202}, {\"index\": 706, \"nb__var_smoothing\": 3.7834626171319254e-05, \"test_score\": 0.7699107464418268}, {\"index\": 550, \"nb__var_smoothing\": 0.00036123426997094305, \"test_score\": 0.7698753276500325}, {\"index\": 246, \"nb__var_smoothing\": 0.02933166278390044, \"test_score\": 0.7698708048275709}]}}, {\"mode\": \"vega-lite\"});\n",
       "</script>"
      ],
      "text/plain": [
       "alt.Chart(...)"
      ]
     },
     "execution_count": 100,
     "metadata": {},
     "output_type": "execute_result"
    }
   ],
   "source": [
    "alt.Chart(results_NB, \n",
    "          title='NB Performance Comparison'\n",
    "         ).mark_line(point=True).encode(\n",
    "    alt.X('nb__var_smoothing', title='Variance Smoothing'),\n",
    "    alt.Y('test_score', title='AUC Score', scale=alt.Scale(zero=False)),\n",
    ")"
   ]
  },
  {
   "cell_type": "markdown",
   "metadata": {},
   "source": [
    "* For NB it is observed that RFI Feature selection with 30 features is giving the maximum accuracy with variance smoothing value as  `0.00027049597304631344`.\n",
    "* `s_pipe_NB_1` is tuned with optimal hyperparameter values and used below to get the performance on test data."
   ]
  },
  {
   "cell_type": "markdown",
   "metadata": {},
   "source": [
    "### NB Performance on Test Data"
   ]
  },
  {
   "cell_type": "code",
   "execution_count": 101,
   "metadata": {},
   "outputs": [
    {
     "data": {
      "text/plain": [
       "0.7340009652509654"
      ]
     },
     "execution_count": 101,
     "metadata": {},
     "output_type": "execute_result"
    }
   ],
   "source": [
    "from sklearn.model_selection import cross_val_score\n",
    "\n",
    "cv_method_ttest = RepeatedStratifiedKFold(n_splits=10, n_repeats=2,random_state=999)\n",
    "\n",
    "cv_results_NB = cross_val_score(estimator=gs_pipe_NB_1.best_estimator_,\n",
    "                                X=Data_test,\n",
    "                                y=target_test, \n",
    "                                cv=cv_method_ttest, \n",
    "                                n_jobs=-1,\n",
    "                                scoring='roc_auc')\n",
    "cv_results_NB.mean()"
   ]
  },
  {
   "cell_type": "markdown",
   "metadata": {},
   "source": [
    "## Random Forest (RF)"
   ]
  },
  {
   "cell_type": "markdown",
   "metadata": {},
   "source": [
    "### RF using F-Score and Mutual Information Feature selection"
   ]
  },
  {
   "cell_type": "code",
   "execution_count": 102,
   "metadata": {},
   "outputs": [],
   "source": [
    "from sklearn.ensemble import RandomForestClassifier\n",
    "\n",
    "pipe_RF = Pipeline([('fselector', SelectKBest()), \n",
    "                     ('rf', RandomForestClassifier())])\n",
    "\n",
    "params_pipe_RF = {'fselector__score_func': [f_classif, mutual_info_classif],\n",
    "                  'fselector__k': [10, 20, 30, Data.shape[1]],\n",
    "                  'rf__n_estimators': [100, 120, 140, 160, 180, 200, 220, 240, 260, 280, 300]}\n",
    "\n",
    "gs_pipe_RF = GridSearchCV(estimator=pipe_RF, \n",
    "                           param_grid=params_pipe_RF, \n",
    "                           cv=cv_method,\n",
    "                           n_jobs=-1,\n",
    "                           scoring='roc_auc',\n",
    "                           verbose=1)"
   ]
  },
  {
   "cell_type": "code",
   "execution_count": 103,
   "metadata": {},
   "outputs": [
    {
     "name": "stdout",
     "output_type": "stream",
     "text": [
      "Fitting 10 folds for each of 88 candidates, totalling 880 fits\n"
     ]
    },
    {
     "name": "stderr",
     "output_type": "stream",
     "text": [
      "[Parallel(n_jobs=-1)]: Using backend LokyBackend with 4 concurrent workers.\n",
      "[Parallel(n_jobs=-1)]: Done  42 tasks      | elapsed:    8.8s\n",
      "[Parallel(n_jobs=-1)]: Done 192 tasks      | elapsed:  1.3min\n",
      "[Parallel(n_jobs=-1)]: Done 442 tasks      | elapsed:  3.2min\n",
      "[Parallel(n_jobs=-1)]: Done 792 tasks      | elapsed:  5.8min\n",
      "[Parallel(n_jobs=-1)]: Done 880 out of 880 | elapsed:  6.8min finished\n"
     ]
    }
   ],
   "source": [
    "gs_pipe_RF.fit(Data_train, target_train);"
   ]
  },
  {
   "cell_type": "code",
   "execution_count": 104,
   "metadata": {},
   "outputs": [
    {
     "data": {
      "text/plain": [
       "0.8106447561977044"
      ]
     },
     "execution_count": 104,
     "metadata": {},
     "output_type": "execute_result"
    }
   ],
   "source": [
    "gs_pipe_RF.best_score_"
   ]
  },
  {
   "cell_type": "code",
   "execution_count": 105,
   "metadata": {},
   "outputs": [
    {
     "data": {
      "text/plain": [
       "{'fselector__k': 49,\n",
       " 'fselector__score_func': <function sklearn.feature_selection._univariate_selection.f_classif(X, y)>,\n",
       " 'rf__n_estimators': 200}"
      ]
     },
     "execution_count": 105,
     "metadata": {},
     "output_type": "execute_result"
    }
   ],
   "source": [
    "gs_pipe_RF.best_params_"
   ]
  },
  {
   "cell_type": "code",
   "execution_count": 106,
   "metadata": {},
   "outputs": [],
   "source": [
    "results_RF = pd.DataFrame(gs_pipe_RF.cv_results_['params'])\n",
    "results_RF['test_score'] = gs_pipe_RF.cv_results_['mean_test_score']\n",
    "results_RF = results_RF.drop(columns='fselector__score_func')\n",
    "results_RF = results_RF.sort_values(by='test_score', ascending=False)"
   ]
  },
  {
   "cell_type": "code",
   "execution_count": 107,
   "metadata": {},
   "outputs": [],
   "source": [
    "results_RF.reset_index(inplace = True) \n",
    "results_RF = results_RF.iloc[0:100,:]"
   ]
  },
  {
   "cell_type": "code",
   "execution_count": 108,
   "metadata": {},
   "outputs": [
    {
     "data": {
      "text/html": [
       "\n",
       "<div id=\"altair-viz-4d17f11de9b8458baa22f319a20e9efc\"></div>\n",
       "<script type=\"text/javascript\">\n",
       "  (function(spec, embedOpt){\n",
       "    let outputDiv = document.currentScript.previousElementSibling;\n",
       "    if (outputDiv.id !== \"altair-viz-4d17f11de9b8458baa22f319a20e9efc\") {\n",
       "      outputDiv = document.getElementById(\"altair-viz-4d17f11de9b8458baa22f319a20e9efc\");\n",
       "    }\n",
       "    const paths = {\n",
       "      \"vega\": \"https://cdn.jsdelivr.net/npm//vega@5?noext\",\n",
       "      \"vega-lib\": \"https://cdn.jsdelivr.net/npm//vega-lib?noext\",\n",
       "      \"vega-lite\": \"https://cdn.jsdelivr.net/npm//vega-lite@4.8.1?noext\",\n",
       "      \"vega-embed\": \"https://cdn.jsdelivr.net/npm//vega-embed@6?noext\",\n",
       "    };\n",
       "\n",
       "    function loadScript(lib) {\n",
       "      return new Promise(function(resolve, reject) {\n",
       "        var s = document.createElement('script');\n",
       "        s.src = paths[lib];\n",
       "        s.async = true;\n",
       "        s.onload = () => resolve(paths[lib]);\n",
       "        s.onerror = () => reject(`Error loading script: ${paths[lib]}`);\n",
       "        document.getElementsByTagName(\"head\")[0].appendChild(s);\n",
       "      });\n",
       "    }\n",
       "\n",
       "    function showError(err) {\n",
       "      outputDiv.innerHTML = `<div class=\"error\" style=\"color:red;\">${err}</div>`;\n",
       "      throw err;\n",
       "    }\n",
       "\n",
       "    function displayChart(vegaEmbed) {\n",
       "      vegaEmbed(outputDiv, spec, embedOpt)\n",
       "        .catch(err => showError(`Javascript Error: ${err.message}<br>This usually means there's a typo in your chart specification. See the javascript console for the full traceback.`));\n",
       "    }\n",
       "\n",
       "    if(typeof define === \"function\" && define.amd) {\n",
       "      requirejs.config({paths});\n",
       "      require([\"vega-embed\"], displayChart, err => showError(`Error loading script: ${err.message}`));\n",
       "    } else if (typeof vegaEmbed === \"function\") {\n",
       "      displayChart(vegaEmbed);\n",
       "    } else {\n",
       "      loadScript(\"vega\")\n",
       "        .then(() => loadScript(\"vega-lite\"))\n",
       "        .then(() => loadScript(\"vega-embed\"))\n",
       "        .catch(showError)\n",
       "        .then(() => displayChart(vegaEmbed));\n",
       "    }\n",
       "  })({\"config\": {\"view\": {\"continuousWidth\": 400, \"continuousHeight\": 300}}, \"data\": {\"name\": \"data-9ab5e2839936227258d23b03bb9f5d1a\"}, \"mark\": {\"type\": \"line\", \"point\": true}, \"encoding\": {\"x\": {\"type\": \"quantitative\", \"field\": \"rf__n_estimators\", \"title\": \"Number of Estimators\"}, \"y\": {\"type\": \"quantitative\", \"field\": \"test_score\", \"scale\": {\"zero\": false}, \"title\": \"AUC Score\"}}, \"title\": \"RF Performance Comparison\", \"$schema\": \"https://vega.github.io/schema/vega-lite/v4.8.1.json\", \"datasets\": {\"data-9ab5e2839936227258d23b03bb9f5d1a\": [{\"index\": 71, \"fselector__k\": 49, \"rf__n_estimators\": 200, \"test_score\": 0.8106447561977044}, {\"index\": 72, \"fselector__k\": 49, \"rf__n_estimators\": 220, \"test_score\": 0.8102402960597649}, {\"index\": 83, \"fselector__k\": 49, \"rf__n_estimators\": 220, \"test_score\": 0.8093232473793389}, {\"index\": 85, \"fselector__k\": 49, \"rf__n_estimators\": 260, \"test_score\": 0.809080157653011}, {\"index\": 79, \"fselector__k\": 49, \"rf__n_estimators\": 140, \"test_score\": 0.8089445882961576}, {\"index\": 78, \"fselector__k\": 49, \"rf__n_estimators\": 120, \"test_score\": 0.8086552983876707}, {\"index\": 76, \"fselector__k\": 49, \"rf__n_estimators\": 300, \"test_score\": 0.8080722182125853}, {\"index\": 80, \"fselector__k\": 49, \"rf__n_estimators\": 160, \"test_score\": 0.8063474159048557}, {\"index\": 81, \"fselector__k\": 49, \"rf__n_estimators\": 180, \"test_score\": 0.8062344786317904}, {\"index\": 73, \"fselector__k\": 49, \"rf__n_estimators\": 240, \"test_score\": 0.806179882773234}, {\"index\": 70, \"fselector__k\": 49, \"rf__n_estimators\": 180, \"test_score\": 0.805778611075368}, {\"index\": 75, \"fselector__k\": 49, \"rf__n_estimators\": 280, \"test_score\": 0.8057315347835597}, {\"index\": 87, \"fselector__k\": 49, \"rf__n_estimators\": 300, \"test_score\": 0.8044575620273651}, {\"index\": 86, \"fselector__k\": 49, \"rf__n_estimators\": 280, \"test_score\": 0.8039347267460432}, {\"index\": 74, \"fselector__k\": 49, \"rf__n_estimators\": 260, \"test_score\": 0.8033278118956341}, {\"index\": 50, \"fselector__k\": 30, \"rf__n_estimators\": 220, \"test_score\": 0.8030319234587479}, {\"index\": 82, \"fselector__k\": 49, \"rf__n_estimators\": 200, \"test_score\": 0.8027408393975097}, {\"index\": 84, \"fselector__k\": 49, \"rf__n_estimators\": 240, \"test_score\": 0.8022102913560296}, {\"index\": 51, \"fselector__k\": 30, \"rf__n_estimators\": 240, \"test_score\": 0.8019241494517859}, {\"index\": 68, \"fselector__k\": 49, \"rf__n_estimators\": 140, \"test_score\": 0.8010221743501932}, {\"index\": 48, \"fselector__k\": 30, \"rf__n_estimators\": 180, \"test_score\": 0.8005322238819883}, {\"index\": 66, \"fselector__k\": 49, \"rf__n_estimators\": 100, \"test_score\": 0.8003090285839983}, {\"index\": 52, \"fselector__k\": 30, \"rf__n_estimators\": 260, \"test_score\": 0.8001563968045271}, {\"index\": 45, \"fselector__k\": 30, \"rf__n_estimators\": 120, \"test_score\": 0.7999979332798022}, {\"index\": 69, \"fselector__k\": 49, \"rf__n_estimators\": 160, \"test_score\": 0.7997711212214663}, {\"index\": 54, \"fselector__k\": 30, \"rf__n_estimators\": 300, \"test_score\": 0.7994200019337313}, {\"index\": 53, \"fselector__k\": 30, \"rf__n_estimators\": 280, \"test_score\": 0.7992325878523817}, {\"index\": 67, \"fselector__k\": 49, \"rf__n_estimators\": 120, \"test_score\": 0.7991421269102784}, {\"index\": 47, \"fselector__k\": 30, \"rf__n_estimators\": 160, \"test_score\": 0.7985125949523145}, {\"index\": 46, \"fselector__k\": 30, \"rf__n_estimators\": 140, \"test_score\": 0.7979333172428682}, {\"index\": 49, \"fselector__k\": 30, \"rf__n_estimators\": 200, \"test_score\": 0.7975788597527268}, {\"index\": 77, \"fselector__k\": 49, \"rf__n_estimators\": 100, \"test_score\": 0.7954365125720088}, {\"index\": 44, \"fselector__k\": 30, \"rf__n_estimators\": 100, \"test_score\": 0.7925659310700292}, {\"index\": 65, \"fselector__k\": 30, \"rf__n_estimators\": 300, \"test_score\": 0.7867364247633575}, {\"index\": 62, \"fselector__k\": 30, \"rf__n_estimators\": 240, \"test_score\": 0.7854685907651993}, {\"index\": 24, \"fselector__k\": 20, \"rf__n_estimators\": 140, \"test_score\": 0.7836125023033447}, {\"index\": 63, \"fselector__k\": 30, \"rf__n_estimators\": 260, \"test_score\": 0.7836038849786942}, {\"index\": 60, \"fselector__k\": 30, \"rf__n_estimators\": 200, \"test_score\": 0.7833868494054677}, {\"index\": 61, \"fselector__k\": 30, \"rf__n_estimators\": 220, \"test_score\": 0.7832168736501921}, {\"index\": 58, \"fselector__k\": 30, \"rf__n_estimators\": 160, \"test_score\": 0.7829051119036136}, {\"index\": 59, \"fselector__k\": 30, \"rf__n_estimators\": 180, \"test_score\": 0.7825823111754571}, {\"index\": 28, \"fselector__k\": 20, \"rf__n_estimators\": 220, \"test_score\": 0.7806404313610472}, {\"index\": 26, \"fselector__k\": 20, \"rf__n_estimators\": 180, \"test_score\": 0.7804955542751875}, {\"index\": 64, \"fselector__k\": 30, \"rf__n_estimators\": 280, \"test_score\": 0.780444371500204}, {\"index\": 30, \"fselector__k\": 20, \"rf__n_estimators\": 260, \"test_score\": 0.7796068301448333}, {\"index\": 39, \"fselector__k\": 20, \"rf__n_estimators\": 220, \"test_score\": 0.7794824210770476}, {\"index\": 57, \"fselector__k\": 30, \"rf__n_estimators\": 140, \"test_score\": 0.7793483014195792}, {\"index\": 32, \"fselector__k\": 20, \"rf__n_estimators\": 300, \"test_score\": 0.778927334477278}, {\"index\": 31, \"fselector__k\": 20, \"rf__n_estimators\": 280, \"test_score\": 0.778453901296798}, {\"index\": 27, \"fselector__k\": 20, \"rf__n_estimators\": 200, \"test_score\": 0.7782201297828398}, {\"index\": 22, \"fselector__k\": 20, \"rf__n_estimators\": 100, \"test_score\": 0.777132101939506}, {\"index\": 56, \"fselector__k\": 30, \"rf__n_estimators\": 120, \"test_score\": 0.7767008927512395}, {\"index\": 23, \"fselector__k\": 20, \"rf__n_estimators\": 120, \"test_score\": 0.7765337564898009}, {\"index\": 25, \"fselector__k\": 20, \"rf__n_estimators\": 160, \"test_score\": 0.7757863975185939}, {\"index\": 29, \"fselector__k\": 20, \"rf__n_estimators\": 240, \"test_score\": 0.7748292290067356}, {\"index\": 43, \"fselector__k\": 20, \"rf__n_estimators\": 300, \"test_score\": 0.7720074864992251}, {\"index\": 37, \"fselector__k\": 20, \"rf__n_estimators\": 180, \"test_score\": 0.7717703707923673}, {\"index\": 36, \"fselector__k\": 20, \"rf__n_estimators\": 160, \"test_score\": 0.7680627346625999}, {\"index\": 42, \"fselector__k\": 20, \"rf__n_estimators\": 280, \"test_score\": 0.76752584418631}, {\"index\": 55, \"fselector__k\": 30, \"rf__n_estimators\": 100, \"test_score\": 0.7657648832608603}, {\"index\": 35, \"fselector__k\": 20, \"rf__n_estimators\": 140, \"test_score\": 0.7638115810732998}, {\"index\": 33, \"fselector__k\": 20, \"rf__n_estimators\": 100, \"test_score\": 0.7622002192400748}, {\"index\": 34, \"fselector__k\": 20, \"rf__n_estimators\": 120, \"test_score\": 0.7600205168405946}, {\"index\": 41, \"fselector__k\": 20, \"rf__n_estimators\": 260, \"test_score\": 0.7584722978022796}, {\"index\": 40, \"fselector__k\": 20, \"rf__n_estimators\": 240, \"test_score\": 0.7578907826435759}, {\"index\": 38, \"fselector__k\": 20, \"rf__n_estimators\": 200, \"test_score\": 0.7530462437330454}, {\"index\": 15, \"fselector__k\": 10, \"rf__n_estimators\": 180, \"test_score\": 0.7433734031441463}, {\"index\": 7, \"fselector__k\": 10, \"rf__n_estimators\": 240, \"test_score\": 0.7312924845786731}, {\"index\": 9, \"fselector__k\": 10, \"rf__n_estimators\": 280, \"test_score\": 0.7299852211534383}, {\"index\": 5, \"fselector__k\": 10, \"rf__n_estimators\": 200, \"test_score\": 0.7295151711040647}, {\"index\": 2, \"fselector__k\": 10, \"rf__n_estimators\": 140, \"test_score\": 0.7282667897353615}, {\"index\": 10, \"fselector__k\": 10, \"rf__n_estimators\": 300, \"test_score\": 0.727067749064944}, {\"index\": 1, \"fselector__k\": 10, \"rf__n_estimators\": 120, \"test_score\": 0.7265758966151077}, {\"index\": 4, \"fselector__k\": 10, \"rf__n_estimators\": 180, \"test_score\": 0.7258881640192281}, {\"index\": 0, \"fselector__k\": 10, \"rf__n_estimators\": 100, \"test_score\": 0.7257001913243759}, {\"index\": 12, \"fselector__k\": 10, \"rf__n_estimators\": 120, \"test_score\": 0.7250812760182102}, {\"index\": 8, \"fselector__k\": 10, \"rf__n_estimators\": 260, \"test_score\": 0.7233283348657016}, {\"index\": 3, \"fselector__k\": 10, \"rf__n_estimators\": 160, \"test_score\": 0.7231990465411011}, {\"index\": 6, \"fselector__k\": 10, \"rf__n_estimators\": 220, \"test_score\": 0.723105800019601}, {\"index\": 20, \"fselector__k\": 10, \"rf__n_estimators\": 280, \"test_score\": 0.7222223834663343}, {\"index\": 16, \"fselector__k\": 10, \"rf__n_estimators\": 200, \"test_score\": 0.7218326973825618}, {\"index\": 18, \"fselector__k\": 10, \"rf__n_estimators\": 240, \"test_score\": 0.7138921142703376}, {\"index\": 11, \"fselector__k\": 10, \"rf__n_estimators\": 100, \"test_score\": 0.7111252746341665}, {\"index\": 17, \"fselector__k\": 10, \"rf__n_estimators\": 220, \"test_score\": 0.7071187922614327}, {\"index\": 21, \"fselector__k\": 10, \"rf__n_estimators\": 300, \"test_score\": 0.7053117869066505}, {\"index\": 19, \"fselector__k\": 10, \"rf__n_estimators\": 260, \"test_score\": 0.702682751081344}, {\"index\": 13, \"fselector__k\": 10, \"rf__n_estimators\": 140, \"test_score\": 0.6992318120834959}, {\"index\": 14, \"fselector__k\": 10, \"rf__n_estimators\": 160, \"test_score\": 0.6940543904445402}]}}, {\"mode\": \"vega-lite\"});\n",
       "</script>"
      ],
      "text/plain": [
       "alt.Chart(...)"
      ]
     },
     "execution_count": 108,
     "metadata": {},
     "output_type": "execute_result"
    }
   ],
   "source": [
    "alt.Chart(results_RF, \n",
    "          title='RF Performance Comparison'\n",
    "         ).mark_line(point=True).encode(\n",
    "    alt.X('rf__n_estimators', title='Number of Estimators'),\n",
    "    alt.Y('test_score', title='AUC Score', scale=alt.Scale(zero=False)),\n",
    ")"
   ]
  },
  {
   "cell_type": "markdown",
   "metadata": {},
   "source": [
    "### RF using Random Forest Importance Feature selection"
   ]
  },
  {
   "cell_type": "code",
   "execution_count": 109,
   "metadata": {},
   "outputs": [],
   "source": [
    "pipe_RF_1 = Pipeline([('rfi_fs', RFIFeatureSelector()), \n",
    "                     ('rf', RandomForestClassifier())])\n",
    "\n",
    "params_pipe_RF_1 = {'rfi_fs__n_features_': [10, 20, 30, Data.shape[1]],\n",
    "                  'rf__n_estimators': [100, 120, 140, 160, 180, 200, 220, 240, 260, 280, 300]}\n",
    "\n",
    "gs_pipe_RF_1 = GridSearchCV(estimator=pipe_RF_1, \n",
    "                           param_grid=params_pipe_RF_1, \n",
    "                           cv=cv_method,\n",
    "                           n_jobs=-1,\n",
    "                           scoring='roc_auc',\n",
    "                           verbose=1)"
   ]
  },
  {
   "cell_type": "code",
   "execution_count": 110,
   "metadata": {},
   "outputs": [
    {
     "name": "stdout",
     "output_type": "stream",
     "text": [
      "Fitting 10 folds for each of 44 candidates, totalling 440 fits\n"
     ]
    },
    {
     "name": "stderr",
     "output_type": "stream",
     "text": [
      "[Parallel(n_jobs=-1)]: Using backend LokyBackend with 4 concurrent workers.\n",
      "[Parallel(n_jobs=-1)]: Done  42 tasks      | elapsed:   14.7s\n",
      "[Parallel(n_jobs=-1)]: Done 192 tasks      | elapsed:  1.3min\n",
      "[Parallel(n_jobs=-1)]: Done 440 out of 440 | elapsed:  3.6min finished\n"
     ]
    }
   ],
   "source": [
    "gs_pipe_RF_1.fit(Data_train, target_train);"
   ]
  },
  {
   "cell_type": "code",
   "execution_count": 111,
   "metadata": {},
   "outputs": [
    {
     "data": {
      "text/plain": [
       "0.809327112745158"
      ]
     },
     "execution_count": 111,
     "metadata": {},
     "output_type": "execute_result"
    }
   ],
   "source": [
    "gs_pipe_RF_1.best_score_"
   ]
  },
  {
   "cell_type": "code",
   "execution_count": 112,
   "metadata": {},
   "outputs": [
    {
     "data": {
      "text/plain": [
       "{'rf__n_estimators': 240, 'rfi_fs__n_features_': 49}"
      ]
     },
     "execution_count": 112,
     "metadata": {},
     "output_type": "execute_result"
    }
   ],
   "source": [
    "gs_pipe_RF_1.best_params_"
   ]
  },
  {
   "cell_type": "code",
   "execution_count": 113,
   "metadata": {},
   "outputs": [],
   "source": [
    "results_RF = pd.DataFrame(gs_pipe_RF_1.cv_results_['params'])\n",
    "results_RF['test_score'] = gs_pipe_RF_1.cv_results_['mean_test_score']\n",
    "results_RF = results_RF.drop(columns='rfi_fs__n_features_')\n",
    "results_RF = results_RF.sort_values(by='test_score', ascending=False)"
   ]
  },
  {
   "cell_type": "code",
   "execution_count": 114,
   "metadata": {},
   "outputs": [],
   "source": [
    "results_RF.reset_index(inplace = True) \n",
    "results_RF = results_RF.iloc[0:100,:]"
   ]
  },
  {
   "cell_type": "code",
   "execution_count": 115,
   "metadata": {
    "scrolled": true
   },
   "outputs": [
    {
     "data": {
      "text/html": [
       "\n",
       "<div id=\"altair-viz-f9f9cc66ce0f40f28ad3f7c7af97aed1\"></div>\n",
       "<script type=\"text/javascript\">\n",
       "  (function(spec, embedOpt){\n",
       "    let outputDiv = document.currentScript.previousElementSibling;\n",
       "    if (outputDiv.id !== \"altair-viz-f9f9cc66ce0f40f28ad3f7c7af97aed1\") {\n",
       "      outputDiv = document.getElementById(\"altair-viz-f9f9cc66ce0f40f28ad3f7c7af97aed1\");\n",
       "    }\n",
       "    const paths = {\n",
       "      \"vega\": \"https://cdn.jsdelivr.net/npm//vega@5?noext\",\n",
       "      \"vega-lib\": \"https://cdn.jsdelivr.net/npm//vega-lib?noext\",\n",
       "      \"vega-lite\": \"https://cdn.jsdelivr.net/npm//vega-lite@4.8.1?noext\",\n",
       "      \"vega-embed\": \"https://cdn.jsdelivr.net/npm//vega-embed@6?noext\",\n",
       "    };\n",
       "\n",
       "    function loadScript(lib) {\n",
       "      return new Promise(function(resolve, reject) {\n",
       "        var s = document.createElement('script');\n",
       "        s.src = paths[lib];\n",
       "        s.async = true;\n",
       "        s.onload = () => resolve(paths[lib]);\n",
       "        s.onerror = () => reject(`Error loading script: ${paths[lib]}`);\n",
       "        document.getElementsByTagName(\"head\")[0].appendChild(s);\n",
       "      });\n",
       "    }\n",
       "\n",
       "    function showError(err) {\n",
       "      outputDiv.innerHTML = `<div class=\"error\" style=\"color:red;\">${err}</div>`;\n",
       "      throw err;\n",
       "    }\n",
       "\n",
       "    function displayChart(vegaEmbed) {\n",
       "      vegaEmbed(outputDiv, spec, embedOpt)\n",
       "        .catch(err => showError(`Javascript Error: ${err.message}<br>This usually means there's a typo in your chart specification. See the javascript console for the full traceback.`));\n",
       "    }\n",
       "\n",
       "    if(typeof define === \"function\" && define.amd) {\n",
       "      requirejs.config({paths});\n",
       "      require([\"vega-embed\"], displayChart, err => showError(`Error loading script: ${err.message}`));\n",
       "    } else if (typeof vegaEmbed === \"function\") {\n",
       "      displayChart(vegaEmbed);\n",
       "    } else {\n",
       "      loadScript(\"vega\")\n",
       "        .then(() => loadScript(\"vega-lite\"))\n",
       "        .then(() => loadScript(\"vega-embed\"))\n",
       "        .catch(showError)\n",
       "        .then(() => displayChart(vegaEmbed));\n",
       "    }\n",
       "  })({\"config\": {\"view\": {\"continuousWidth\": 400, \"continuousHeight\": 300}}, \"data\": {\"name\": \"data-8d205091eec07a3b2b89e27639039134\"}, \"mark\": {\"type\": \"line\", \"point\": true}, \"encoding\": {\"x\": {\"type\": \"quantitative\", \"field\": \"rf__n_estimators\", \"title\": \"Number of Estimators\"}, \"y\": {\"type\": \"quantitative\", \"field\": \"test_score\", \"scale\": {\"zero\": false}, \"title\": \"AUC Score\"}}, \"title\": \"RF Performance Comparison\", \"$schema\": \"https://vega.github.io/schema/vega-lite/v4.8.1.json\", \"datasets\": {\"data-8d205091eec07a3b2b89e27639039134\": [{\"index\": 31, \"rf__n_estimators\": 240, \"test_score\": 0.809327112745158}, {\"index\": 35, \"rf__n_estimators\": 260, \"test_score\": 0.8083236541937406}, {\"index\": 11, \"rf__n_estimators\": 140, \"test_score\": 0.8080938019600415}, {\"index\": 27, \"rf__n_estimators\": 220, \"test_score\": 0.8072727883757592}, {\"index\": 30, \"rf__n_estimators\": 240, \"test_score\": 0.8068062876936818}, {\"index\": 43, \"rf__n_estimators\": 300, \"test_score\": 0.8067508801232796}, {\"index\": 39, \"rf__n_estimators\": 280, \"test_score\": 0.8054363172819263}, {\"index\": 7, \"rf__n_estimators\": 120, \"test_score\": 0.8053168323996551}, {\"index\": 18, \"rf__n_estimators\": 180, \"test_score\": 0.8019779365937433}, {\"index\": 19, \"rf__n_estimators\": 180, \"test_score\": 0.8018906296463765}, {\"index\": 42, \"rf__n_estimators\": 300, \"test_score\": 0.799415598921136}, {\"index\": 3, \"rf__n_estimators\": 100, \"test_score\": 0.7993002354982737}, {\"index\": 23, \"rf__n_estimators\": 200, \"test_score\": 0.7992009595452402}, {\"index\": 26, \"rf__n_estimators\": 220, \"test_score\": 0.7991542681426285}, {\"index\": 34, \"rf__n_estimators\": 260, \"test_score\": 0.7990561813025202}, {\"index\": 14, \"rf__n_estimators\": 160, \"test_score\": 0.7977681952848108}, {\"index\": 15, \"rf__n_estimators\": 160, \"test_score\": 0.7977607925326824}, {\"index\": 38, \"rf__n_estimators\": 280, \"test_score\": 0.7974784246392346}, {\"index\": 22, \"rf__n_estimators\": 200, \"test_score\": 0.7958423774806334}, {\"index\": 10, \"rf__n_estimators\": 140, \"test_score\": 0.791244076300674}, {\"index\": 2, \"rf__n_estimators\": 100, \"test_score\": 0.7902758358595243}, {\"index\": 25, \"rf__n_estimators\": 220, \"test_score\": 0.7866608352209379}, {\"index\": 6, \"rf__n_estimators\": 120, \"test_score\": 0.7861244164959975}, {\"index\": 41, \"rf__n_estimators\": 300, \"test_score\": 0.7857495419069753}, {\"index\": 29, \"rf__n_estimators\": 240, \"test_score\": 0.7835978480590443}, {\"index\": 33, \"rf__n_estimators\": 260, \"test_score\": 0.7813244648272977}, {\"index\": 9, \"rf__n_estimators\": 140, \"test_score\": 0.780200509000237}, {\"index\": 37, \"rf__n_estimators\": 280, \"test_score\": 0.7788522121933376}, {\"index\": 17, \"rf__n_estimators\": 180, \"test_score\": 0.7785348223782786}, {\"index\": 1, \"rf__n_estimators\": 100, \"test_score\": 0.777872673681774}, {\"index\": 13, \"rf__n_estimators\": 160, \"test_score\": 0.7769383004946471}, {\"index\": 5, \"rf__n_estimators\": 120, \"test_score\": 0.7755044115190957}, {\"index\": 21, \"rf__n_estimators\": 200, \"test_score\": 0.7730923363858491}, {\"index\": 0, \"rf__n_estimators\": 100, \"test_score\": 0.7176905333312247}, {\"index\": 24, \"rf__n_estimators\": 220, \"test_score\": 0.7172288924368584}, {\"index\": 40, \"rf__n_estimators\": 300, \"test_score\": 0.7166793964649859}, {\"index\": 4, \"rf__n_estimators\": 120, \"test_score\": 0.7164265437321589}, {\"index\": 8, \"rf__n_estimators\": 140, \"test_score\": 0.7160234509243212}, {\"index\": 20, \"rf__n_estimators\": 200, \"test_score\": 0.7146777704653824}, {\"index\": 36, \"rf__n_estimators\": 280, \"test_score\": 0.7145578902105516}, {\"index\": 16, \"rf__n_estimators\": 180, \"test_score\": 0.7128675586990469}, {\"index\": 28, \"rf__n_estimators\": 240, \"test_score\": 0.7123283499018397}, {\"index\": 12, \"rf__n_estimators\": 160, \"test_score\": 0.7087463389100034}, {\"index\": 32, \"rf__n_estimators\": 260, \"test_score\": 0.7068965314804019}]}}, {\"mode\": \"vega-lite\"});\n",
       "</script>"
      ],
      "text/plain": [
       "alt.Chart(...)"
      ]
     },
     "execution_count": 115,
     "metadata": {},
     "output_type": "execute_result"
    }
   ],
   "source": [
    "alt.Chart(results_RF, \n",
    "          title='RF Performance Comparison'\n",
    "         ).mark_line(point=True).encode(\n",
    "    alt.X('rf__n_estimators', title='Number of Estimators'),\n",
    "    alt.Y('test_score', title='AUC Score', scale=alt.Scale(zero=False)),\n",
    ")"
   ]
  },
  {
   "cell_type": "markdown",
   "metadata": {},
   "source": [
    "* For RF it is observed that `F-Score` with `49` features is giving the maximum accuracy with Number of Estimators value as `200`.\n",
    "* `gs_pipe_RF` is tuned with optimal hyperparameter values and used below to get the performance on test data."
   ]
  },
  {
   "cell_type": "markdown",
   "metadata": {},
   "source": [
    "### RF Performance on Test Data"
   ]
  },
  {
   "cell_type": "code",
   "execution_count": 116,
   "metadata": {},
   "outputs": [
    {
     "data": {
      "text/plain": [
       "0.7184000965250965"
      ]
     },
     "execution_count": 116,
     "metadata": {},
     "output_type": "execute_result"
    }
   ],
   "source": [
    "from sklearn.model_selection import cross_val_score\n",
    "\n",
    "cv_method_ttest = RepeatedStratifiedKFold(n_splits=10, n_repeats=2,random_state=999)\n",
    "\n",
    "cv_results_RF = cross_val_score(estimator=gs_pipe_RF.best_estimator_,\n",
    "                                X=Data_test,\n",
    "                                y=target_test, \n",
    "                                cv=cv_method_ttest, \n",
    "                                n_jobs=-1,\n",
    "                                scoring='roc_auc')\n",
    "cv_results_RF.mean()"
   ]
  },
  {
   "cell_type": "markdown",
   "metadata": {},
   "source": [
    "## Support Vector Machines (SVM)"
   ]
  },
  {
   "cell_type": "markdown",
   "metadata": {},
   "source": [
    "### SVM using F-Score and Mutual Information Feature selection"
   ]
  },
  {
   "cell_type": "code",
   "execution_count": 117,
   "metadata": {},
   "outputs": [],
   "source": [
    "from sklearn.svm import SVC\n",
    "from scipy.stats import reciprocal, uniform\n",
    "\n",
    "pipe_svc = Pipeline([('fselector', SelectKBest()), \n",
    "                     ('svc', SVC())])\n",
    "\n",
    "params_svc = {'fselector__score_func': [f_classif, mutual_info_classif],\n",
    "                   'fselector__k': [10, 20, 30, Data.shape[1]],\n",
    "                   'svc__C': [0.1, 1, 10, 100, 1000,10000],\n",
    "                   'svc__gamma': [1, 0.1, 0.01, 0.001, 0.0001],\n",
    "                   'svc__kernel': ['rbf']}\n",
    "\n",
    "gs_pipe_svc = GridSearchCV(estimator=pipe_svc, \n",
    "                           param_grid=params_svc, \n",
    "                           cv=cv_method,\n",
    "                           n_jobs=-1,\n",
    "                           scoring='roc_auc',\n",
    "                           verbose=1)"
   ]
  },
  {
   "cell_type": "code",
   "execution_count": 118,
   "metadata": {},
   "outputs": [
    {
     "name": "stdout",
     "output_type": "stream",
     "text": [
      "Fitting 10 folds for each of 240 candidates, totalling 2400 fits\n"
     ]
    },
    {
     "name": "stderr",
     "output_type": "stream",
     "text": [
      "[Parallel(n_jobs=-1)]: Using backend LokyBackend with 4 concurrent workers.\n",
      "[Parallel(n_jobs=-1)]: Done 128 tasks      | elapsed:    1.3s\n",
      "[Parallel(n_jobs=-1)]: Done 416 tasks      | elapsed:   36.4s\n",
      "[Parallel(n_jobs=-1)]: Done 776 tasks      | elapsed:  1.4min\n",
      "[Parallel(n_jobs=-1)]: Done 1320 tasks      | elapsed:  2.7min\n",
      "[Parallel(n_jobs=-1)]: Done 2162 tasks      | elapsed:  4.5min\n",
      "[Parallel(n_jobs=-1)]: Done 2400 out of 2400 | elapsed:  5.5min finished\n"
     ]
    }
   ],
   "source": [
    "gs_pipe_svc.fit(Data_train, target_train);"
   ]
  },
  {
   "cell_type": "code",
   "execution_count": 119,
   "metadata": {},
   "outputs": [
    {
     "data": {
      "text/plain": [
       "0.8492266303067684"
      ]
     },
     "execution_count": 119,
     "metadata": {},
     "output_type": "execute_result"
    }
   ],
   "source": [
    "gs_pipe_svc.best_score_"
   ]
  },
  {
   "cell_type": "code",
   "execution_count": 120,
   "metadata": {},
   "outputs": [
    {
     "data": {
      "text/plain": [
       "{'fselector__k': 49,\n",
       " 'fselector__score_func': <function sklearn.feature_selection._univariate_selection.f_classif(X, y)>,\n",
       " 'svc__C': 1000,\n",
       " 'svc__gamma': 0.001,\n",
       " 'svc__kernel': 'rbf'}"
      ]
     },
     "execution_count": 120,
     "metadata": {},
     "output_type": "execute_result"
    }
   ],
   "source": [
    "gs_pipe_svc.best_params_"
   ]
  },
  {
   "cell_type": "code",
   "execution_count": 121,
   "metadata": {},
   "outputs": [],
   "source": [
    "results_svc = pd.DataFrame(gs_pipe_svc.cv_results_['params'])\n",
    "results_svc['test_score'] = gs_pipe_svc.cv_results_['mean_test_score']\n",
    "results_svc = results_svc.drop(columns='fselector__score_func')\n",
    "results_svc = results_svc.sort_values(by='test_score', ascending=False)"
   ]
  },
  {
   "cell_type": "code",
   "execution_count": 122,
   "metadata": {},
   "outputs": [],
   "source": [
    "results_svc.reset_index(inplace = True) \n",
    "results_svc = results_svc.iloc[0:200,:]"
   ]
  },
  {
   "cell_type": "code",
   "execution_count": 123,
   "metadata": {
    "scrolled": true
   },
   "outputs": [
    {
     "data": {
      "text/html": [
       "\n",
       "<div id=\"altair-viz-4b36671b2f9348ce864ee6847ab496f4\"></div>\n",
       "<script type=\"text/javascript\">\n",
       "  (function(spec, embedOpt){\n",
       "    let outputDiv = document.currentScript.previousElementSibling;\n",
       "    if (outputDiv.id !== \"altair-viz-4b36671b2f9348ce864ee6847ab496f4\") {\n",
       "      outputDiv = document.getElementById(\"altair-viz-4b36671b2f9348ce864ee6847ab496f4\");\n",
       "    }\n",
       "    const paths = {\n",
       "      \"vega\": \"https://cdn.jsdelivr.net/npm//vega@5?noext\",\n",
       "      \"vega-lib\": \"https://cdn.jsdelivr.net/npm//vega-lib?noext\",\n",
       "      \"vega-lite\": \"https://cdn.jsdelivr.net/npm//vega-lite@4.8.1?noext\",\n",
       "      \"vega-embed\": \"https://cdn.jsdelivr.net/npm//vega-embed@6?noext\",\n",
       "    };\n",
       "\n",
       "    function loadScript(lib) {\n",
       "      return new Promise(function(resolve, reject) {\n",
       "        var s = document.createElement('script');\n",
       "        s.src = paths[lib];\n",
       "        s.async = true;\n",
       "        s.onload = () => resolve(paths[lib]);\n",
       "        s.onerror = () => reject(`Error loading script: ${paths[lib]}`);\n",
       "        document.getElementsByTagName(\"head\")[0].appendChild(s);\n",
       "      });\n",
       "    }\n",
       "\n",
       "    function showError(err) {\n",
       "      outputDiv.innerHTML = `<div class=\"error\" style=\"color:red;\">${err}</div>`;\n",
       "      throw err;\n",
       "    }\n",
       "\n",
       "    function displayChart(vegaEmbed) {\n",
       "      vegaEmbed(outputDiv, spec, embedOpt)\n",
       "        .catch(err => showError(`Javascript Error: ${err.message}<br>This usually means there's a typo in your chart specification. See the javascript console for the full traceback.`));\n",
       "    }\n",
       "\n",
       "    if(typeof define === \"function\" && define.amd) {\n",
       "      requirejs.config({paths});\n",
       "      require([\"vega-embed\"], displayChart, err => showError(`Error loading script: ${err.message}`));\n",
       "    } else if (typeof vegaEmbed === \"function\") {\n",
       "      displayChart(vegaEmbed);\n",
       "    } else {\n",
       "      loadScript(\"vega\")\n",
       "        .then(() => loadScript(\"vega-lite\"))\n",
       "        .then(() => loadScript(\"vega-embed\"))\n",
       "        .catch(showError)\n",
       "        .then(() => displayChart(vegaEmbed));\n",
       "    }\n",
       "  })({\"config\": {\"view\": {\"continuousWidth\": 400, \"continuousHeight\": 300}}, \"data\": {\"name\": \"data-e615ca8e2499c715bc4f67883a019a6e\"}, \"mark\": {\"type\": \"line\", \"point\": true}, \"encoding\": {\"x\": {\"type\": \"quantitative\", \"field\": \"svc__C\", \"title\": \"SVC\"}, \"y\": {\"type\": \"quantitative\", \"field\": \"test_score\", \"scale\": {\"zero\": false}, \"title\": \"AUC Score\"}}, \"title\": \"SVC Performance Comparison\", \"$schema\": \"https://vega.github.io/schema/vega-lite/v4.8.1.json\", \"datasets\": {\"data-e615ca8e2499c715bc4f67883a019a6e\": [{\"index\": 233, \"fselector__k\": 49, \"svc__C\": 1000.0, \"svc__gamma\": 0.001, \"svc__kernel\": \"rbf\", \"test_score\": 0.8492266303067684}, {\"index\": 203, \"fselector__k\": 49, \"svc__C\": 1000.0, \"svc__gamma\": 0.001, \"svc__kernel\": \"rbf\", \"test_score\": 0.8492266303067684}, {\"index\": 222, \"fselector__k\": 49, \"svc__C\": 10.0, \"svc__gamma\": 0.01, \"svc__kernel\": \"rbf\", \"test_score\": 0.8476402098925089}, {\"index\": 192, \"fselector__k\": 49, \"svc__C\": 10.0, \"svc__gamma\": 0.01, \"svc__kernel\": \"rbf\", \"test_score\": 0.8476402098925089}, {\"index\": 239, \"fselector__k\": 49, \"svc__C\": 10000.0, \"svc__gamma\": 0.0001, \"svc__kernel\": \"rbf\", \"test_score\": 0.8462603087404412}, {\"index\": 209, \"fselector__k\": 49, \"svc__C\": 10000.0, \"svc__gamma\": 0.0001, \"svc__kernel\": \"rbf\", \"test_score\": 0.8462603087404412}, {\"index\": 198, \"fselector__k\": 49, \"svc__C\": 100.0, \"svc__gamma\": 0.001, \"svc__kernel\": \"rbf\", \"test_score\": 0.8452554034848857}, {\"index\": 228, \"fselector__k\": 49, \"svc__C\": 100.0, \"svc__gamma\": 0.001, \"svc__kernel\": \"rbf\", \"test_score\": 0.8452554034848857}, {\"index\": 204, \"fselector__k\": 49, \"svc__C\": 1000.0, \"svc__gamma\": 0.0001, \"svc__kernel\": \"rbf\", \"test_score\": 0.8446265963766141}, {\"index\": 234, \"fselector__k\": 49, \"svc__C\": 1000.0, \"svc__gamma\": 0.0001, \"svc__kernel\": \"rbf\", \"test_score\": 0.8446265963766141}, {\"index\": 197, \"fselector__k\": 49, \"svc__C\": 100.0, \"svc__gamma\": 0.01, \"svc__kernel\": \"rbf\", \"test_score\": 0.8430812917133027}, {\"index\": 227, \"fselector__k\": 49, \"svc__C\": 100.0, \"svc__gamma\": 0.01, \"svc__kernel\": \"rbf\", \"test_score\": 0.8430812917133027}, {\"index\": 212, \"fselector__k\": 49, \"svc__C\": 0.1, \"svc__gamma\": 0.01, \"svc__kernel\": \"rbf\", \"test_score\": 0.8430685709007234}, {\"index\": 182, \"fselector__k\": 49, \"svc__C\": 0.1, \"svc__gamma\": 0.01, \"svc__kernel\": \"rbf\", \"test_score\": 0.8430685709007234}, {\"index\": 186, \"fselector__k\": 49, \"svc__C\": 1.0, \"svc__gamma\": 0.1, \"svc__kernel\": \"rbf\", \"test_score\": 0.8430246935323519}, {\"index\": 216, \"fselector__k\": 49, \"svc__C\": 1.0, \"svc__gamma\": 0.1, \"svc__kernel\": \"rbf\", \"test_score\": 0.8430246935323519}, {\"index\": 187, \"fselector__k\": 49, \"svc__C\": 1.0, \"svc__gamma\": 0.01, \"svc__kernel\": \"rbf\", \"test_score\": 0.8427212630643673}, {\"index\": 217, \"fselector__k\": 49, \"svc__C\": 1.0, \"svc__gamma\": 0.01, \"svc__kernel\": \"rbf\", \"test_score\": 0.8427212630643673}, {\"index\": 181, \"fselector__k\": 49, \"svc__C\": 0.1, \"svc__gamma\": 0.1, \"svc__kernel\": \"rbf\", \"test_score\": 0.8423477707816804}, {\"index\": 211, \"fselector__k\": 49, \"svc__C\": 0.1, \"svc__gamma\": 0.1, \"svc__kernel\": \"rbf\", \"test_score\": 0.8423477707816804}, {\"index\": 188, \"fselector__k\": 49, \"svc__C\": 1.0, \"svc__gamma\": 0.001, \"svc__kernel\": \"rbf\", \"test_score\": 0.8418058677600995}, {\"index\": 218, \"fselector__k\": 49, \"svc__C\": 1.0, \"svc__gamma\": 0.001, \"svc__kernel\": \"rbf\", \"test_score\": 0.8418058677600995}, {\"index\": 194, \"fselector__k\": 49, \"svc__C\": 10.0, \"svc__gamma\": 0.0001, \"svc__kernel\": \"rbf\", \"test_score\": 0.8414503709193658}, {\"index\": 224, \"fselector__k\": 49, \"svc__C\": 10.0, \"svc__gamma\": 0.0001, \"svc__kernel\": \"rbf\", \"test_score\": 0.8414503709193658}, {\"index\": 223, \"fselector__k\": 49, \"svc__C\": 10.0, \"svc__gamma\": 0.001, \"svc__kernel\": \"rbf\", \"test_score\": 0.8411407133335682}, {\"index\": 193, \"fselector__k\": 49, \"svc__C\": 10.0, \"svc__gamma\": 0.001, \"svc__kernel\": \"rbf\", \"test_score\": 0.8411407133335682}, {\"index\": 229, \"fselector__k\": 49, \"svc__C\": 100.0, \"svc__gamma\": 0.0001, \"svc__kernel\": \"rbf\", \"test_score\": 0.8409823456567367}, {\"index\": 199, \"fselector__k\": 49, \"svc__C\": 100.0, \"svc__gamma\": 0.0001, \"svc__kernel\": \"rbf\", \"test_score\": 0.8409823456567367}, {\"index\": 208, \"fselector__k\": 49, \"svc__C\": 10000.0, \"svc__gamma\": 0.001, \"svc__kernel\": \"rbf\", \"test_score\": 0.8375734614196656}, {\"index\": 238, \"fselector__k\": 49, \"svc__C\": 10000.0, \"svc__gamma\": 0.001, \"svc__kernel\": \"rbf\", \"test_score\": 0.8375734614196656}, {\"index\": 213, \"fselector__k\": 49, \"svc__C\": 0.1, \"svc__gamma\": 0.001, \"svc__kernel\": \"rbf\", \"test_score\": 0.835443119187574}, {\"index\": 183, \"fselector__k\": 49, \"svc__C\": 0.1, \"svc__gamma\": 0.001, \"svc__kernel\": \"rbf\", \"test_score\": 0.835443119187574}, {\"index\": 219, \"fselector__k\": 49, \"svc__C\": 1.0, \"svc__gamma\": 0.0001, \"svc__kernel\": \"rbf\", \"test_score\": 0.8349442967987523}, {\"index\": 189, \"fselector__k\": 49, \"svc__C\": 1.0, \"svc__gamma\": 0.0001, \"svc__kernel\": \"rbf\", \"test_score\": 0.8349442967987523}, {\"index\": 156, \"fselector__k\": 30, \"svc__C\": 1.0, \"svc__gamma\": 0.1, \"svc__kernel\": \"rbf\", \"test_score\": 0.8275263527791935}, {\"index\": 162, \"fselector__k\": 30, \"svc__C\": 10.0, \"svc__gamma\": 0.01, \"svc__kernel\": \"rbf\", \"test_score\": 0.8237341967790794}, {\"index\": 158, \"fselector__k\": 30, \"svc__C\": 1.0, \"svc__gamma\": 0.001, \"svc__kernel\": \"rbf\", \"test_score\": 0.82277783249095}, {\"index\": 122, \"fselector__k\": 30, \"svc__C\": 0.1, \"svc__gamma\": 0.01, \"svc__kernel\": \"rbf\", \"test_score\": 0.8220444493406743}, {\"index\": 143, \"fselector__k\": 30, \"svc__C\": 1000.0, \"svc__gamma\": 0.001, \"svc__kernel\": \"rbf\", \"test_score\": 0.8216496788256908}, {\"index\": 132, \"fselector__k\": 30, \"svc__C\": 10.0, \"svc__gamma\": 0.01, \"svc__kernel\": \"rbf\", \"test_score\": 0.821462398032818}, {\"index\": 127, \"fselector__k\": 30, \"svc__C\": 1.0, \"svc__gamma\": 0.01, \"svc__kernel\": \"rbf\", \"test_score\": 0.8213772222034521}, {\"index\": 149, \"fselector__k\": 30, \"svc__C\": 10000.0, \"svc__gamma\": 0.0001, \"svc__kernel\": \"rbf\", \"test_score\": 0.8209835808964605}, {\"index\": 121, \"fselector__k\": 30, \"svc__C\": 0.1, \"svc__gamma\": 0.1, \"svc__kernel\": \"rbf\", \"test_score\": 0.8208772017159649}, {\"index\": 126, \"fselector__k\": 30, \"svc__C\": 1.0, \"svc__gamma\": 0.1, \"svc__kernel\": \"rbf\", \"test_score\": 0.8205096220501913}, {\"index\": 138, \"fselector__k\": 30, \"svc__C\": 100.0, \"svc__gamma\": 0.001, \"svc__kernel\": \"rbf\", \"test_score\": 0.8203796373307417}, {\"index\": 144, \"fselector__k\": 30, \"svc__C\": 1000.0, \"svc__gamma\": 0.0001, \"svc__kernel\": \"rbf\", \"test_score\": 0.8201573391091275}, {\"index\": 139, \"fselector__k\": 30, \"svc__C\": 100.0, \"svc__gamma\": 0.0001, \"svc__kernel\": \"rbf\", \"test_score\": 0.8200874600044713}, {\"index\": 133, \"fselector__k\": 30, \"svc__C\": 10.0, \"svc__gamma\": 0.001, \"svc__kernel\": \"rbf\", \"test_score\": 0.8199987318125628}, {\"index\": 137, \"fselector__k\": 30, \"svc__C\": 100.0, \"svc__gamma\": 0.01, \"svc__kernel\": \"rbf\", \"test_score\": 0.8195720289729012}, {\"index\": 134, \"fselector__k\": 30, \"svc__C\": 10.0, \"svc__gamma\": 0.0001, \"svc__kernel\": \"rbf\", \"test_score\": 0.8195471863970752}, {\"index\": 151, \"fselector__k\": 30, \"svc__C\": 0.1, \"svc__gamma\": 0.1, \"svc__kernel\": \"rbf\", \"test_score\": 0.8191465212366582}, {\"index\": 123, \"fselector__k\": 30, \"svc__C\": 0.1, \"svc__gamma\": 0.001, \"svc__kernel\": \"rbf\", \"test_score\": 0.8191409920113178}, {\"index\": 128, \"fselector__k\": 30, \"svc__C\": 1.0, \"svc__gamma\": 0.001, \"svc__kernel\": \"rbf\", \"test_score\": 0.8190797631790254}, {\"index\": 173, \"fselector__k\": 30, \"svc__C\": 1000.0, \"svc__gamma\": 0.001, \"svc__kernel\": \"rbf\", \"test_score\": 0.8189727400204971}, {\"index\": 148, \"fselector__k\": 30, \"svc__C\": 10000.0, \"svc__gamma\": 0.001, \"svc__kernel\": \"rbf\", \"test_score\": 0.8166704077297492}, {\"index\": 169, \"fselector__k\": 30, \"svc__C\": 100.0, \"svc__gamma\": 0.0001, \"svc__kernel\": \"rbf\", \"test_score\": 0.8163961779214857}, {\"index\": 129, \"fselector__k\": 30, \"svc__C\": 1.0, \"svc__gamma\": 0.0001, \"svc__kernel\": \"rbf\", \"test_score\": 0.8156535634209934}, {\"index\": 214, \"fselector__k\": 49, \"svc__C\": 0.1, \"svc__gamma\": 0.0001, \"svc__kernel\": \"rbf\", \"test_score\": 0.8140233345290359}, {\"index\": 184, \"fselector__k\": 49, \"svc__C\": 0.1, \"svc__gamma\": 0.0001, \"svc__kernel\": \"rbf\", \"test_score\": 0.8140233345290359}, {\"index\": 178, \"fselector__k\": 30, \"svc__C\": 10000.0, \"svc__gamma\": 0.001, \"svc__kernel\": \"rbf\", \"test_score\": 0.8129067365254036}, {\"index\": 157, \"fselector__k\": 30, \"svc__C\": 1.0, \"svc__gamma\": 0.01, \"svc__kernel\": \"rbf\", \"test_score\": 0.8115729471957183}, {\"index\": 152, \"fselector__k\": 30, \"svc__C\": 0.1, \"svc__gamma\": 0.01, \"svc__kernel\": \"rbf\", \"test_score\": 0.8113947599717154}, {\"index\": 163, \"fselector__k\": 30, \"svc__C\": 10.0, \"svc__gamma\": 0.001, \"svc__kernel\": \"rbf\", \"test_score\": 0.8113786784923797}, {\"index\": 221, \"fselector__k\": 49, \"svc__C\": 10.0, \"svc__gamma\": 0.1, \"svc__kernel\": \"rbf\", \"test_score\": 0.8108458989921354}, {\"index\": 191, \"fselector__k\": 49, \"svc__C\": 10.0, \"svc__gamma\": 0.1, \"svc__kernel\": \"rbf\", \"test_score\": 0.8108458989921354}, {\"index\": 168, \"fselector__k\": 30, \"svc__C\": 100.0, \"svc__gamma\": 0.001, \"svc__kernel\": \"rbf\", \"test_score\": 0.8105216275978673}, {\"index\": 174, \"fselector__k\": 30, \"svc__C\": 1000.0, \"svc__gamma\": 0.0001, \"svc__kernel\": \"rbf\", \"test_score\": 0.8093306246718708}, {\"index\": 164, \"fselector__k\": 30, \"svc__C\": 10.0, \"svc__gamma\": 0.0001, \"svc__kernel\": \"rbf\", \"test_score\": 0.8079460449445148}, {\"index\": 179, \"fselector__k\": 30, \"svc__C\": 10000.0, \"svc__gamma\": 0.0001, \"svc__kernel\": \"rbf\", \"test_score\": 0.8075146485533317}, {\"index\": 131, \"fselector__k\": 30, \"svc__C\": 10.0, \"svc__gamma\": 0.1, \"svc__kernel\": \"rbf\", \"test_score\": 0.8045593644709592}, {\"index\": 142, \"fselector__k\": 30, \"svc__C\": 1000.0, \"svc__gamma\": 0.01, \"svc__kernel\": \"rbf\", \"test_score\": 0.8042514141757596}, {\"index\": 124, \"fselector__k\": 30, \"svc__C\": 0.1, \"svc__gamma\": 0.0001, \"svc__kernel\": \"rbf\", \"test_score\": 0.8022948262026095}, {\"index\": 159, \"fselector__k\": 30, \"svc__C\": 1.0, \"svc__gamma\": 0.0001, \"svc__kernel\": \"rbf\", \"test_score\": 0.8012018337379313}, {\"index\": 232, \"fselector__k\": 49, \"svc__C\": 1000.0, \"svc__gamma\": 0.01, \"svc__kernel\": \"rbf\", \"test_score\": 0.8008225067147441}, {\"index\": 202, \"fselector__k\": 49, \"svc__C\": 1000.0, \"svc__gamma\": 0.01, \"svc__kernel\": \"rbf\", \"test_score\": 0.8008225067147441}, {\"index\": 161, \"fselector__k\": 30, \"svc__C\": 10.0, \"svc__gamma\": 0.1, \"svc__kernel\": \"rbf\", \"test_score\": 0.7998049585230222}, {\"index\": 236, \"fselector__k\": 49, \"svc__C\": 10000.0, \"svc__gamma\": 0.1, \"svc__kernel\": \"rbf\", \"test_score\": 0.7992615339161364}, {\"index\": 231, \"fselector__k\": 49, \"svc__C\": 1000.0, \"svc__gamma\": 0.1, \"svc__kernel\": \"rbf\", \"test_score\": 0.7992615339161364}, {\"index\": 226, \"fselector__k\": 49, \"svc__C\": 100.0, \"svc__gamma\": 0.1, \"svc__kernel\": \"rbf\", \"test_score\": 0.7992615339161364}, {\"index\": 206, \"fselector__k\": 49, \"svc__C\": 10000.0, \"svc__gamma\": 0.1, \"svc__kernel\": \"rbf\", \"test_score\": 0.7992615339161364}, {\"index\": 201, \"fselector__k\": 49, \"svc__C\": 1000.0, \"svc__gamma\": 0.1, \"svc__kernel\": \"rbf\", \"test_score\": 0.7992615339161364}, {\"index\": 196, \"fselector__k\": 49, \"svc__C\": 100.0, \"svc__gamma\": 0.1, \"svc__kernel\": \"rbf\", \"test_score\": 0.7992615339161364}, {\"index\": 167, \"fselector__k\": 30, \"svc__C\": 100.0, \"svc__gamma\": 0.01, \"svc__kernel\": \"rbf\", \"test_score\": 0.7989868248684069}, {\"index\": 102, \"fselector__k\": 20, \"svc__C\": 10.0, \"svc__gamma\": 0.01, \"svc__kernel\": \"rbf\", \"test_score\": 0.7958165479710319}, {\"index\": 66, \"fselector__k\": 20, \"svc__C\": 1.0, \"svc__gamma\": 0.1, \"svc__kernel\": \"rbf\", \"test_score\": 0.7948292937040634}, {\"index\": 61, \"fselector__k\": 20, \"svc__C\": 0.1, \"svc__gamma\": 0.1, \"svc__kernel\": \"rbf\", \"test_score\": 0.7943934523668319}, {\"index\": 103, \"fselector__k\": 20, \"svc__C\": 10.0, \"svc__gamma\": 0.001, \"svc__kernel\": \"rbf\", \"test_score\": 0.7927889047197659}, {\"index\": 114, \"fselector__k\": 20, \"svc__C\": 1000.0, \"svc__gamma\": 0.0001, \"svc__kernel\": \"rbf\", \"test_score\": 0.7920317243347497}, {\"index\": 107, \"fselector__k\": 20, \"svc__C\": 100.0, \"svc__gamma\": 0.01, \"svc__kernel\": \"rbf\", \"test_score\": 0.7918522821023949}, {\"index\": 67, \"fselector__k\": 20, \"svc__C\": 1.0, \"svc__gamma\": 0.01, \"svc__kernel\": \"rbf\", \"test_score\": 0.7913869196140493}, {\"index\": 72, \"fselector__k\": 20, \"svc__C\": 10.0, \"svc__gamma\": 0.01, \"svc__kernel\": \"rbf\", \"test_score\": 0.791239385744399}, {\"index\": 77, \"fselector__k\": 20, \"svc__C\": 100.0, \"svc__gamma\": 0.01, \"svc__kernel\": \"rbf\", \"test_score\": 0.7909001291310742}, {\"index\": 88, \"fselector__k\": 20, \"svc__C\": 10000.0, \"svc__gamma\": 0.001, \"svc__kernel\": \"rbf\", \"test_score\": 0.7896487869610442}, {\"index\": 62, \"fselector__k\": 20, \"svc__C\": 0.1, \"svc__gamma\": 0.01, \"svc__kernel\": \"rbf\", \"test_score\": 0.7896325766861022}, {\"index\": 153, \"fselector__k\": 30, \"svc__C\": 0.1, \"svc__gamma\": 0.001, \"svc__kernel\": \"rbf\", \"test_score\": 0.7893154100169196}, {\"index\": 73, \"fselector__k\": 20, \"svc__C\": 10.0, \"svc__gamma\": 0.001, \"svc__kernel\": \"rbf\", \"test_score\": 0.7890139564117329}, {\"index\": 78, \"fselector__k\": 20, \"svc__C\": 100.0, \"svc__gamma\": 0.001, \"svc__kernel\": \"rbf\", \"test_score\": 0.788667127814843}, {\"index\": 84, \"fselector__k\": 20, \"svc__C\": 1000.0, \"svc__gamma\": 0.0001, \"svc__kernel\": \"rbf\", \"test_score\": 0.788586588627312}, {\"index\": 79, \"fselector__k\": 20, \"svc__C\": 100.0, \"svc__gamma\": 0.0001, \"svc__kernel\": \"rbf\", \"test_score\": 0.7884739134383298}, {\"index\": 96, \"fselector__k\": 20, \"svc__C\": 1.0, \"svc__gamma\": 0.1, \"svc__kernel\": \"rbf\", \"test_score\": 0.7881288879799315}, {\"index\": 83, \"fselector__k\": 20, \"svc__C\": 1000.0, \"svc__gamma\": 0.001, \"svc__kernel\": \"rbf\", \"test_score\": 0.7872604910910581}, {\"index\": 74, \"fselector__k\": 20, \"svc__C\": 10.0, \"svc__gamma\": 0.0001, \"svc__kernel\": \"rbf\", \"test_score\": 0.7869945611112988}, {\"index\": 68, \"fselector__k\": 20, \"svc__C\": 1.0, \"svc__gamma\": 0.001, \"svc__kernel\": \"rbf\", \"test_score\": 0.7864650763823842}, {\"index\": 89, \"fselector__k\": 20, \"svc__C\": 10000.0, \"svc__gamma\": 0.0001, \"svc__kernel\": \"rbf\", \"test_score\": 0.7857238396953571}, {\"index\": 118, \"fselector__k\": 20, \"svc__C\": 10000.0, \"svc__gamma\": 0.001, \"svc__kernel\": \"rbf\", \"test_score\": 0.7855892872247459}, {\"index\": 112, \"fselector__k\": 20, \"svc__C\": 1000.0, \"svc__gamma\": 0.01, \"svc__kernel\": \"rbf\", \"test_score\": 0.7849556757408263}, {\"index\": 71, \"fselector__k\": 20, \"svc__C\": 10.0, \"svc__gamma\": 0.1, \"svc__kernel\": \"rbf\", \"test_score\": 0.7836066705580911}, {\"index\": 108, \"fselector__k\": 20, \"svc__C\": 100.0, \"svc__gamma\": 0.001, \"svc__kernel\": \"rbf\", \"test_score\": 0.7834668105103925}, {\"index\": 91, \"fselector__k\": 20, \"svc__C\": 0.1, \"svc__gamma\": 0.1, \"svc__kernel\": \"rbf\", \"test_score\": 0.7826187663225965}, {\"index\": 92, \"fselector__k\": 20, \"svc__C\": 0.1, \"svc__gamma\": 0.01, \"svc__kernel\": \"rbf\", \"test_score\": 0.7809040624889925}, {\"index\": 69, \"fselector__k\": 20, \"svc__C\": 1.0, \"svc__gamma\": 0.0001, \"svc__kernel\": \"rbf\", \"test_score\": 0.7803665564895134}, {\"index\": 101, \"fselector__k\": 20, \"svc__C\": 10.0, \"svc__gamma\": 0.1, \"svc__kernel\": \"rbf\", \"test_score\": 0.7790876640406739}, {\"index\": 82, \"fselector__k\": 20, \"svc__C\": 1000.0, \"svc__gamma\": 0.01, \"svc__kernel\": \"rbf\", \"test_score\": 0.7786652054655344}, {\"index\": 207, \"fselector__k\": 49, \"svc__C\": 10000.0, \"svc__gamma\": 0.01, \"svc__kernel\": \"rbf\", \"test_score\": 0.7784598094208416}, {\"index\": 237, \"fselector__k\": 49, \"svc__C\": 10000.0, \"svc__gamma\": 0.01, \"svc__kernel\": \"rbf\", \"test_score\": 0.7784598094208416}, {\"index\": 119, \"fselector__k\": 20, \"svc__C\": 10000.0, \"svc__gamma\": 0.0001, \"svc__kernel\": \"rbf\", \"test_score\": 0.7781283644108146}, {\"index\": 113, \"fselector__k\": 20, \"svc__C\": 1000.0, \"svc__gamma\": 0.001, \"svc__kernel\": \"rbf\", \"test_score\": 0.7769937350222691}, {\"index\": 63, \"fselector__k\": 20, \"svc__C\": 0.1, \"svc__gamma\": 0.001, \"svc__kernel\": \"rbf\", \"test_score\": 0.774271013871826}, {\"index\": 120, \"fselector__k\": 30, \"svc__C\": 0.1, \"svc__gamma\": 1.0, \"svc__kernel\": \"rbf\", \"test_score\": 0.7742234942835118}, {\"index\": 125, \"fselector__k\": 30, \"svc__C\": 1.0, \"svc__gamma\": 1.0, \"svc__kernel\": \"rbf\", \"test_score\": 0.7734620516624937}, {\"index\": 109, \"fselector__k\": 20, \"svc__C\": 100.0, \"svc__gamma\": 0.0001, \"svc__kernel\": \"rbf\", \"test_score\": 0.7729014672874734}, {\"index\": 172, \"fselector__k\": 30, \"svc__C\": 1000.0, \"svc__gamma\": 0.01, \"svc__kernel\": \"rbf\", \"test_score\": 0.7725420227116375}, {\"index\": 59, \"fselector__k\": 10, \"svc__C\": 10000.0, \"svc__gamma\": 0.0001, \"svc__kernel\": \"rbf\", \"test_score\": 0.7707368684192935}, {\"index\": 136, \"fselector__k\": 30, \"svc__C\": 100.0, \"svc__gamma\": 0.1, \"svc__kernel\": \"rbf\", \"test_score\": 0.7675213752782883}, {\"index\": 147, \"fselector__k\": 30, \"svc__C\": 10000.0, \"svc__gamma\": 0.01, \"svc__kernel\": \"rbf\", \"test_score\": 0.7639222419589009}, {\"index\": 60, \"fselector__k\": 20, \"svc__C\": 0.1, \"svc__gamma\": 1.0, \"svc__kernel\": \"rbf\", \"test_score\": 0.7632742952244507}, {\"index\": 98, \"fselector__k\": 20, \"svc__C\": 1.0, \"svc__gamma\": 0.001, \"svc__kernel\": \"rbf\", \"test_score\": 0.7620493681347449}, {\"index\": 104, \"fselector__k\": 20, \"svc__C\": 10.0, \"svc__gamma\": 0.0001, \"svc__kernel\": \"rbf\", \"test_score\": 0.7616541273660353}, {\"index\": 65, \"fselector__k\": 20, \"svc__C\": 1.0, \"svc__gamma\": 1.0, \"svc__kernel\": \"rbf\", \"test_score\": 0.761350693902804}, {\"index\": 76, \"fselector__k\": 20, \"svc__C\": 100.0, \"svc__gamma\": 0.1, \"svc__kernel\": \"rbf\", \"test_score\": 0.7600418010633845}, {\"index\": 154, \"fselector__k\": 30, \"svc__C\": 0.1, \"svc__gamma\": 0.0001, \"svc__kernel\": \"rbf\", \"test_score\": 0.759880575921236}, {\"index\": 87, \"fselector__k\": 20, \"svc__C\": 10000.0, \"svc__gamma\": 0.01, \"svc__kernel\": \"rbf\", \"test_score\": 0.7590185529172625}, {\"index\": 97, \"fselector__k\": 20, \"svc__C\": 1.0, \"svc__gamma\": 0.01, \"svc__kernel\": \"rbf\", \"test_score\": 0.7588351629498052}, {\"index\": 145, \"fselector__k\": 30, \"svc__C\": 10000.0, \"svc__gamma\": 1.0, \"svc__kernel\": \"rbf\", \"test_score\": 0.7587873108891114}, {\"index\": 140, \"fselector__k\": 30, \"svc__C\": 1000.0, \"svc__gamma\": 1.0, \"svc__kernel\": \"rbf\", \"test_score\": 0.7587873108891114}, {\"index\": 135, \"fselector__k\": 30, \"svc__C\": 100.0, \"svc__gamma\": 1.0, \"svc__kernel\": \"rbf\", \"test_score\": 0.7587873108891114}, {\"index\": 130, \"fselector__k\": 30, \"svc__C\": 10.0, \"svc__gamma\": 1.0, \"svc__kernel\": \"rbf\", \"test_score\": 0.7586645956333138}, {\"index\": 29, \"fselector__k\": 10, \"svc__C\": 10000.0, \"svc__gamma\": 0.0001, \"svc__kernel\": \"rbf\", \"test_score\": 0.7583588243800619}, {\"index\": 64, \"fselector__k\": 20, \"svc__C\": 0.1, \"svc__gamma\": 0.0001, \"svc__kernel\": \"rbf\", \"test_score\": 0.7583553783487756}, {\"index\": 28, \"fselector__k\": 10, \"svc__C\": 10000.0, \"svc__gamma\": 0.001, \"svc__kernel\": \"rbf\", \"test_score\": 0.7578156124356891}, {\"index\": 12, \"fselector__k\": 10, \"svc__C\": 10.0, \"svc__gamma\": 0.01, \"svc__kernel\": \"rbf\", \"test_score\": 0.7573495670311043}, {\"index\": 7, \"fselector__k\": 10, \"svc__C\": 1.0, \"svc__gamma\": 0.01, \"svc__kernel\": \"rbf\", \"test_score\": 0.7572585983946917}, {\"index\": 23, \"fselector__k\": 10, \"svc__C\": 1000.0, \"svc__gamma\": 0.001, \"svc__kernel\": \"rbf\", \"test_score\": 0.757210611547898}, {\"index\": 17, \"fselector__k\": 10, \"svc__C\": 100.0, \"svc__gamma\": 0.01, \"svc__kernel\": \"rbf\", \"test_score\": 0.7570875548339806}, {\"index\": 31, \"fselector__k\": 10, \"svc__C\": 0.1, \"svc__gamma\": 0.1, \"svc__kernel\": \"rbf\", \"test_score\": 0.7563610278033173}, {\"index\": 166, \"fselector__k\": 30, \"svc__C\": 100.0, \"svc__gamma\": 0.1, \"svc__kernel\": \"rbf\", \"test_score\": 0.7563296870398551}, {\"index\": 53, \"fselector__k\": 10, \"svc__C\": 1000.0, \"svc__gamma\": 0.001, \"svc__kernel\": \"rbf\", \"test_score\": 0.7561592080831404}, {\"index\": 18, \"fselector__k\": 10, \"svc__C\": 100.0, \"svc__gamma\": 0.001, \"svc__kernel\": \"rbf\", \"test_score\": 0.7560096883649522}, {\"index\": 150, \"fselector__k\": 30, \"svc__C\": 0.1, \"svc__gamma\": 1.0, \"svc__kernel\": \"rbf\", \"test_score\": 0.7541279950369961}, {\"index\": 94, \"fselector__k\": 20, \"svc__C\": 0.1, \"svc__gamma\": 0.0001, \"svc__kernel\": \"rbf\", \"test_score\": 0.7505956317562281}, {\"index\": 6, \"fselector__k\": 10, \"svc__C\": 1.0, \"svc__gamma\": 0.1, \"svc__kernel\": \"rbf\", \"test_score\": 0.7505330984940138}, {\"index\": 1, \"fselector__k\": 10, \"svc__C\": 0.1, \"svc__gamma\": 0.1, \"svc__kernel\": \"rbf\", \"test_score\": 0.7503770461428532}, {\"index\": 106, \"fselector__k\": 20, \"svc__C\": 100.0, \"svc__gamma\": 0.1, \"svc__kernel\": \"rbf\", \"test_score\": 0.7497917554757303}, {\"index\": 155, \"fselector__k\": 30, \"svc__C\": 1.0, \"svc__gamma\": 1.0, \"svc__kernel\": \"rbf\", \"test_score\": 0.7485022358917293}, {\"index\": 146, \"fselector__k\": 30, \"svc__C\": 10000.0, \"svc__gamma\": 0.1, \"svc__kernel\": \"rbf\", \"test_score\": 0.7475551239205429}, {\"index\": 99, \"fselector__k\": 20, \"svc__C\": 1.0, \"svc__gamma\": 0.0001, \"svc__kernel\": \"rbf\", \"test_score\": 0.7475311170185363}, {\"index\": 141, \"fselector__k\": 30, \"svc__C\": 1000.0, \"svc__gamma\": 0.1, \"svc__kernel\": \"rbf\", \"test_score\": 0.747185145062192}, {\"index\": 117, \"fselector__k\": 20, \"svc__C\": 10000.0, \"svc__gamma\": 0.01, \"svc__kernel\": \"rbf\", \"test_score\": 0.745230815505026}, {\"index\": 46, \"fselector__k\": 10, \"svc__C\": 100.0, \"svc__gamma\": 0.1, \"svc__kernel\": \"rbf\", \"test_score\": 0.7450141363661522}, {\"index\": 160, \"fselector__k\": 30, \"svc__C\": 10.0, \"svc__gamma\": 1.0, \"svc__kernel\": \"rbf\", \"test_score\": 0.7430336583056154}, {\"index\": 24, \"fselector__k\": 10, \"svc__C\": 1000.0, \"svc__gamma\": 0.0001, \"svc__kernel\": \"rbf\", \"test_score\": 0.7428007973466428}, {\"index\": 58, \"fselector__k\": 10, \"svc__C\": 10000.0, \"svc__gamma\": 0.001, \"svc__kernel\": \"rbf\", \"test_score\": 0.7423630660087668}, {\"index\": 95, \"fselector__k\": 20, \"svc__C\": 1.0, \"svc__gamma\": 1.0, \"svc__kernel\": \"rbf\", \"test_score\": 0.741649420036379}, {\"index\": 93, \"fselector__k\": 20, \"svc__C\": 0.1, \"svc__gamma\": 0.001, \"svc__kernel\": \"rbf\", \"test_score\": 0.7408129345054573}, {\"index\": 70, \"fselector__k\": 20, \"svc__C\": 10.0, \"svc__gamma\": 1.0, \"svc__kernel\": \"rbf\", \"test_score\": 0.7405493857467954}, {\"index\": 90, \"fselector__k\": 20, \"svc__C\": 0.1, \"svc__gamma\": 1.0, \"svc__kernel\": \"rbf\", \"test_score\": 0.7374668516051767}, {\"index\": 100, \"fselector__k\": 20, \"svc__C\": 10.0, \"svc__gamma\": 1.0, \"svc__kernel\": \"rbf\", \"test_score\": 0.7374164505895725}, {\"index\": 54, \"fselector__k\": 10, \"svc__C\": 1000.0, \"svc__gamma\": 0.0001, \"svc__kernel\": \"rbf\", \"test_score\": 0.7370441039887341}, {\"index\": 47, \"fselector__k\": 10, \"svc__C\": 100.0, \"svc__gamma\": 0.01, \"svc__kernel\": \"rbf\", \"test_score\": 0.7370205942976733}, {\"index\": 52, \"fselector__k\": 10, \"svc__C\": 1000.0, \"svc__gamma\": 0.01, \"svc__kernel\": \"rbf\", \"test_score\": 0.7326178932081944}, {\"index\": 81, \"fselector__k\": 20, \"svc__C\": 1000.0, \"svc__gamma\": 0.1, \"svc__kernel\": \"rbf\", \"test_score\": 0.7301627389398122}, {\"index\": 22, \"fselector__k\": 10, \"svc__C\": 1000.0, \"svc__gamma\": 0.01, \"svc__kernel\": \"rbf\", \"test_score\": 0.7287437093829576}, {\"index\": 27, \"fselector__k\": 10, \"svc__C\": 10000.0, \"svc__gamma\": 0.01, \"svc__kernel\": \"rbf\", \"test_score\": 0.727107100615607}, {\"index\": 42, \"fselector__k\": 10, \"svc__C\": 10.0, \"svc__gamma\": 0.01, \"svc__kernel\": \"rbf\", \"test_score\": 0.7267816865347367}, {\"index\": 80, \"fselector__k\": 20, \"svc__C\": 1000.0, \"svc__gamma\": 1.0, \"svc__kernel\": \"rbf\", \"test_score\": 0.7267503682356249}, {\"index\": 176, \"fselector__k\": 30, \"svc__C\": 10000.0, \"svc__gamma\": 0.1, \"svc__kernel\": \"rbf\", \"test_score\": 0.7267333252821103}, {\"index\": 85, \"fselector__k\": 20, \"svc__C\": 10000.0, \"svc__gamma\": 1.0, \"svc__kernel\": \"rbf\", \"test_score\": 0.7267153358306502}, {\"index\": 37, \"fselector__k\": 10, \"svc__C\": 1.0, \"svc__gamma\": 0.01, \"svc__kernel\": \"rbf\", \"test_score\": 0.7264525793147307}, {\"index\": 175, \"fselector__k\": 30, \"svc__C\": 10000.0, \"svc__gamma\": 1.0, \"svc__kernel\": \"rbf\", \"test_score\": 0.7262678250124182}, {\"index\": 11, \"fselector__k\": 10, \"svc__C\": 10.0, \"svc__gamma\": 0.1, \"svc__kernel\": \"rbf\", \"test_score\": 0.7243576948126401}, {\"index\": 57, \"fselector__k\": 10, \"svc__C\": 10000.0, \"svc__gamma\": 0.01, \"svc__kernel\": \"rbf\", \"test_score\": 0.723711726438611}, {\"index\": 75, \"fselector__k\": 20, \"svc__C\": 100.0, \"svc__gamma\": 1.0, \"svc__kernel\": \"rbf\", \"test_score\": 0.7232859461349218}, {\"index\": 0, \"fselector__k\": 10, \"svc__C\": 0.1, \"svc__gamma\": 1.0, \"svc__kernel\": \"rbf\", \"test_score\": 0.7231006586787033}, {\"index\": 171, \"fselector__k\": 30, \"svc__C\": 1000.0, \"svc__gamma\": 0.1, \"svc__kernel\": \"rbf\", \"test_score\": 0.7215829986444712}, {\"index\": 170, \"fselector__k\": 30, \"svc__C\": 1000.0, \"svc__gamma\": 1.0, \"svc__kernel\": \"rbf\", \"test_score\": 0.7209163525851016}, {\"index\": 13, \"fselector__k\": 10, \"svc__C\": 10.0, \"svc__gamma\": 0.001, \"svc__kernel\": \"rbf\", \"test_score\": 0.7206603203979413}, {\"index\": 177, \"fselector__k\": 30, \"svc__C\": 10000.0, \"svc__gamma\": 0.01, \"svc__kernel\": \"rbf\", \"test_score\": 0.718885075141154}, {\"index\": 36, \"fselector__k\": 10, \"svc__C\": 1.0, \"svc__gamma\": 0.1, \"svc__kernel\": \"rbf\", \"test_score\": 0.7159665592091974}, {\"index\": 180, \"fselector__k\": 49, \"svc__C\": 0.1, \"svc__gamma\": 1.0, \"svc__kernel\": \"rbf\", \"test_score\": 0.7144093768952423}, {\"index\": 210, \"fselector__k\": 49, \"svc__C\": 0.1, \"svc__gamma\": 1.0, \"svc__kernel\": \"rbf\", \"test_score\": 0.7144093768952423}, {\"index\": 185, \"fselector__k\": 49, \"svc__C\": 1.0, \"svc__gamma\": 1.0, \"svc__kernel\": \"rbf\", \"test_score\": 0.7143556900940484}, {\"index\": 215, \"fselector__k\": 49, \"svc__C\": 1.0, \"svc__gamma\": 1.0, \"svc__kernel\": \"rbf\", \"test_score\": 0.7143556900940484}, {\"index\": 41, \"fselector__k\": 10, \"svc__C\": 10.0, \"svc__gamma\": 0.1, \"svc__kernel\": \"rbf\", \"test_score\": 0.7135964804294178}, {\"index\": 16, \"fselector__k\": 10, \"svc__C\": 100.0, \"svc__gamma\": 0.1, \"svc__kernel\": \"rbf\", \"test_score\": 0.7135259992801823}, {\"index\": 200, \"fselector__k\": 49, \"svc__C\": 1000.0, \"svc__gamma\": 1.0, \"svc__kernel\": \"rbf\", \"test_score\": 0.7117969616936707}, {\"index\": 230, \"fselector__k\": 49, \"svc__C\": 1000.0, \"svc__gamma\": 1.0, \"svc__kernel\": \"rbf\", \"test_score\": 0.7117969616936707}, {\"index\": 220, \"fselector__k\": 49, \"svc__C\": 10.0, \"svc__gamma\": 1.0, \"svc__kernel\": \"rbf\", \"test_score\": 0.7117969616936707}, {\"index\": 205, \"fselector__k\": 49, \"svc__C\": 10000.0, \"svc__gamma\": 1.0, \"svc__kernel\": \"rbf\", \"test_score\": 0.7117969616936707}, {\"index\": 195, \"fselector__k\": 49, \"svc__C\": 100.0, \"svc__gamma\": 1.0, \"svc__kernel\": \"rbf\", \"test_score\": 0.7117969616936707}, {\"index\": 225, \"fselector__k\": 49, \"svc__C\": 100.0, \"svc__gamma\": 1.0, \"svc__kernel\": \"rbf\", \"test_score\": 0.7117969616936707}]}}, {\"mode\": \"vega-lite\"});\n",
       "</script>"
      ],
      "text/plain": [
       "alt.Chart(...)"
      ]
     },
     "execution_count": 123,
     "metadata": {},
     "output_type": "execute_result"
    }
   ],
   "source": [
    "alt.Chart(results_svc, \n",
    "          title='SVC Performance Comparison'\n",
    "         ).mark_line(point=True).encode(\n",
    "    alt.X('svc__C', title='SVC'),\n",
    "    alt.Y('test_score', title='AUC Score', scale=alt.Scale(zero=False)),\n",
    ")"
   ]
  },
  {
   "cell_type": "markdown",
   "metadata": {},
   "source": [
    "### SVM using Random Forest Importance Feature selection"
   ]
  },
  {
   "cell_type": "code",
   "execution_count": 124,
   "metadata": {},
   "outputs": [],
   "source": [
    "pipe_svc_1 = Pipeline([('rfi_fs', RFIFeatureSelector()), \n",
    "                     ('svc', SVC())])\n",
    "\n",
    "params_pipe_svc_1 = {'rfi_fs__n_features_': [10, 20, Data.shape[1]],\n",
    "                   'svc__C': [0.1, 1, 10, 100, 1000,10000],\n",
    "                   'svc__gamma': [1, 0.1, 0.01, 0.001, 0.0001],\n",
    "                   'svc__kernel': ['rbf']}\n",
    "\n",
    "gs_pipe_svc_1 = GridSearchCV(estimator=pipe_svc_1, \n",
    "                           param_grid=params_pipe_svc_1, \n",
    "                           cv=cv_method,\n",
    "                           n_jobs=-1,\n",
    "                           scoring='roc_auc',\n",
    "                           verbose=1)"
   ]
  },
  {
   "cell_type": "code",
   "execution_count": 125,
   "metadata": {},
   "outputs": [
    {
     "name": "stdout",
     "output_type": "stream",
     "text": [
      "Fitting 10 folds for each of 90 candidates, totalling 900 fits\n"
     ]
    },
    {
     "name": "stderr",
     "output_type": "stream",
     "text": [
      "[Parallel(n_jobs=-1)]: Using backend LokyBackend with 4 concurrent workers.\n",
      "[Parallel(n_jobs=-1)]: Done  42 tasks      | elapsed:    6.3s\n",
      "[Parallel(n_jobs=-1)]: Done 192 tasks      | elapsed:   29.3s\n",
      "[Parallel(n_jobs=-1)]: Done 442 tasks      | elapsed:  1.3min\n",
      "[Parallel(n_jobs=-1)]: Done 792 tasks      | elapsed:  2.3min\n",
      "[Parallel(n_jobs=-1)]: Done 900 out of 900 | elapsed:  2.6min finished\n"
     ]
    }
   ],
   "source": [
    "gs_pipe_svc_1.fit(Data_train, target_train);"
   ]
  },
  {
   "cell_type": "code",
   "execution_count": 126,
   "metadata": {},
   "outputs": [
    {
     "data": {
      "text/plain": [
       "0.8492266303067684"
      ]
     },
     "execution_count": 126,
     "metadata": {},
     "output_type": "execute_result"
    }
   ],
   "source": [
    "gs_pipe_svc_1.best_score_"
   ]
  },
  {
   "cell_type": "code",
   "execution_count": 127,
   "metadata": {},
   "outputs": [
    {
     "data": {
      "text/plain": [
       "{'rfi_fs__n_features_': 49,\n",
       " 'svc__C': 1000,\n",
       " 'svc__gamma': 0.001,\n",
       " 'svc__kernel': 'rbf'}"
      ]
     },
     "execution_count": 127,
     "metadata": {},
     "output_type": "execute_result"
    }
   ],
   "source": [
    "gs_pipe_svc_1.best_params_"
   ]
  },
  {
   "cell_type": "code",
   "execution_count": 128,
   "metadata": {},
   "outputs": [],
   "source": [
    "results_svc = pd.DataFrame(gs_pipe_svc_1.cv_results_['params'])\n",
    "results_svc['test_score'] = gs_pipe_svc_1.cv_results_['mean_test_score']\n",
    "results_svc = results_svc.drop(columns='rfi_fs__n_features_')\n",
    "results_svc = results_svc.sort_values(by='test_score', ascending=False)"
   ]
  },
  {
   "cell_type": "code",
   "execution_count": 129,
   "metadata": {},
   "outputs": [],
   "source": [
    "results_svc.reset_index(inplace = True) \n",
    "results_svc = results_svc.iloc[0:200,:]"
   ]
  },
  {
   "cell_type": "code",
   "execution_count": 130,
   "metadata": {
    "scrolled": true
   },
   "outputs": [
    {
     "data": {
      "text/html": [
       "\n",
       "<div id=\"altair-viz-9c1f29dd3ee94e0db1f3180b31e764fc\"></div>\n",
       "<script type=\"text/javascript\">\n",
       "  (function(spec, embedOpt){\n",
       "    let outputDiv = document.currentScript.previousElementSibling;\n",
       "    if (outputDiv.id !== \"altair-viz-9c1f29dd3ee94e0db1f3180b31e764fc\") {\n",
       "      outputDiv = document.getElementById(\"altair-viz-9c1f29dd3ee94e0db1f3180b31e764fc\");\n",
       "    }\n",
       "    const paths = {\n",
       "      \"vega\": \"https://cdn.jsdelivr.net/npm//vega@5?noext\",\n",
       "      \"vega-lib\": \"https://cdn.jsdelivr.net/npm//vega-lib?noext\",\n",
       "      \"vega-lite\": \"https://cdn.jsdelivr.net/npm//vega-lite@4.8.1?noext\",\n",
       "      \"vega-embed\": \"https://cdn.jsdelivr.net/npm//vega-embed@6?noext\",\n",
       "    };\n",
       "\n",
       "    function loadScript(lib) {\n",
       "      return new Promise(function(resolve, reject) {\n",
       "        var s = document.createElement('script');\n",
       "        s.src = paths[lib];\n",
       "        s.async = true;\n",
       "        s.onload = () => resolve(paths[lib]);\n",
       "        s.onerror = () => reject(`Error loading script: ${paths[lib]}`);\n",
       "        document.getElementsByTagName(\"head\")[0].appendChild(s);\n",
       "      });\n",
       "    }\n",
       "\n",
       "    function showError(err) {\n",
       "      outputDiv.innerHTML = `<div class=\"error\" style=\"color:red;\">${err}</div>`;\n",
       "      throw err;\n",
       "    }\n",
       "\n",
       "    function displayChart(vegaEmbed) {\n",
       "      vegaEmbed(outputDiv, spec, embedOpt)\n",
       "        .catch(err => showError(`Javascript Error: ${err.message}<br>This usually means there's a typo in your chart specification. See the javascript console for the full traceback.`));\n",
       "    }\n",
       "\n",
       "    if(typeof define === \"function\" && define.amd) {\n",
       "      requirejs.config({paths});\n",
       "      require([\"vega-embed\"], displayChart, err => showError(`Error loading script: ${err.message}`));\n",
       "    } else if (typeof vegaEmbed === \"function\") {\n",
       "      displayChart(vegaEmbed);\n",
       "    } else {\n",
       "      loadScript(\"vega\")\n",
       "        .then(() => loadScript(\"vega-lite\"))\n",
       "        .then(() => loadScript(\"vega-embed\"))\n",
       "        .catch(showError)\n",
       "        .then(() => displayChart(vegaEmbed));\n",
       "    }\n",
       "  })({\"config\": {\"view\": {\"continuousWidth\": 400, \"continuousHeight\": 300}}, \"data\": {\"name\": \"data-610fed679fe9d77050c27df575745195\"}, \"mark\": {\"type\": \"line\", \"point\": true}, \"encoding\": {\"x\": {\"type\": \"quantitative\", \"field\": \"svc__C\", \"title\": \"SVC\"}, \"y\": {\"type\": \"quantitative\", \"field\": \"test_score\", \"scale\": {\"zero\": false}, \"title\": \"AUC Score\"}}, \"title\": \"SVC Performance Comparison\", \"$schema\": \"https://vega.github.io/schema/vega-lite/v4.8.1.json\", \"datasets\": {\"data-610fed679fe9d77050c27df575745195\": [{\"index\": 83, \"svc__C\": 1000.0, \"svc__gamma\": 0.001, \"svc__kernel\": \"rbf\", \"test_score\": 0.8492266303067684}, {\"index\": 72, \"svc__C\": 10.0, \"svc__gamma\": 0.01, \"svc__kernel\": \"rbf\", \"test_score\": 0.8476402098925089}, {\"index\": 89, \"svc__C\": 10000.0, \"svc__gamma\": 0.0001, \"svc__kernel\": \"rbf\", \"test_score\": 0.8462603087404412}, {\"index\": 78, \"svc__C\": 100.0, \"svc__gamma\": 0.001, \"svc__kernel\": \"rbf\", \"test_score\": 0.8452554034848857}, {\"index\": 84, \"svc__C\": 1000.0, \"svc__gamma\": 0.0001, \"svc__kernel\": \"rbf\", \"test_score\": 0.8446265963766141}, {\"index\": 77, \"svc__C\": 100.0, \"svc__gamma\": 0.01, \"svc__kernel\": \"rbf\", \"test_score\": 0.8430812917133027}, {\"index\": 62, \"svc__C\": 0.1, \"svc__gamma\": 0.01, \"svc__kernel\": \"rbf\", \"test_score\": 0.8430685709007234}, {\"index\": 66, \"svc__C\": 1.0, \"svc__gamma\": 0.1, \"svc__kernel\": \"rbf\", \"test_score\": 0.8430246935323519}, {\"index\": 67, \"svc__C\": 1.0, \"svc__gamma\": 0.01, \"svc__kernel\": \"rbf\", \"test_score\": 0.8427212630643673}, {\"index\": 61, \"svc__C\": 0.1, \"svc__gamma\": 0.1, \"svc__kernel\": \"rbf\", \"test_score\": 0.8423477707816804}, {\"index\": 68, \"svc__C\": 1.0, \"svc__gamma\": 0.001, \"svc__kernel\": \"rbf\", \"test_score\": 0.8418058677600995}, {\"index\": 74, \"svc__C\": 10.0, \"svc__gamma\": 0.0001, \"svc__kernel\": \"rbf\", \"test_score\": 0.8414503709193658}, {\"index\": 73, \"svc__C\": 10.0, \"svc__gamma\": 0.001, \"svc__kernel\": \"rbf\", \"test_score\": 0.8411407133335682}, {\"index\": 79, \"svc__C\": 100.0, \"svc__gamma\": 0.0001, \"svc__kernel\": \"rbf\", \"test_score\": 0.8409823456567367}, {\"index\": 88, \"svc__C\": 10000.0, \"svc__gamma\": 0.001, \"svc__kernel\": \"rbf\", \"test_score\": 0.8375734614196656}, {\"index\": 63, \"svc__C\": 0.1, \"svc__gamma\": 0.001, \"svc__kernel\": \"rbf\", \"test_score\": 0.835443119187574}, {\"index\": 69, \"svc__C\": 1.0, \"svc__gamma\": 0.0001, \"svc__kernel\": \"rbf\", \"test_score\": 0.8349442967987523}, {\"index\": 47, \"svc__C\": 100.0, \"svc__gamma\": 0.01, \"svc__kernel\": \"rbf\", \"test_score\": 0.8158970020935576}, {\"index\": 64, \"svc__C\": 0.1, \"svc__gamma\": 0.0001, \"svc__kernel\": \"rbf\", \"test_score\": 0.8140233345290359}, {\"index\": 36, \"svc__C\": 1.0, \"svc__gamma\": 0.1, \"svc__kernel\": \"rbf\", \"test_score\": 0.8128304505881345}, {\"index\": 31, \"svc__C\": 0.1, \"svc__gamma\": 0.1, \"svc__kernel\": \"rbf\", \"test_score\": 0.812360987607107}, {\"index\": 71, \"svc__C\": 10.0, \"svc__gamma\": 0.1, \"svc__kernel\": \"rbf\", \"test_score\": 0.8108458989921354}, {\"index\": 58, \"svc__C\": 10000.0, \"svc__gamma\": 0.001, \"svc__kernel\": \"rbf\", \"test_score\": 0.8083256026016953}, {\"index\": 53, \"svc__C\": 1000.0, \"svc__gamma\": 0.001, \"svc__kernel\": \"rbf\", \"test_score\": 0.8074496217482704}, {\"index\": 59, \"svc__C\": 10000.0, \"svc__gamma\": 0.0001, \"svc__kernel\": \"rbf\", \"test_score\": 0.8062909405290182}, {\"index\": 37, \"svc__C\": 1.0, \"svc__gamma\": 0.01, \"svc__kernel\": \"rbf\", \"test_score\": 0.8055702662103348}, {\"index\": 32, \"svc__C\": 0.1, \"svc__gamma\": 0.01, \"svc__kernel\": \"rbf\", \"test_score\": 0.804819516619905}, {\"index\": 38, \"svc__C\": 1.0, \"svc__gamma\": 0.001, \"svc__kernel\": \"rbf\", \"test_score\": 0.8032737207361406}, {\"index\": 42, \"svc__C\": 10.0, \"svc__gamma\": 0.01, \"svc__kernel\": \"rbf\", \"test_score\": 0.8030888900550381}, {\"index\": 82, \"svc__C\": 1000.0, \"svc__gamma\": 0.01, \"svc__kernel\": \"rbf\", \"test_score\": 0.8008225067147441}, {\"index\": 49, \"svc__C\": 100.0, \"svc__gamma\": 0.0001, \"svc__kernel\": \"rbf\", \"test_score\": 0.8007941447240887}, {\"index\": 44, \"svc__C\": 10.0, \"svc__gamma\": 0.0001, \"svc__kernel\": \"rbf\", \"test_score\": 0.8006213189916132}, {\"index\": 43, \"svc__C\": 10.0, \"svc__gamma\": 0.001, \"svc__kernel\": \"rbf\", \"test_score\": 0.7992669013981571}, {\"index\": 81, \"svc__C\": 1000.0, \"svc__gamma\": 0.1, \"svc__kernel\": \"rbf\", \"test_score\": 0.7992615339161364}, {\"index\": 86, \"svc__C\": 10000.0, \"svc__gamma\": 0.1, \"svc__kernel\": \"rbf\", \"test_score\": 0.7992615339161364}, {\"index\": 76, \"svc__C\": 100.0, \"svc__gamma\": 0.1, \"svc__kernel\": \"rbf\", \"test_score\": 0.7992615339161364}, {\"index\": 48, \"svc__C\": 100.0, \"svc__gamma\": 0.001, \"svc__kernel\": \"rbf\", \"test_score\": 0.7990700747541681}, {\"index\": 52, \"svc__C\": 1000.0, \"svc__gamma\": 0.01, \"svc__kernel\": \"rbf\", \"test_score\": 0.7981058958674941}, {\"index\": 41, \"svc__C\": 10.0, \"svc__gamma\": 0.1, \"svc__kernel\": \"rbf\", \"test_score\": 0.7973488742305511}, {\"index\": 54, \"svc__C\": 1000.0, \"svc__gamma\": 0.0001, \"svc__kernel\": \"rbf\", \"test_score\": 0.7967255334474403}, {\"index\": 87, \"svc__C\": 10000.0, \"svc__gamma\": 0.01, \"svc__kernel\": \"rbf\", \"test_score\": 0.7784598094208416}, {\"index\": 30, \"svc__C\": 0.1, \"svc__gamma\": 1.0, \"svc__kernel\": \"rbf\", \"test_score\": 0.7725331807434874}, {\"index\": 39, \"svc__C\": 1.0, \"svc__gamma\": 0.0001, \"svc__kernel\": \"rbf\", \"test_score\": 0.771155660812517}, {\"index\": 33, \"svc__C\": 0.1, \"svc__gamma\": 0.001, \"svc__kernel\": \"rbf\", \"test_score\": 0.7647058344289946}, {\"index\": 35, \"svc__C\": 1.0, \"svc__gamma\": 1.0, \"svc__kernel\": \"rbf\", \"test_score\": 0.7642604592216338}, {\"index\": 57, \"svc__C\": 10000.0, \"svc__gamma\": 0.01, \"svc__kernel\": \"rbf\", \"test_score\": 0.7445560942606522}, {\"index\": 29, \"svc__C\": 10000.0, \"svc__gamma\": 0.0001, \"svc__kernel\": \"rbf\", \"test_score\": 0.7437538234323658}, {\"index\": 46, \"svc__C\": 100.0, \"svc__gamma\": 0.1, \"svc__kernel\": \"rbf\", \"test_score\": 0.7352078275859342}, {\"index\": 40, \"svc__C\": 10.0, \"svc__gamma\": 1.0, \"svc__kernel\": \"rbf\", \"test_score\": 0.7334458018502957}, {\"index\": 45, \"svc__C\": 100.0, \"svc__gamma\": 1.0, \"svc__kernel\": \"rbf\", \"test_score\": 0.7325118360167149}, {\"index\": 55, \"svc__C\": 10000.0, \"svc__gamma\": 1.0, \"svc__kernel\": \"rbf\", \"test_score\": 0.7245720271757532}, {\"index\": 50, \"svc__C\": 1000.0, \"svc__gamma\": 1.0, \"svc__kernel\": \"rbf\", \"test_score\": 0.7180402418577814}, {\"index\": 60, \"svc__C\": 0.1, \"svc__gamma\": 1.0, \"svc__kernel\": \"rbf\", \"test_score\": 0.7144093768952423}, {\"index\": 65, \"svc__C\": 1.0, \"svc__gamma\": 1.0, \"svc__kernel\": \"rbf\", \"test_score\": 0.7143556900940484}, {\"index\": 23, \"svc__C\": 1000.0, \"svc__gamma\": 0.001, \"svc__kernel\": \"rbf\", \"test_score\": 0.7130719603218475}, {\"index\": 85, \"svc__C\": 10000.0, \"svc__gamma\": 1.0, \"svc__kernel\": \"rbf\", \"test_score\": 0.7117969616936707}, {\"index\": 80, \"svc__C\": 1000.0, \"svc__gamma\": 1.0, \"svc__kernel\": \"rbf\", \"test_score\": 0.7117969616936707}, {\"index\": 75, \"svc__C\": 100.0, \"svc__gamma\": 1.0, \"svc__kernel\": \"rbf\", \"test_score\": 0.7117969616936707}, {\"index\": 70, \"svc__C\": 10.0, \"svc__gamma\": 1.0, \"svc__kernel\": \"rbf\", \"test_score\": 0.7117969616936707}, {\"index\": 34, \"svc__C\": 0.1, \"svc__gamma\": 0.0001, \"svc__kernel\": \"rbf\", \"test_score\": 0.7061765580494378}, {\"index\": 17, \"svc__C\": 100.0, \"svc__gamma\": 0.01, \"svc__kernel\": \"rbf\", \"test_score\": 0.7057615336765167}, {\"index\": 24, \"svc__C\": 1000.0, \"svc__gamma\": 0.0001, \"svc__kernel\": \"rbf\", \"test_score\": 0.7052338760480668}, {\"index\": 28, \"svc__C\": 10000.0, \"svc__gamma\": 0.001, \"svc__kernel\": \"rbf\", \"test_score\": 0.7036816553602097}, {\"index\": 27, \"svc__C\": 10000.0, \"svc__gamma\": 0.01, \"svc__kernel\": \"rbf\", \"test_score\": 0.6995413618404138}, {\"index\": 22, \"svc__C\": 1000.0, \"svc__gamma\": 0.01, \"svc__kernel\": \"rbf\", \"test_score\": 0.6949854419031174}, {\"index\": 1, \"svc__C\": 0.1, \"svc__gamma\": 0.1, \"svc__kernel\": \"rbf\", \"test_score\": 0.6910852054224029}, {\"index\": 0, \"svc__C\": 0.1, \"svc__gamma\": 1.0, \"svc__kernel\": \"rbf\", \"test_score\": 0.6856375226770125}, {\"index\": 11, \"svc__C\": 10.0, \"svc__gamma\": 0.1, \"svc__kernel\": \"rbf\", \"test_score\": 0.6852855332701216}, {\"index\": 16, \"svc__C\": 100.0, \"svc__gamma\": 0.1, \"svc__kernel\": \"rbf\", \"test_score\": 0.6837858252467665}, {\"index\": 6, \"svc__C\": 1.0, \"svc__gamma\": 0.1, \"svc__kernel\": \"rbf\", \"test_score\": 0.6836072606216839}, {\"index\": 12, \"svc__C\": 10.0, \"svc__gamma\": 0.01, \"svc__kernel\": \"rbf\", \"test_score\": 0.6783555538702302}, {\"index\": 51, \"svc__C\": 1000.0, \"svc__gamma\": 0.1, \"svc__kernel\": \"rbf\", \"test_score\": 0.668893554684458}, {\"index\": 5, \"svc__C\": 1.0, \"svc__gamma\": 1.0, \"svc__kernel\": \"rbf\", \"test_score\": 0.6675656480192195}, {\"index\": 21, \"svc__C\": 1000.0, \"svc__gamma\": 0.1, \"svc__kernel\": \"rbf\", \"test_score\": 0.6646553525417304}, {\"index\": 56, \"svc__C\": 10000.0, \"svc__gamma\": 0.1, \"svc__kernel\": \"rbf\", \"test_score\": 0.6645604541416953}, {\"index\": 8, \"svc__C\": 1.0, \"svc__gamma\": 0.001, \"svc__kernel\": \"rbf\", \"test_score\": 0.6553699201515164}, {\"index\": 13, \"svc__C\": 10.0, \"svc__gamma\": 0.001, \"svc__kernel\": \"rbf\", \"test_score\": 0.6495380790500708}, {\"index\": 26, \"svc__C\": 10000.0, \"svc__gamma\": 0.1, \"svc__kernel\": \"rbf\", \"test_score\": 0.6492302964886844}, {\"index\": 19, \"svc__C\": 100.0, \"svc__gamma\": 0.0001, \"svc__kernel\": \"rbf\", \"test_score\": 0.6475097219716199}, {\"index\": 10, \"svc__C\": 10.0, \"svc__gamma\": 1.0, \"svc__kernel\": \"rbf\", \"test_score\": 0.6444074940831896}, {\"index\": 18, \"svc__C\": 100.0, \"svc__gamma\": 0.001, \"svc__kernel\": \"rbf\", \"test_score\": 0.6399452385043032}, {\"index\": 20, \"svc__C\": 1000.0, \"svc__gamma\": 1.0, \"svc__kernel\": \"rbf\", \"test_score\": 0.6334022090303572}, {\"index\": 4, \"svc__C\": 0.1, \"svc__gamma\": 0.0001, \"svc__kernel\": \"rbf\", \"test_score\": 0.6267030972527838}, {\"index\": 25, \"svc__C\": 10000.0, \"svc__gamma\": 1.0, \"svc__kernel\": \"rbf\", \"test_score\": 0.6209012595371649}, {\"index\": 15, \"svc__C\": 100.0, \"svc__gamma\": 1.0, \"svc__kernel\": \"rbf\", \"test_score\": 0.6193927454886193}, {\"index\": 7, \"svc__C\": 1.0, \"svc__gamma\": 0.01, \"svc__kernel\": \"rbf\", \"test_score\": 0.612113115969481}, {\"index\": 14, \"svc__C\": 10.0, \"svc__gamma\": 0.0001, \"svc__kernel\": \"rbf\", \"test_score\": 0.5936553846507746}, {\"index\": 9, \"svc__C\": 1.0, \"svc__gamma\": 0.0001, \"svc__kernel\": \"rbf\", \"test_score\": 0.592017655661172}, {\"index\": 3, \"svc__C\": 0.1, \"svc__gamma\": 0.001, \"svc__kernel\": \"rbf\", \"test_score\": 0.5910476809722043}, {\"index\": 2, \"svc__C\": 0.1, \"svc__gamma\": 0.01, \"svc__kernel\": \"rbf\", \"test_score\": 0.5861212490226511}]}}, {\"mode\": \"vega-lite\"});\n",
       "</script>"
      ],
      "text/plain": [
       "alt.Chart(...)"
      ]
     },
     "execution_count": 130,
     "metadata": {},
     "output_type": "execute_result"
    }
   ],
   "source": [
    "alt.Chart(results_svc, \n",
    "          title='SVC Performance Comparison'\n",
    "         ).mark_line(point=True).encode(\n",
    "    alt.X('svc__C', title='SVC'),\n",
    "    alt.Y('test_score', title='AUC Score', scale=alt.Scale(zero=False)),\n",
    ")"
   ]
  },
  {
   "cell_type": "markdown",
   "metadata": {},
   "source": [
    "* For SVM it is observed that F-Score and RFI with 49 features are giving same accuracy with similar hyperparameter values.\n",
    "* gs_pipe_svc is tuned with optimal hyperparameter values and used below to get the performance on test data."
   ]
  },
  {
   "cell_type": "markdown",
   "metadata": {},
   "source": [
    "### SVM Performance on Test Data"
   ]
  },
  {
   "cell_type": "code",
   "execution_count": 131,
   "metadata": {},
   "outputs": [
    {
     "data": {
      "text/plain": [
       "0.7622828185328184"
      ]
     },
     "execution_count": 131,
     "metadata": {},
     "output_type": "execute_result"
    }
   ],
   "source": [
    "from sklearn.model_selection import cross_val_score\n",
    "\n",
    "cv_method_ttest = RepeatedStratifiedKFold(n_splits=10, n_repeats=2,random_state=999)\n",
    "\n",
    "cv_results_SVC = cross_val_score(estimator=gs_pipe_svc.best_estimator_,\n",
    "                                 X=Data_test,\n",
    "                                 y=target_test, \n",
    "                                 cv=cv_method_ttest, \n",
    "                                 n_jobs=-2,\n",
    "                                 scoring='roc_auc')\n",
    "cv_results_SVC.mean()"
   ]
  },
  {
   "cell_type": "markdown",
   "metadata": {},
   "source": [
    "## <u>Performance Comparison</u> <a class=\"anchor\" id=\"7\"></a> "
   ]
  },
  {
   "cell_type": "markdown",
   "metadata": {},
   "source": [
    "* Scores of all the classfiers are compared using paired t-test to identify if any classifier is statistically performing better than rest of the classifiers.\n",
    "* Since SVM has highest score it is compared with performance of other four classifiers followed by Naive Bayes which has second highest score and so on.\n",
    "* We have used random state=999, so the performance of all the observations is obtained from same set of data so paired t-test can be performed to compare all five classifiers."
   ]
  },
  {
   "cell_type": "code",
   "execution_count": 132,
   "metadata": {},
   "outputs": [
    {
     "name": "stdout",
     "output_type": "stream",
     "text": [
      "SVM vs all other algorithms\n",
      "Ttest_relResult(statistic=1.0262256350098187, pvalue=0.31767388670601704)\n",
      "Ttest_relResult(statistic=2.5884241676258184, pvalue=0.018024704238968126)\n",
      "Ttest_relResult(statistic=1.6850809306152066, pvalue=0.1083278233203822)\n",
      "Ttest_relResult(statistic=1.1907879323468806, pvalue=0.24840176407954379)\n"
     ]
    }
   ],
   "source": [
    "from scipy import stats\n",
    "\n",
    "print(\"SVM vs all other algorithms\")\n",
    "print(stats.ttest_rel(cv_results_SVC, cv_results_KNN))\n",
    "print(stats.ttest_rel(cv_results_SVC, cv_results_DT))\n",
    "print(stats.ttest_rel(cv_results_SVC, cv_results_RF))\n",
    "print(stats.ttest_rel(cv_results_SVC, cv_results_NB))"
   ]
  },
  {
   "cell_type": "markdown",
   "metadata": {},
   "source": [
    "* From Above paired t-test it can be observed that SVM is statistically performing better than Decision Trees only since the pvalue is less than 0.05, 95% significance level."
   ]
  },
  {
   "cell_type": "code",
   "execution_count": 133,
   "metadata": {},
   "outputs": [
    {
     "name": "stdout",
     "output_type": "stream",
     "text": [
      "NB vs DT, RF and KNN\n",
      "Ttest_relResult(statistic=-0.4031973315797565, pvalue=0.6913041932929964)\n",
      "Ttest_relResult(statistic=1.3610191682014225, pvalue=0.1894332264593921)\n",
      "Ttest_relResult(statistic=0.6958976179362379, pvalue=0.49491804977348874)\n"
     ]
    }
   ],
   "source": [
    "print(\"NB vs DT, RF and KNN\")\n",
    "print(stats.ttest_rel(cv_results_NB, cv_results_KNN))\n",
    "print(stats.ttest_rel(cv_results_NB, cv_results_DT))\n",
    "print(stats.ttest_rel(cv_results_NB, cv_results_RF))"
   ]
  },
  {
   "cell_type": "markdown",
   "metadata": {},
   "source": [
    "* From Above paired t-test it can be observed that performance of Naive bayes is statistically not significant than Decision Trees, Random Forests and KNN since the pvalue is greater than 0.05, 95% significance level."
   ]
  },
  {
   "cell_type": "code",
   "execution_count": 134,
   "metadata": {},
   "outputs": [
    {
     "name": "stdout",
     "output_type": "stream",
     "text": [
      "KNN vs DT and RF\n",
      "Ttest_relResult(statistic=1.478133851071627, pvalue=0.15575860647067394)\n",
      "Ttest_relResult(statistic=0.7441924469369859, pvalue=0.46586508964587847)\n"
     ]
    }
   ],
   "source": [
    "print(\"KNN vs DT and RF\")\n",
    "print(stats.ttest_rel(cv_results_KNN, cv_results_DT))\n",
    "print(stats.ttest_rel(cv_results_KNN, cv_results_RF))"
   ]
  },
  {
   "cell_type": "markdown",
   "metadata": {},
   "source": [
    "* From Above paired t-test it can be observed that performance of KNN is statistically not significant than Decision Trees, and Random Forests since the pvalue is greater than 0.05, 95% significance level."
   ]
  },
  {
   "cell_type": "code",
   "execution_count": 135,
   "metadata": {},
   "outputs": [
    {
     "name": "stdout",
     "output_type": "stream",
     "text": [
      "RF vs DT\n",
      "Ttest_relResult(statistic=0.683215894302119, pvalue=0.5027173851949982)\n"
     ]
    }
   ],
   "source": [
    "print(\"RF vs DT\")\n",
    "print(stats.ttest_rel(cv_results_RF, cv_results_DT))"
   ]
  },
  {
   "cell_type": "markdown",
   "metadata": {},
   "source": [
    "* From Above paired t-test it can be observed that performance of RF is statistically not significant than Decision Treessince the pvalue is greater than 0.05, 95% significance level."
   ]
  },
  {
   "cell_type": "code",
   "execution_count": 136,
   "metadata": {},
   "outputs": [],
   "source": [
    "pred_KNN = gs_pipe_KNN_2.predict(Data_test)\n",
    "pred_RF = gs_pipe_RF.predict(Data_test)\n",
    "pred_SVC = gs_pipe_svc.predict(Data_test)\n",
    "pred_DT = gs_pipe_DT.predict(Data_test)\n",
    "pred_NB = gs_pipe_NB_1.predict(Data_test)"
   ]
  },
  {
   "cell_type": "markdown",
   "metadata": {},
   "source": [
    "### Classification Report\n",
    "\n",
    "* From classification report of each classifier different scoring metrics such as Accuracy, Precision, Recall and F-1 Score.\n",
    "* Here our goal is to predict employee Attrition so we will also check for Recall score of each of the classifiers."
   ]
  },
  {
   "cell_type": "code",
   "execution_count": 137,
   "metadata": {},
   "outputs": [
    {
     "name": "stdout",
     "output_type": "stream",
     "text": [
      "\n",
      "Classification report for K-Nearest Neighbor\n",
      "              precision    recall  f1-score   support\n",
      "\n",
      "           0       0.84      1.00      0.91       370\n",
      "           1       0.00      0.00      0.00        71\n",
      "\n",
      "    accuracy                           0.84       441\n",
      "   macro avg       0.42      0.50      0.46       441\n",
      "weighted avg       0.70      0.84      0.77       441\n",
      "\n",
      "\n",
      "Classification report for RF\n",
      "              precision    recall  f1-score   support\n",
      "\n",
      "           0       0.85      0.98      0.91       370\n",
      "           1       0.57      0.11      0.19        71\n",
      "\n",
      "    accuracy                           0.84       441\n",
      "   macro avg       0.71      0.55      0.55       441\n",
      "weighted avg       0.81      0.84      0.80       441\n",
      "\n",
      "\n",
      "Classification report for SVC\n",
      "              precision    recall  f1-score   support\n",
      "\n",
      "           0       0.90      0.96      0.93       370\n",
      "           1       0.65      0.42      0.51        71\n",
      "\n",
      "    accuracy                           0.87       441\n",
      "   macro avg       0.77      0.69      0.72       441\n",
      "weighted avg       0.86      0.87      0.86       441\n",
      "\n",
      "\n",
      "Classification report for DT\n",
      "              precision    recall  f1-score   support\n",
      "\n",
      "           0       0.86      0.97      0.91       370\n",
      "           1       0.52      0.18      0.27        71\n",
      "\n",
      "    accuracy                           0.84       441\n",
      "   macro avg       0.69      0.58      0.59       441\n",
      "weighted avg       0.81      0.84      0.81       441\n",
      "\n",
      "\n",
      "Classification report for NB\n",
      "              precision    recall  f1-score   support\n",
      "\n",
      "           0       0.84      1.00      0.91       370\n",
      "           1       0.00      0.00      0.00        71\n",
      "\n",
      "    accuracy                           0.84       441\n",
      "   macro avg       0.42      0.50      0.46       441\n",
      "weighted avg       0.70      0.84      0.77       441\n",
      "\n"
     ]
    }
   ],
   "source": [
    "from sklearn import metrics\n",
    "print(\"\\nClassification report for K-Nearest Neighbor\") \n",
    "print(metrics.classification_report(target_test, pred_KNN))\n",
    "print(\"\\nClassification report for RF\") \n",
    "print(metrics.classification_report(target_test, pred_RF))\n",
    "print(\"\\nClassification report for SVC\") \n",
    "print(metrics.classification_report(target_test, pred_SVC))\n",
    "print(\"\\nClassification report for DT\") \n",
    "print(metrics.classification_report(target_test, pred_DT))\n",
    "print(\"\\nClassification report for NB\") \n",
    "print(metrics.classification_report(target_test, pred_NB))"
   ]
  },
  {
   "cell_type": "code",
   "execution_count": 138,
   "metadata": {},
   "outputs": [
    {
     "name": "stdout",
     "output_type": "stream",
     "text": [
      "\n",
      "Confusion matrix for K-Nearest Neighbor\n",
      "[[370   0]\n",
      " [ 71   0]]\n",
      "\n",
      "Confusion matrix for Random Forest\n",
      "[[364   6]\n",
      " [ 63   8]]\n",
      "\n",
      "Confusion matrix for Support Vector Machine\n",
      "[[354  16]\n",
      " [ 41  30]]\n",
      "\n",
      "Confusion matrix for Decision Tree\n",
      "[[358  12]\n",
      " [ 58  13]]\n",
      "\n",
      "Confusion matrix for Naive Bayes\n",
      "[[370   0]\n",
      " [ 71   0]]\n"
     ]
    }
   ],
   "source": [
    "print(\"\\nConfusion matrix for K-Nearest Neighbor\") \n",
    "print(metrics.confusion_matrix(target_test, pred_KNN))\n",
    "print(\"\\nConfusion matrix for Random Forest\") \n",
    "print(metrics.confusion_matrix(target_test, pred_RF))\n",
    "print(\"\\nConfusion matrix for Support Vector Machine\")\n",
    "print(metrics.confusion_matrix(target_test, pred_SVC))\n",
    "print(\"\\nConfusion matrix for Decision Tree\")\n",
    "print(metrics.confusion_matrix(target_test, pred_DT))\n",
    "print(\"\\nConfusion matrix for Naive Bayes\")\n",
    "print(metrics.confusion_matrix(target_test, pred_NB))"
   ]
  },
  {
   "cell_type": "markdown",
   "metadata": {},
   "source": [
    "* From paired t-test and classification report it is observed that for all the classifiers the recall score of positive class i.e. predicting employee attrition `Yes` is less than 50%, Intially without doing any model fitting since this is binary classification problem the probablity of employee attrition `Yes` is 50% so some other technique need to be used for this problem."
   ]
  },
  {
   "cell_type": "markdown",
   "metadata": {},
   "source": [
    "## <u>Assumptions, Limitations and Strengths</u> <a class=\"anchor\" id=\"8\"></a> "
   ]
  },
  {
   "cell_type": "markdown",
   "metadata": {},
   "source": [
    "* Hyperparameter tuning is performed using 5-Folds cross validation with only two repetations beacuse of limitation of system's processing power going forward we can use more efficient cross validation methods.\n",
    "* We are tuning only certain number of hyperparameters, other hyperparameter can also be tuned for optimal values to get the maximum efficiency.\n",
    "* Since there is class imbalance, it is assumed that stratification equally distributes observations in train and test datasets with respect to class values.\n",
    "* In Decision Tree simply double split is performed, we don't have to make any suspicion whatsoever. That was about Decision Tree, yet it likewise applies for Random Forest as well.  \n",
    "* The dataset consists of only 1470 observations, out of which 237 were positives for this case. So, if there was more data then we could have derived some more strong relationship and in turn some strong prediction. \n",
    "* This data was a fictional data created by IBM data scientists. The prediction may or may not be true in the real world. More accurate data can be collected in future.\n",
    "* Only filter based feature selection methods are used to extract important features, instead wrapper based methods can be used to get more efficient results.\n",
    "* As we have tested classifiers on unseen data, it helps in model performance with the possibility of avoiding overfitting.\n",
    "* For two classifiers KNN and Naive Bayes the recall score of Attrition having `No` value is 100%. The overall accuracy of SVM is 87% which is quite good.\n",
    "* SVM has more number of hyperparameters which need to be tuned to get accurate results, also it might or might not give the best results. "
   ]
  },
  {
   "cell_type": "markdown",
   "metadata": {},
   "source": [
    "## <u>Summary & Conclusions</u> <a class=\"anchor\" id=\"9\"></a>"
   ]
  },
  {
   "cell_type": "markdown",
   "metadata": {},
   "source": [
    "Taking into consideration the performance of all the five classifiers it can be concluded that Support Vector Machine is giving the highest accuracy on train data with all 49 features, similarly on test data as well Support Vector Machine is giving the highest accuracy. It can be noted that Decision Tree with only 10 features giving efficiency of 70% as comapared to SVM which is giving efficiency of 76% with all 49 features, going forward with tuning other hyperparameters of Decision Tree we might achieve high efficiency. Also the accuracy of Support Vector Machine is highest as compared to other algorithms. Even though the accuracy of SVM's is highest its performance is statistically not significant than Random Forests, Naive Bayes and KNN.\n",
    "All the five models are giving low recall scores less than 50% for positive target class, since the goal is to predict employee Attrition more accurate data needs to collected or some other classifers might be considered for getting best results. Since there were only 237 observations of positive Attrition class it seems that model was not trained good enough for predicting Attrition with `Yes` value."
   ]
  },
  {
   "cell_type": "markdown",
   "metadata": {},
   "source": [
    "## References"
   ]
  },
  {
   "cell_type": "markdown",
   "metadata": {},
   "source": [
    "* Tutorials. (n.d.). Retrieved May 31,2020, from https://www.featureranking.com/tutorials/\n",
    "* Pavansubhash. (2017, March 31). IBM HR Analytics Employee Attrition & Performance. Retrieved May 31, 2020, from https://www.kaggle.com/pavansubhasht/ibm-hr-analytics-attrition-dataset"
   ]
  }
 ],
 "metadata": {
  "kernelspec": {
   "display_name": "Python 3",
   "language": "python",
   "name": "python3"
  },
  "language_info": {
   "codemirror_mode": {
    "name": "ipython",
    "version": 3
   },
   "file_extension": ".py",
   "mimetype": "text/x-python",
   "name": "python",
   "nbconvert_exporter": "python",
   "pygments_lexer": "ipython3",
   "version": "3.7.6"
  }
 },
 "nbformat": 4,
 "nbformat_minor": 2
}
